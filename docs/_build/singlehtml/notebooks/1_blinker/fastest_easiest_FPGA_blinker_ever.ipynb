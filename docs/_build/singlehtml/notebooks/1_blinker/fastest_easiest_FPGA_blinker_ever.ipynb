{
 "cells": [
  {
   "cell_type": "code",
   "execution_count": 1,
   "metadata": {},
   "outputs": [
    {
     "data": {
      "text/html": [
       "<style>\n",
       "@import url('http://fonts.googleapis.com/css?family=Source+Code+Pro');\n",
       "@import url('http://fonts.googleapis.com/css?family=Lora');\n",
       "\n",
       "//@import url('http://fonts.googleapis.com/css?family=Open+Sans');\n",
       "//@import url('http://fonts.googleapis.com/css?family=Vollkorn');\n",
       "//@import url('http://fonts.googleapis.com/css?family=Karla');\n",
       "//@import url('http://fonts.googleapis.com/css?family=Poppins');\n",
       "//@import url('http://fonts.googleapis.com/css?family=Arimo');\n",
       "//@import url('http://fonts.googleapis.com/css?family=Roboto');\n",
       "//@import url('http://fonts.googleapis.com/css?family=Lato');\n",
       "//@import url('http://fonts.googleapis.com/css?family=Domine');\n",
       "//@import url('http://fonts.googleapis.com/css?family=Chivo');\n",
       "//@import url('http://fonts.googleapis.com/css?family=Cardo');\n",
       "//@import url('http://fonts.googleapis.com/css?family=Arvo');\n",
       "//@import url('http://fonts.googleapis.com/css?family=Crimson+Text');\n",
       "//@import url('http://fonts.googleapis.com/css?family=Ubuntu');\n",
       "//@import url('http://fonts.googleapis.com/css?family=Fontin');\n",
       "//@import url('http://fonts.googleapis.com/css?family=Raleway');\n",
       "//@import url('http://fonts.googleapis.com/css?family=Merriweather');\n",
       "\n",
       "\n",
       ".CodeMirror pre {\n",
       "    font-family: 'Source Code Pro', Consolas, monocco, monospace;\n",
       "}\n",
       "    div.cell{\n",
       "        //width: 950px;\n",
       "        margin-left: 0% !important;\n",
       "        margin-right: auto;\n",
       "    }\n",
       "    div.text_cell_render{\n",
       "        font-family: 'Lora';\n",
       "        //font-family: 'Open Sans';\n",
       "        //font-family: 'Karla',verdana,arial,sans-serif;\n",
       "        //font-family: 'Roboto',verdana,arial,sans-serif;\n",
       "        //font-family: 'Lato',verdana,arial,sans-serif;\n",
       "        //font-family: 'Domine',verdana,arial,sans-serif;\n",
       "        //font-family: 'Chivo',verdana,arial,sans-serif;\n",
       "        //font-family: 'Cardo',verdana,arial,sans-serif;\n",
       "        //font-family: 'Arvo',verdana,arial,sans-serif;\n",
       "        //font-family: 'Poppins',verdana,arial,sans-serif;\n",
       "        //font-family: 'Ubuntu',verdana,arial,sans-serif;\n",
       "        //font-family: 'Fontin',verdana,arial,sans-serif;\n",
       "        //font-family: 'Raleway',verdana,arial,sans-serif;\n",
       "        //font-family: 'Merriweather',verdana,arial,sans-serif;\n",
       "        //font-family: 'Crimson Text', verdana,arial,sans-serif;\n",
       "        //font-family: verdana,arial,sans-serif;\n",
       "        //font-family: arial,sans-serif;\n",
       "        line-height: 125%;\n",
       "        font-size: 130%;\n",
       "        text-align: justify;\n",
       "        text-justify:inter-word;\n",
       "    }\n",
       "    div.text_cell code {\n",
       "        background: transparent;\n",
       "        color: #000000;\n",
       "        font-weight: 400;\n",
       "        font-size: 12pt;\n",
       "        //font-style: bold;\n",
       "        font-family:  'Source Code Pro', Consolas, monocco, monospace;\n",
       "   }\n",
       "    h1 {\n",
       "        font-family: 'Open sans',verdana,arial,sans-serif;\n",
       "\t}\n",
       "\n",
       "    div.input_area {\n",
       "        background: #F6F6F9;\n",
       "        border: 1px solid #586e75;\n",
       "    }\n",
       "\n",
       "    .text_cell_render h1 {\n",
       "        font-weight: 400;\n",
       "        font-size: 30pt;\n",
       "        line-height: 100%;\n",
       "        color:#c76c0c;\n",
       "        margin-bottom: 0.5em;\n",
       "        margin-top: 1em;\n",
       "        display: block;\n",
       "        white-space: wrap;\n",
       "        text-align: left;\n",
       "    }\n",
       "    h2 {\n",
       "        font-family: 'Open sans',verdana,arial,sans-serif;\n",
       "        text-align: left;\n",
       "    }\n",
       "    .text_cell_render h2 {\n",
       "        font-weight: 500;\n",
       "        font-size: 16pt;\n",
       "        font-style: italic;\n",
       "        line-height: 100%;\n",
       "        color:#c76c0c;\n",
       "        margin-bottom: 0.5em;\n",
       "        margin-top: 1.5em;\n",
       "        display: block;\n",
       "        white-space: wrap;\n",
       "        text-align: left;\n",
       "    }\n",
       "    h3 {\n",
       "        font-family: 'Open sans',verdana,arial,sans-serif;\n",
       "    }\n",
       "    .text_cell_render h3 {\n",
       "        font-weight: 500;\n",
       "        font-size: 14pt;\n",
       "        line-height: 100%;\n",
       "        color:#d77c0c;\n",
       "        margin-bottom: 0.5em;\n",
       "        margin-top: 2em;\n",
       "        display: block;\n",
       "        white-space: wrap;\n",
       "        text-align: left;\n",
       "    }\n",
       "    h4 {\n",
       "        font-family: 'Open sans',verdana,arial,sans-serif;\n",
       "    }\n",
       "    .text_cell_render h4 {\n",
       "        font-weight: 100;\n",
       "        font-size: 14pt;\n",
       "        color:#d77c0c;\n",
       "        margin-bottom: 0.5em;\n",
       "        margin-top: 0.5em;\n",
       "        display: block;\n",
       "        white-space: nowrap;\n",
       "    }\n",
       "    h5 {\n",
       "        font-family: 'Open sans',verdana,arial,sans-serif;\n",
       "    }\n",
       "\n",
       "    .text_cell_render h5 {\n",
       "        font-weight: 200;\n",
       "        font-style: normal;\n",
       "        color: #1d3b84;\n",
       "        font-size: 16pt;\n",
       "        margin-bottom: 0em;\n",
       "        margin-top: 0.5em;\n",
       "        display: block;\n",
       "        white-space: nowrap;\n",
       "    }\n",
       "    div.output_subarea.output_text.output_pyout {\n",
       "        overflow-x: auto;\n",
       "        overflow-y: scroll;\n",
       "        max-height: 50000px;\n",
       "    }\n",
       "    div.output_subarea.output_stream.output_stdout.output_text {\n",
       "        overflow-x: auto;\n",
       "        overflow-y: scroll;\n",
       "        max-height: 50000px;\n",
       "    }\n",
       "    div.output_wrapper{\n",
       "        margin-top:0.2em;\n",
       "        margin-bottom:0.2em;\n",
       "}\n",
       "\n",
       "    .rendered_html table {\n",
       "        font-size: 100%;\n",
       "    }\n",
       "\n",
       "    code{\n",
       "        font-size: 6pt;\n",
       "\n",
       "    }\n",
       "    .rendered_html code{\n",
       "    background-color: transparent;\n",
       "    }\n",
       "    ul{\n",
       "        margin: 2em;\n",
       "    }\n",
       "    ul li{\n",
       "        padding-left: 0.5em;\n",
       "        margin-bottom: 0.5em;\n",
       "        margin-top: 0.5em;\n",
       "    }\n",
       "    ul li li{\n",
       "        padding-left: 0.2em;\n",
       "        margin-bottom: 0.2em;\n",
       "        margin-top: 0.2em;\n",
       "    }\n",
       "    ol{\n",
       "        margin: 2em;\n",
       "    }\n",
       "    ol li{\n",
       "        padding-left: 0.5em;\n",
       "        margin-bottom: 0.5em;\n",
       "        margin-top: 0.5em;\n",
       "    }\n",
       "    ul li{\n",
       "        padding-left: 0.5em;\n",
       "        margin-bottom: 0.5em;\n",
       "        margin-top: 0.2em;\n",
       "    }\n",
       "    a:link{\n",
       "       color:#447adb;\n",
       "    }\n",
       "    a:visited{\n",
       "       color: #1d3b84;\n",
       "    }\n",
       "    a:hover{\n",
       "       color: #1d3b84;\n",
       "    }\n",
       "    a:focus{\n",
       "       color:#447adb;\n",
       "    }\n",
       "    a:active{\n",
       "       font-weight: bold;\n",
       "       color:#447adb;\n",
       "    }\n",
       "    .rendered_html :link {\n",
       "       text-decoration: underline;\n",
       "    }\n",
       "    .rendered_html :hover {\n",
       "       text-decoration: none;\n",
       "    }\n",
       "    .rendered_html :visited {\n",
       "      text-decoration: none;\n",
       "    }\n",
       "    .rendered_html :focus {\n",
       "      text-decoration: none;\n",
       "    }\n",
       "    .rendered_html :active {\n",
       "      text-decoration: none;\n",
       "    }\n",
       "    .warning{\n",
       "        color: rgb( 240, 20, 20 )\n",
       "    }\n",
       "    hr {\n",
       "      color: #f3f3f3;\n",
       "      background-color: #f3f3f3;\n",
       "      height: 1px;\n",
       "    }\n",
       "    blockquote{\n",
       "      display:block;\n",
       "      background: #fcfcfc;\n",
       "      border-left: 5px solid #c76c0c;\n",
       "      font-family: 'Open sans',verdana,arial,sans-serif;\n",
       "      width:680px;\n",
       "      padding: 10px 10px 10px 10px;\n",
       "      text-align:justify;\n",
       "      text-justify:inter-word;\n",
       "      }\n",
       "      blockquote p {\n",
       "        margin-bottom: 0;\n",
       "        line-height: 125%;\n",
       "        font-size: 100%;\n",
       "      }\n",
       "</style>\n",
       "<script>\n",
       "    MathJax.Hub.Config({\n",
       "                        TeX: {\n",
       "                           extensions: [\"AMSmath.js\"],\n",
       "                           equationNumbers: { autoNumber: \"AMS\", useLabelIds: true}\n",
       "                           },\n",
       "                tex2jax: {\n",
       "                    inlineMath: [ ['$','$'], [\"\\\\(\",\"\\\\)\"] ],\n",
       "                    displayMath: [ ['$$','$$'], [\"\\\\[\",\"\\\\]\"] ]\n",
       "                },\n",
       "                displayAlign: 'center', // Change this to 'center' to center equations.\n",
       "                \"HTML-CSS\": {\n",
       "                    scale:95,\n",
       "                        availableFonts: [],\n",
       "                        preferredFont:null,\n",
       "                        webFont: \"TeX\",\n",
       "                    styles: {'.MathJax_Display': {\"margin\": 4}}\n",
       "                }\n",
       "        });\n",
       "</script>\n"
      ],
      "text/plain": [
       "<IPython.core.display.HTML object>"
      ]
     },
     "execution_count": 1,
     "metadata": {},
     "output_type": "execute_result"
    }
   ],
   "source": [
    "from IPython.core.display import HTML\n",
    "HTML(open('../css/custom.css', 'r').read())"
   ]
  },
  {
   "cell_type": "markdown",
   "metadata": {},
   "source": [
    "**_Note_**: If you're reading this as a static HTML page, you can also get it as an\n",
    "executable Jupyter notebook [here](https://github.com/xesscorp/pygmyhdl/tree/master/examples)."
   ]
  },
  {
   "cell_type": "markdown",
   "metadata": {},
   "source": [
    "# The Fastest, Easiest FPGA Blinker, *Ever!*"
   ]
  },
  {
   "cell_type": "markdown",
   "metadata": {},
   "source": [
    "Everyone who wants to get started with [FPGAs [1]](#FPGA_Intro) has two thoughts:\n",
    "\n",
    "1. \"I don't know how to program an FPGA.\"\n",
    "2. \"FPGA programming tools are large and complicated.\"\n",
    "\n",
    "FPGAs are typically programmed using hardware description languages (HDLs) like VHDL and Verilog.\n",
    "Someday you might need to learn these languages, but not today!\n",
    "This tutorial uses [MyHDL](http://http://myhdl.org/) - a simple HDL based on the Python programming language.\n",
    "Not only is MyHDL easier to learn, you can also design, simulate and program an FPGA without leaving the\n",
    "Jupyter notebook in your browser.\n",
    "\n",
    "Programming tools from the big FPGA vendors are multi-gigabyte packages with convoluted interfaces between\n",
    "subprograms that perform mysterious functions.\n",
    "Someday you might need to learn these tools, but not today!\n",
    "This tutorial uses [APIO](https://github.com/FPGAwars/apio) and the\n",
    "[icestorm](http://www.clifford.at/icestorm/) programming tools for the\n",
    "iCE40 FPGA family from Lattice Semiconductor.\n",
    "These FOSS tools take up less than 200 MB and consist of command-line programs with simple options,\n",
    "most of which you'll never have to use.\n",
    "\n",
    "With these tools and this notebook, you will go from [knowing nothing [2]](#Binary_Numbers) to creating an LED blinker\n",
    "with an FPGA in less than twenty minutes. The rest of this notebook will step you through:\n",
    "\n",
    "1. [Setting up your FPGA programming environment.](#Setup)\n",
    "2. [Writing a MyHDL program for a logic circuit that blinks an LED.](#Coding)\n",
    "3. [Simulating the program to check the operation of the blinker.](#Simulating)\n",
    "4. [Compiling the program into a bitstream that can be loaded into the FPGA.](#Compiling)\n",
    "5. [Downloading the bitstream into the FPGA.](#Downloading)"
   ]
  },
  {
   "cell_type": "markdown",
   "metadata": {},
   "source": [
    "## <a name=\"Setup\"></a>Setting Up Your FPGA Programming Environment"
   ]
  },
  {
   "cell_type": "markdown",
   "metadata": {},
   "source": [
    "In order to use the FPGA tools, you'll need some type of computer with Python installed.\n",
    "It can be any kind of computer - linux box, Raspberry Pi (RPi), Windows PC - it doesn't really matter.\n",
    "For linux computers or the RPi, Python should already be installed.\n",
    "For Windows, not so much so you can\n",
    "[follow these instructions to load Python](https://www.howtogeek.com/197947/how-to-install-python-on-windows/).\n",
    "\n",
    "Now you should have a utility called `pip` that helps you install other Python modules.\n",
    "APIO is one such module, so install it with the command:\n",
    "\n",
    "    pip install apio\n",
    "    \n",
    "APIO manages installing and running the FPGA tools you'll need.\n",
    "The easiest way to install the tools is with this command:\n",
    "\n",
    "    apio install -a\n",
    "    \n",
    "This command loads *all* the FPGA tools even though you really only need icestorm for this tutorial.\n",
    "\n",
    "The next module you need is [PygMyHDL]():\n",
    "\n",
    "    pip install pygmyhdl\n",
    "    \n",
    "This installs MyHDL and a wrapper that makes it slightly easier to use.\n",
    "It also loads some utilities for monitoring and displaying\n",
    "logic signals as waveforms or tables during simulations.\n",
    "\n",
    "Finally, you can install the Jupyter package that lets you do all your FPGA development\n",
    "in a browser tab:\n",
    "\n",
    "    pip install jupyter\n",
    "    \n",
    "(If you don't want to use Jupyter, I'll show you later how to [do everything from the command line](#No_Jupyter).)\n",
    "\n",
    "If you already had Python installed, then setting up the rest of these tools should have taken less than five minutes.\n",
    "You can't even download the multi-gigabyte installer for a vendor-supplied FPGA tool in that amount of time."
   ]
  },
  {
   "cell_type": "markdown",
   "metadata": {},
   "source": [
    "## <a name=\"Coding\"></a>The MyHDL Blinker Program"
   ]
  },
  {
   "cell_type": "markdown",
   "metadata": {},
   "source": [
    "The LED blinker is the hardware equivalent of the \"Hello, World\" program: it takes a clock signal\n",
    "as input and outputs a signal that turns an LED on and off.\n",
    "I'll show the design of a blinker using MyHDL in this Jupyter notebook, but you could\n",
    "also place this code into a file and execute it with Python.\n",
    "\n",
    "The first thing you have to do is import the PygMyHDL module so you can use the features\n",
    "of MyHDL and the wrapper functions:"
   ]
  },
  {
   "cell_type": "code",
   "execution_count": 2,
   "metadata": {
    "collapsed": true
   },
   "outputs": [],
   "source": [
    "from pygmyhdl import *"
   ]
  },
  {
   "cell_type": "markdown",
   "metadata": {},
   "source": [
    "After importing, set up the module to get it ready for what comes next:"
   ]
  },
  {
   "cell_type": "code",
   "execution_count": 3,
   "metadata": {
    "collapsed": true
   },
   "outputs": [],
   "source": [
    "initialize()"
   ]
  },
  {
   "cell_type": "markdown",
   "metadata": {},
   "source": [
    "Next, the logic that blinks the LED is defined\n",
    "(don't worry, I'll step you through it!):"
   ]
  },
  {
   "cell_type": "code",
   "execution_count": 4,
   "metadata": {
    "collapsed": true
   },
   "outputs": [],
   "source": [
    "# The following function will define a chunk of logic, hence the @chunk decorator precedes it.\n",
    "# The blinker logic takes three inputs:\n",
    "#   clk_i:  This is a clock signal input.\n",
    "#   led_o:  This is an output signal that drives an LED on and off.\n",
    "#   length: This is the number of bits in the counter that generates the led_o output.\n",
    "@chunk\n",
    "def blinker(clk_i, led_o, length):\n",
    "    \n",
    "    # Define a multi-bit signal (or bus) with length bits.\n",
    "    # Assign it a display name of 'cnt' for use during simulation.\n",
    "    cnt = Bus(length, name='cnt')\n",
    "    \n",
    "    # Define a piece of sequential logic. Every time there is a positive\n",
    "    # edge on the clock input (i.e., it goes from 0 -> 1), the value of\n",
    "    # cnt is increased by 1. So over a sequence of clock pulses, the\n",
    "    # cnt value will progress 0, 1, 2, 3, ...\n",
    "    @seq_logic(clk_i.posedge)\n",
    "    def counter_logic():\n",
    "        cnt.next = cnt + 1\n",
    "\n",
    "    # This is a piece of simple combinational logic. It just connects the\n",
    "    # most significant bit (MSB) of the counter to the LED output.\n",
    "    @comb_logic\n",
    "    def output_logic():\n",
    "        led_o.next = cnt[length-1]"
   ]
  },
  {
   "cell_type": "markdown",
   "metadata": {},
   "source": [
    "The blinker logic is encapsulated in a Python function that's preceded with the `@chunk` decorator.\n",
    "This decorator takes care of PygMyHDL's housekeeping chores and should be used on any function\n",
    "that defines digital hardware.\n",
    "\n",
    "The `blinker` function accepts two types of parameters: 1) normal Python objects like `length`,\n",
    "and 2) *signals* such as `clk_i` and `led_o`\n",
    "that convey single or multi-bit digital logic values in or out of the function.\n",
    "\n",
    "Another signal, `cnt`, is declared as the first statement in `blinker`.\n",
    "This is a multi-bit signal that holds the value of a binary counter.\n",
    "The number of bits in the counter is determined by the value of the `length` parameter.\n",
    "For example, if `length` is three, then the counter will have three bits with\n",
    "bit indices of 0, 1 and 2 (which is the *most significant bit* or MSB).\n",
    "\n",
    "The next portion of `blinker` defines the actual function of the counter.\n",
    "The `@seq_logic` decorator denotes that the following function\n",
    "describes some [*sequential logic*](https://en.wikipedia.org/wiki/Sequential_logic).\n",
    "The argument to the decorator, `clk_i.posedge`, indicates that the function\n",
    "will only be executed when the `clk_i` signal makes a transition from a logic 0\n",
    "to a logic 1 level.\n",
    "The function after the decorator, `counter_logic`, defines the operation of the counter:\n",
    "the next value in the `cnt` signal becomes the current value plus 1.\n",
    "So as a sequence of rising edges on `clk_i` is received, the value of `cnt` will\n",
    "increase.\n",
    "Once `cnt` reaches its maximum value (which would be `111`=7 for a three-bit counter),\n",
    "it *rolls over* and goes back to zero whereupon it continues counting upward.\n",
    "\n",
    "Following the counter logic is some [*combinational logic*](https://en.wikipedia.org/wiki/Combinational_logic)\n",
    "denoted by the `@comb_logic` decorator.\n",
    "The `output_logic` function just drives the next value of the `led_o` output with the binary value found\n",
    "in the MSB of the counter (as indicated by using the bit index `length-1`).\n",
    "The net result is that the `led_o` output will transition from logic 0 to 1\n",
    "like the input clock, but at a much slower rate.\n",
    "(You'll see this when you simulate the operation of the blinker.)"
   ]
  },
  {
   "cell_type": "markdown",
   "metadata": {},
   "source": [
    "After the blinker logic function is defined, a couple of signals are needed to connect it to a clock signal and an LED:"
   ]
  },
  {
   "cell_type": "code",
   "execution_count": 5,
   "metadata": {
    "collapsed": true
   },
   "outputs": [],
   "source": [
    "clk = Wire(name='clk')  # This is a single-bit signal that carries the clock input.\n",
    "led = Wire(name='led')  # This is another single-bit signal that receives the LED output."
   ]
  },
  {
   "cell_type": "markdown",
   "metadata": {},
   "source": [
    "Finally, the blinker logic is *instantiated* by calling the `blinker` function\n",
    "with the `clk` and `led` signals passed as arguments for its I/O ports:"
   ]
  },
  {
   "cell_type": "code",
   "execution_count": 6,
   "metadata": {
    "collapsed": true
   },
   "outputs": [],
   "source": [
    "blinker(clk_i=clk, led_o=led, length=3);  # Attach the clock and LED signals to a 3-bit blinker circuit."
   ]
  },
  {
   "cell_type": "markdown",
   "metadata": {},
   "source": [
    "While it's not done here, it's possible to call the `blinker` function several times using\n",
    "different output signals to create multiple, independent LED blinkers."
   ]
  },
  {
   "cell_type": "markdown",
   "metadata": {},
   "source": [
    "## <a name=\"Simulating\"></a>Simulating the Blinker"
   ]
  },
  {
   "cell_type": "markdown",
   "metadata": {},
   "source": [
    "Now that the LED blinker has been designed, it's time to see if it works.\n",
    "As a test, you can run a simple simulation that just toggles the clock input\n",
    "a number of times using the `clk_sim` utility:"
   ]
  },
  {
   "cell_type": "code",
   "execution_count": 7,
   "metadata": {},
   "outputs": [
    {
     "name": "stderr",
     "output_type": "stream",
     "text": [
      "<class 'myhdl.StopSimulation'>: No more events\n"
     ]
    }
   ],
   "source": [
    "clk_sim(clk, num_cycles=16)  # Pulse the clock input 16 times."
   ]
  },
  {
   "cell_type": "markdown",
   "metadata": {},
   "source": [
    "After the simulation completes, a graphical view of the waveforms for each of the named signals is generated\n",
    "using the `show_waveforms` utility of the [MyHDLPeek package](https://pypi.python.org/pypi/myhdlpeek):"
   ]
  },
  {
   "cell_type": "code",
   "execution_count": 8,
   "metadata": {},
   "outputs": [
    {
     "data": {
      "text/html": [
       "<div><script type=\"WaveDrom\">{\"signal\": [{\"wave\": \"01010101010101010101010101010101\", \"name\": \"clk\"}, {\"data\": [\"0\", \"1\", \"2\", \"3\", \"4\", \"5\", \"6\", \"7\", \"0\", \"1\", \"2\", \"3\", \"4\", \"5\", \"6\", \"7\", \"0\"], \"wave\": \"==.=.=.=.=.=.=.=.=.=.=.=.=.=.=.=\", \"name\": \"cnt\"}, {\"wave\": \"0......1.......0.......1.......0\", \"name\": \"led\"}]}</script></div>"
      ]
     },
     "metadata": {},
     "output_type": "display_data"
    },
    {
     "data": {
      "application/javascript": [
       "$.getScript(\"http://wavedrom.com/wavedrom.min.js\", function () {\n",
       "$.getScript(\"http://wavedrom.com/skins/default.js\", function () {\n",
       "WaveDrom.ProcessAll();});\n",
       "});\n"
      ]
     },
     "metadata": {},
     "output_type": "display_data"
    }
   ],
   "source": [
    "show_waveforms()"
   ]
  },
  {
   "cell_type": "markdown",
   "metadata": {},
   "source": [
    "You can also view the signal values in a tabular format:"
   ]
  },
  {
   "cell_type": "code",
   "execution_count": 9,
   "metadata": {},
   "outputs": [
    {
     "name": "stdout",
     "output_type": "stream",
     "text": [
      "  Time    clk    cnt    led\n",
      "------  -----  -----  -----\n",
      "     0      0      0      0\n",
      "     1      1      1      0\n",
      "     2      0      1      0\n",
      "     3      1      2      0\n",
      "     4      0      2      0\n",
      "     5      1      3      0\n",
      "     6      0      3      0\n",
      "     7      1      4      1\n",
      "     8      0      4      1\n",
      "     9      1      5      1\n",
      "    10      0      5      1\n",
      "    11      1      6      1\n",
      "    12      0      6      1\n",
      "    13      1      7      1\n",
      "    14      0      7      1\n",
      "    15      1      0      0\n",
      "    16      0      0      0\n",
      "    17      1      1      0\n",
      "    18      0      1      0\n",
      "    19      1      2      0\n",
      "    20      0      2      0\n",
      "    21      1      3      0\n",
      "    22      0      3      0\n",
      "    23      1      4      1\n",
      "    24      0      4      1\n",
      "    25      1      5      1\n",
      "    26      0      5      1\n",
      "    27      1      6      1\n",
      "    28      0      6      1\n",
      "    29      1      7      1\n",
      "    30      0      7      1\n",
      "    31      1      0      0\n"
     ]
    }
   ],
   "source": [
    "show_text_table()"
   ]
  },
  {
   "cell_type": "markdown",
   "metadata": {},
   "source": [
    "Looking at the waveforms, you can see the `led` output pulses low-high one time for every eight pulses\n",
    "of the `clk` input.\n",
    "In general, for an $N$-bit counter, the `led` signal will pulse at ${1}\\textrm{ / }{2^N}$ the frequency of the `clk` signal."
   ]
  },
  {
   "cell_type": "markdown",
   "metadata": {},
   "source": [
    "## <a name=\"Compiling\"></a>Compiling into a Bitstream"
   ]
  },
  {
   "cell_type": "markdown",
   "metadata": {},
   "source": [
    "Since the simulation shows the blinker is working, it's time to [compile [3]](#Compile_Steps) the MyHDL code into a bitstream for an FPGA.\n",
    "The FPGA used in this tutorial is the\n",
    "[Lattice Semiconductor iCE40HX1K](http://www.latticesemi.com/~/media/LatticeSemi/Documents/DataSheets/iCE/iCE40LPHXFamilyDataSheet.pdf)\n",
    "that is housed on the\n",
    "[iCEstick evaluation board](http://www.latticesemi.com/~/media/LatticeSemi/Documents/UserManuals/EI/icestickusermanual.pdf):\n",
    "\n",
    "![icestick FPGA evaluation board.](icestick.jpg)\n",
    "\n",
    "In addition to the FPGA, the iCEstick also includes a 12 MHz clock oscillator and five LEDs\n",
    "so it's perfect for the LED blinker.\n",
    "Well, *almost*.\n",
    "Since the clock is 12 MHz, dividing it by eight will cause the LED to turn on and off at a 1.5 MHz rate.\n",
    "Unless you're Superman, your eyes won't notice much of anything over 30 Hz.\n",
    "The counter in the blinker is going to need more bits to get the LED blink rate down to something less than 5 Hz.\n",
    "If you make the counter length 22 bits, then the blink rate is reduced to \n",
    "$12,000,000 \\textrm{ Hz / } 2^{22} = 2.9 \\textrm{ Hz}$, or about three times per second.\n",
    "Even *I* can see that.\n",
    "\n",
    "After adjusting the counter size, the blinker code has to be *synthesized* into an intermediate form\n",
    "which is then *placed-and-routed* into a particular FPGA.\n",
    "This is done using the [Yosys synthesizer](http://www.clifford.at/yosys/) and\n",
    "[Arachne-pnr](https://github.com/cseed/arachne-pnr), respectively, that are included in the icestorm tools.\n",
    "But Yosys works with the Verilog HDL and you're using MyHDL!\n",
    "Therefore, you'll have to use one of MyHDL's *conversion functions* to generate\n",
    "a Verilog version of the blinker code:"
   ]
  },
  {
   "cell_type": "code",
   "execution_count": 10,
   "metadata": {},
   "outputs": [
    {
     "name": "stderr",
     "output_type": "stream",
     "text": [
      "c:\\python35-32\\lib\\site-packages\\ipykernel_launcher.py:1: UserWarning: \n",
      "    toVerilog(): Deprecated usage: See http://dev.myhdl.org/meps/mep-114.html\n",
      "  \"\"\"Entry point for launching an IPython kernel.\n"
     ]
    },
    {
     "data": {
      "text/plain": [
       "[<myhdl._always_comb._AlwaysComb at 0x51f68f0>,\n",
       " <myhdl._always_seq._AlwaysSeq at 0x52a28d0>]"
      ]
     },
     "execution_count": 10,
     "metadata": {},
     "output_type": "execute_result"
    }
   ],
   "source": [
    "toVerilog(blinker, clk_i=clk, led_o=led, length=22) # Give it the function name, signal connections, and counter size."
   ]
  },
  {
   "cell_type": "markdown",
   "metadata": {},
   "source": [
    "The `toVerilog` function creates a file called `blinker.v`\n",
    "containing the following Verilog code:"
   ]
  },
  {
   "cell_type": "code",
   "execution_count": 11,
   "metadata": {},
   "outputs": [
    {
     "name": "stdout",
     "output_type": "stream",
     "text": [
      "// File: blinker.v\n",
      "// Generated by MyHDL 1.0dev\n",
      "// Date: Wed Aug 30 23:23:57 2017\n",
      "\n",
      "\n",
      "`timescale 1ns/10ps\n",
      "\n",
      "module blinker (\n",
      "    clk_i,\n",
      "    led_o\n",
      ");\n",
      "\n",
      "\n",
      "input clk_i;\n",
      "output led_o;\n",
      "wire led_o;\n",
      "\n",
      "reg [21:0] cnt;\n",
      "\n",
      "\n",
      "\n",
      "\n",
      "assign led_o = cnt[(22 - 1)];\n",
      "\n",
      "\n",
      "always @(posedge clk_i) begin: BLINKER_LOC_INSTS_CHUNK_INSTS_K\n",
      "    cnt <= (cnt + 1);\n",
      "end\n",
      "\n",
      "endmodule\n",
      "\n"
     ]
    }
   ],
   "source": [
    "print(open('blinker.v').read())"
   ]
  },
  {
   "cell_type": "markdown",
   "metadata": {},
   "source": [
    "So now you're ready to compile the Verilog code and program your first FPGA, right?\n",
    "Well, *almost*, but there's one more detail to handle.\n",
    "The clock oscillator and LEDs on the iCEstick are hooked to specific pins of the physical FPGA chip\n",
    "as follows:\n",
    "\n",
    "| iCEstick Function &nbsp;&nbsp;&nbsp;&nbsp; | FPGA Pin |\n",
    "|:------------------|:--------:|\n",
    "| 12 MHz clock osc. | 21       |\n",
    "| LED D1            | 99       |\n",
    "| LED D2            | 98       |\n",
    "| LED D3            | 97       |\n",
    "| LED D4            | 96       |\n",
    "| LED D5            | 95       |\n",
    "\n",
    "You need to tell the icestorm tools which pins the signals for the blinker are attached to.\n",
    "This is done with a *pin constraints file* (PCF) that associates each signal name\n",
    "in the parameter list of the `blinker` function with a pin of the FPGA.\n",
    "You can create the PCF using a text editor, or use Python like this:"
   ]
  },
  {
   "cell_type": "code",
   "execution_count": 12,
   "metadata": {
    "collapsed": true
   },
   "outputs": [],
   "source": [
    "with open('blinker.pcf', 'w') as pcf:\n",
    "    pcf.write(\n",
    "'''\n",
    "set_io led_o 99\n",
    "set_io clk_i 21\n",
    "'''\n",
    "    )"
   ]
  },
  {
   "cell_type": "markdown",
   "metadata": {},
   "source": [
    "Now you really are ready to program the FPGA.\n",
    "The [first step [4]](#Manual_Compile) is to synthesize the Verilog code into an intermediate form\n",
    "using Yosys:"
   ]
  },
  {
   "cell_type": "code",
   "execution_count": 13,
   "metadata": {
    "collapsed": true
   },
   "outputs": [],
   "source": [
    "!yosys -q -p \"synth_ice40 -blif blinker.blif\" blinker.v"
   ]
  },
  {
   "cell_type": "markdown",
   "metadata": {},
   "source": [
    "The options modify the operation of Yosys as follows:\n",
    "\n",
    "| Option             | Effect   |\n",
    "|:-------------------|:---------|\n",
    "| `-q`               | Execute in quiet mode so you're not bombarded with so many progress messages.|\n",
    "| `-p \"synth_ice40 -blif blinker.blif\"` | Synthesize for the iCE40 family of FPGAs and output the intermediate code to the file `blinker.blif`.|\n"
   ]
  },
  {
   "cell_type": "markdown",
   "metadata": {},
   "source": [
    "The `blinker.blif` file with the synthesized intermediate code is then placed-and-routed\n",
    "with the Arachne-pnr utility:"
   ]
  },
  {
   "cell_type": "code",
   "execution_count": 14,
   "metadata": {
    "collapsed": true
   },
   "outputs": [],
   "source": [
    "!arachne-pnr -q -d 1k -p blinker.pcf blinker.blif -o blinker.asc"
   ]
  },
  {
   "cell_type": "markdown",
   "metadata": {},
   "source": [
    "The options specify the following place-and-route operations:\n",
    "\n",
    "| Option            | Effect   |\n",
    "|:------------------|:---------|\n",
    "| `-q`              | Execute in quiet mode.|\n",
    "| `-d 1k\"`          | Specifically target the iCE40HX1K FPGA.|\n",
    "| `-p blinker.pcf`  | Look for pin assignments in `blinker.pcf`.|\n",
    "| `-o blinker.asc`  | Output the bitstream to `blinker.asc`.|\n",
    "\n",
    "The output of Arachne-pnr is a *bitstream* of 1's and 0's that specifies how the logic\n",
    "cells in the FPGA are connected through internal switches to implement the blinker logic.\n",
    "The bitstream uses ASCII characters to represent the bits, so another utility is used to\n",
    "convert it into a binary file:"
   ]
  },
  {
   "cell_type": "code",
   "execution_count": 15,
   "metadata": {
    "collapsed": true
   },
   "outputs": [],
   "source": [
    "!icepack blinker.asc blinker.bin"
   ]
  },
  {
   "cell_type": "markdown",
   "metadata": {},
   "source": [
    "## <a name=\"Downloading\"></a>Downloading to the FPGA"
   ]
  },
  {
   "cell_type": "markdown",
   "metadata": {},
   "source": [
    "At long last, you are ready to program the actual FPGA chip!\n",
    "First, [plug the iCEstick into a USB port on your computer [5]](#Windows_Drivers).\n",
    "Then issue the following command that will pass the `blinker.bin` binary bitstream\n",
    "through the USB port and into the FPGA on the iCEstick:"
   ]
  },
  {
   "cell_type": "code",
   "execution_count": 16,
   "metadata": {},
   "outputs": [
    {
     "name": "stderr",
     "output_type": "stream",
     "text": [
      "init..\n",
      "cdone: high\n",
      "reset..\n",
      "cdone: low\n",
      "flash ID: 0x20 0xBA 0x16 0x10 0x00 0x00 0x23 0x12 0x67 0x21 0x13 0x00 0x49 0x00 0x34 0x04 0x11 0x11 0x20 0x31\n",
      "file size: 32220\n",
      "erase 64kB sector at 0x000000..\n",
      "programming..\n",
      "reading..\n",
      "VERIFY OK\n",
      "cdone: high\n",
      "Bye.\n"
     ]
    }
   ],
   "source": [
    "!iceprog blinker.bin"
   ]
  },
  {
   "cell_type": "markdown",
   "metadata": {},
   "source": [
    "After the download completes, the blinker logic starts to run inside the FPGA,\n",
    "converting the 12 MHz clock into a 3 Hz blinking of the LED.\n",
    "\n",
    "![blinking LED](blinker.gif)\n",
    "\n",
    "Looks like that's about 3 Hz to me!"
   ]
  },
  {
   "cell_type": "markdown",
   "metadata": {},
   "source": [
    "## <a name=\"No_Jupyter\"></a>But I Don't *Like* Jupyter!"
   ]
  },
  {
   "cell_type": "markdown",
   "metadata": {},
   "source": [
    "OK, maybe you're one of *those* guys, so here's how to do it all from the command line.\n",
    "\n",
    "First, create a file called `blinker.py` using your favorite text editor (which is probably vi or Emacs, I guess).\n",
    "The file just contains the same MyHDL code I showed above.\n",
    "Here's my version of it:"
   ]
  },
  {
   "cell_type": "code",
   "execution_count": 17,
   "metadata": {},
   "outputs": [
    {
     "name": "stdout",
     "output_type": "stream",
     "text": [
      "from pygmyhdl import *\n",
      "\n",
      "initialize()\n",
      "\n",
      "@chunk\n",
      "def blinker(clk_i, led_o, length):\n",
      "    cnt = Bus(length, name='cnt')\n",
      "\n",
      "    @seq_logic(clk_i.posedge)\n",
      "    def logic_b():\n",
      "        cnt.next = cnt + 1\n",
      "\n",
      "    @comb_logic\n",
      "    def logic_a():\n",
      "        led_o.next = cnt[length-1]\n",
      "\n",
      "clk = Wire(name='clk')\n",
      "led = Wire(name='led')\n",
      "blinker(clk_i=clk, led_o=led, length=3)\n",
      "\n",
      "# Run a simulation of the LED blinker.\n",
      "clk_sim(clk, num_cycles=16)\n",
      "\n",
      "# Not executing in Jupyter, so don't display waveforms.\n",
      "#show_waveforms()\n",
      "\n",
      "# Show the simulation results as a table.\n",
      "show_text_table()\n",
      "\n",
      "# Output the Verilog code for the blinker.\n",
      "toVerilog(blinker, clk_i=clk, led_o=led, length=22)\n",
      "\n",
      "# Create the pin constraint file.\n",
      "with open('blinker.pcf', 'w') as pcf:\n",
      "    pcf.write(\n",
      "'''\n",
      "set_io led_o 99\n",
      "set_io clk_i 21\n",
      "'''\n",
      "    )\n"
     ]
    }
   ],
   "source": [
    "print(open('blinker.py').read())"
   ]
  },
  {
   "cell_type": "markdown",
   "metadata": {},
   "source": [
    "Then, just execute the file with Python:"
   ]
  },
  {
   "cell_type": "code",
   "execution_count": 18,
   "metadata": {},
   "outputs": [
    {
     "name": "stdout",
     "output_type": "stream",
     "text": [
      "  Time    clk    cnt    led\n",
      "------  -----  -----  -----\n",
      "     0      0      0      0\n",
      "     1      1      1      0\n",
      "     2      0      1      0\n",
      "     3      1      2      0\n",
      "     4      0      2      0\n",
      "     5      1      3      0\n",
      "     6      0      3      0\n",
      "     7      1      4      1\n",
      "     8      0      4      1\n",
      "     9      1      5      1\n",
      "    10      0      5      1\n",
      "    11      1      6      1\n",
      "    12      0      6      1\n",
      "    13      1      7      1\n",
      "    14      0      7      1\n",
      "    15      1      0      0\n",
      "    16      0      0      0\n",
      "    17      1      1      0\n",
      "    18      0      1      0\n",
      "    19      1      2      0\n",
      "    20      0      2      0\n",
      "    21      1      3      0\n",
      "    22      0      3      0\n",
      "    23      1      4      1\n",
      "    24      0      4      1\n",
      "    25      1      5      1\n",
      "    26      0      5      1\n",
      "    27      1      6      1\n",
      "    28      0      6      1\n",
      "    29      1      7      1\n",
      "    30      0      7      1\n",
      "    31      1      0      0\n"
     ]
    },
    {
     "name": "stderr",
     "output_type": "stream",
     "text": [
      "<class 'myhdl.StopSimulation'>: No more events\n",
      "blinker.py:31: UserWarning: \n",
      "    toVerilog(): Deprecated usage: See http://dev.myhdl.org/meps/mep-114.html\n",
      "  toVerilog(blinker, clk_i=clk, led_o=led, length=22)\n"
     ]
    }
   ],
   "source": [
    "!python blinker.py"
   ]
  },
  {
   "cell_type": "markdown",
   "metadata": {},
   "source": [
    "At this point, you will have the `blinker.v` Verilog file and the `blinker.pcf` file with the pin assignments.\n",
    "Then it's just a matter of running the same icestorm commands as I showed above:"
   ]
  },
  {
   "cell_type": "code",
   "execution_count": 19,
   "metadata": {},
   "outputs": [
    {
     "name": "stderr",
     "output_type": "stream",
     "text": [
      "init..\n",
      "cdone: high\n",
      "reset..\n",
      "cdone: low\n",
      "flash ID: 0x20 0xBA 0x16 0x10 0x00 0x00 0x23 0x12 0x67 0x21 0x13 0x00 0x49 0x00 0x34 0x04 0x11 0x11 0x20 0x31\n",
      "file size: 32220\n",
      "erase 64kB sector at 0x000000..\n",
      "programming..\n",
      "reading..\n",
      "VERIFY OK\n",
      "cdone: high\n",
      "Bye.\n"
     ]
    }
   ],
   "source": [
    "!yosys -q -p \"synth_ice40 -blif blinker.blif\" blinker.v\n",
    "!arachne-pnr -q -d 1k -p blinker.pcf blinker.blif -o blinker.asc\n",
    "!icepack blinker.asc blinker.bin\n",
    "!iceprog blinker.bin"
   ]
  },
  {
   "cell_type": "markdown",
   "metadata": {},
   "source": [
    "And that's it! The LED on your iCEstick board should be blinking."
   ]
  },
  {
   "cell_type": "markdown",
   "metadata": {},
   "source": [
    "## Summary"
   ]
  },
  {
   "cell_type": "markdown",
   "metadata": {
    "collapsed": true
   },
   "source": [
    "If you've made it here, congratulations!\n",
    "You've completed your first FPGA design.\n",
    "You've coded a design in MyHDL, simulated it, compiled it, and downloaded it to an FPGA and watched it run.\n",
    "The design was simple, but it encompassed a *complete slice* of the FPGA design process.\n",
    "There is much more to learn (like hierarchical design, state machines, etc.), but that\n",
    "entails more of a broadening of the slice rather than adding more steps."
   ]
  },
  {
   "cell_type": "markdown",
   "metadata": {},
   "source": [
    "## Notes"
   ]
  },
  {
   "cell_type": "markdown",
   "metadata": {},
   "source": [
    "[1] <a name=\"FPGA_Intro\"></a>Maybe you don't even know what FPGAs are. Chapter 1 of this \n",
    "  [online book](http://www.xess.com/static/media/appnotes/FpgasNowWhatBook.pdf) is a good introduction.\n",
    "\n",
    "[2] <a name=\"Binary_Numbers\"></a>You might want to know a bit about binary numbers and arithmetic.\n",
    "  [This chapter](http://nand2tetris.org/chapters/chapter%2002.pdf) gives a good explanation.\n",
    "\n",
    "[3] <a name=\"Compile_Steps\"></a>A high-level description of what happens when HDL code is compiled for an FPGA\n",
    "  is given in the first few pages of Chapter 2 in this\n",
    "  [online book](http://www.xess.com/static/media/appnotes/FpgasNowWhatBook.pdf).\n",
    "\n",
    "[4] <a name=\"Manual_Compile\"></a>The APIO package can compile the bitstream using a single command.\n",
    "  Unfortunately the current version has a dependency that only lets it run under Python&nbsp;2. Since I also wanted to\n",
    "  support Python&nbsp;3, I'm showing the explicit steps for creating a bitstream using the icestorm utilities.\n",
    "\n",
    "[5] <a name=\"Windows_Drivers\"></a>You'll need to manually install some drivers to use an iCEstick with \n",
    "  the icestorm tools on Windows.\n",
    "  [Here's the steps to do that.](https://github.com/FPGAwars/libftdi-cross-builder/wiki#driver-installation)"
   ]
  }
 ],
 "metadata": {
  "kernelspec": {
   "display_name": "Python 3",
   "language": "python",
   "name": "python3"
  },
  "language_info": {
   "codemirror_mode": {
    "name": "ipython",
    "version": 3
   },
   "file_extension": ".py",
   "mimetype": "text/x-python",
   "name": "python",
   "nbconvert_exporter": "python",
   "pygments_lexer": "ipython3",
   "version": "3.6.3"
  }
 },
 "nbformat": 4,
 "nbformat_minor": 1
}
