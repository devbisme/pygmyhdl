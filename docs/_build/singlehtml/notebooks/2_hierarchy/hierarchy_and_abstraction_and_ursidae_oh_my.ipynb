{
 "cells": [
  {
   "cell_type": "code",
   "execution_count": 1,
   "metadata": {},
   "outputs": [
    {
     "data": {
      "text/html": [
       "<style>\n",
       "@import url('http://fonts.googleapis.com/css?family=Source+Code+Pro');\n",
       "@import url('http://fonts.googleapis.com/css?family=Lora');\n",
       "\n",
       "//@import url('http://fonts.googleapis.com/css?family=Open+Sans');\n",
       "//@import url('http://fonts.googleapis.com/css?family=Vollkorn');\n",
       "//@import url('http://fonts.googleapis.com/css?family=Karla');\n",
       "//@import url('http://fonts.googleapis.com/css?family=Poppins');\n",
       "//@import url('http://fonts.googleapis.com/css?family=Arimo');\n",
       "//@import url('http://fonts.googleapis.com/css?family=Roboto');\n",
       "//@import url('http://fonts.googleapis.com/css?family=Lato');\n",
       "//@import url('http://fonts.googleapis.com/css?family=Domine');\n",
       "//@import url('http://fonts.googleapis.com/css?family=Chivo');\n",
       "//@import url('http://fonts.googleapis.com/css?family=Cardo');\n",
       "//@import url('http://fonts.googleapis.com/css?family=Arvo');\n",
       "//@import url('http://fonts.googleapis.com/css?family=Crimson+Text');\n",
       "//@import url('http://fonts.googleapis.com/css?family=Ubuntu');\n",
       "//@import url('http://fonts.googleapis.com/css?family=Fontin');\n",
       "//@import url('http://fonts.googleapis.com/css?family=Raleway');\n",
       "//@import url('http://fonts.googleapis.com/css?family=Merriweather');\n",
       "\n",
       "\n",
       ".CodeMirror pre {\n",
       "    font-family: 'Source Code Pro', Consolas, monocco, monospace;\n",
       "}\n",
       "    div.cell{\n",
       "        //width: 950px;\n",
       "        margin-left: 0% !important;\n",
       "        margin-right: auto;\n",
       "    }\n",
       "    div.text_cell_render{\n",
       "        font-family: 'Lora';\n",
       "        //font-family: 'Open Sans';\n",
       "        //font-family: 'Karla',verdana,arial,sans-serif;\n",
       "        //font-family: 'Roboto',verdana,arial,sans-serif;\n",
       "        //font-family: 'Lato',verdana,arial,sans-serif;\n",
       "        //font-family: 'Domine',verdana,arial,sans-serif;\n",
       "        //font-family: 'Chivo',verdana,arial,sans-serif;\n",
       "        //font-family: 'Cardo',verdana,arial,sans-serif;\n",
       "        //font-family: 'Arvo',verdana,arial,sans-serif;\n",
       "        //font-family: 'Poppins',verdana,arial,sans-serif;\n",
       "        //font-family: 'Ubuntu',verdana,arial,sans-serif;\n",
       "        //font-family: 'Fontin',verdana,arial,sans-serif;\n",
       "        //font-family: 'Raleway',verdana,arial,sans-serif;\n",
       "        //font-family: 'Merriweather',verdana,arial,sans-serif;\n",
       "        //font-family: 'Crimson Text', verdana,arial,sans-serif;\n",
       "        //font-family: verdana,arial,sans-serif;\n",
       "        //font-family: arial,sans-serif;\n",
       "        line-height: 125%;\n",
       "        font-size: 130%;\n",
       "        text-align: justify;\n",
       "        text-justify:inter-word;\n",
       "    }\n",
       "    div.text_cell code {\n",
       "        background: transparent;\n",
       "        color: #000000;\n",
       "        font-weight: 400;\n",
       "        font-size: 12pt;\n",
       "        //font-style: bold;\n",
       "        font-family:  'Source Code Pro', Consolas, monocco, monospace;\n",
       "   }\n",
       "    h1 {\n",
       "        font-family: 'Open sans',verdana,arial,sans-serif;\n",
       "\t}\n",
       "\n",
       "    div.input_area {\n",
       "        background: #F6F6F9;\n",
       "        border: 1px solid #586e75;\n",
       "    }\n",
       "\n",
       "    .text_cell_render h1 {\n",
       "        font-weight: 400;\n",
       "        font-size: 30pt;\n",
       "        line-height: 100%;\n",
       "        color:#c76c0c;\n",
       "        margin-bottom: 0.5em;\n",
       "        margin-top: 1em;\n",
       "        display: block;\n",
       "        white-space: wrap;\n",
       "        text-align: left;\n",
       "    }\n",
       "    h2 {\n",
       "        font-family: 'Open sans',verdana,arial,sans-serif;\n",
       "        text-align: left;\n",
       "    }\n",
       "    .text_cell_render h2 {\n",
       "        font-weight: 500;\n",
       "        font-size: 16pt;\n",
       "        font-style: italic;\n",
       "        line-height: 100%;\n",
       "        color:#c76c0c;\n",
       "        margin-bottom: 0.5em;\n",
       "        margin-top: 1.5em;\n",
       "        display: block;\n",
       "        white-space: wrap;\n",
       "        text-align: left;\n",
       "    }\n",
       "    h3 {\n",
       "        font-family: 'Open sans',verdana,arial,sans-serif;\n",
       "    }\n",
       "    .text_cell_render h3 {\n",
       "        font-weight: 500;\n",
       "        font-size: 14pt;\n",
       "        line-height: 100%;\n",
       "        color:#d77c0c;\n",
       "        margin-bottom: 0.5em;\n",
       "        margin-top: 2em;\n",
       "        display: block;\n",
       "        white-space: wrap;\n",
       "        text-align: left;\n",
       "    }\n",
       "    h4 {\n",
       "        font-family: 'Open sans',verdana,arial,sans-serif;\n",
       "    }\n",
       "    .text_cell_render h4 {\n",
       "        font-weight: 100;\n",
       "        font-size: 14pt;\n",
       "        color:#d77c0c;\n",
       "        margin-bottom: 0.5em;\n",
       "        margin-top: 0.5em;\n",
       "        display: block;\n",
       "        white-space: nowrap;\n",
       "    }\n",
       "    h5 {\n",
       "        font-family: 'Open sans',verdana,arial,sans-serif;\n",
       "    }\n",
       "\n",
       "    .text_cell_render h5 {\n",
       "        font-weight: 200;\n",
       "        font-style: normal;\n",
       "        color: #1d3b84;\n",
       "        font-size: 16pt;\n",
       "        margin-bottom: 0em;\n",
       "        margin-top: 0.5em;\n",
       "        display: block;\n",
       "        white-space: nowrap;\n",
       "    }\n",
       "    div.output_subarea.output_text.output_pyout {\n",
       "        overflow-x: auto;\n",
       "        overflow-y: scroll;\n",
       "        max-height: 50000px;\n",
       "    }\n",
       "    div.output_subarea.output_stream.output_stdout.output_text {\n",
       "        overflow-x: auto;\n",
       "        overflow-y: scroll;\n",
       "        max-height: 50000px;\n",
       "    }\n",
       "    div.output_wrapper{\n",
       "        margin-top:0.2em;\n",
       "        margin-bottom:0.2em;\n",
       "}\n",
       "\n",
       "    .rendered_html table {\n",
       "        font-size: 100%;\n",
       "    }\n",
       "\n",
       "    code{\n",
       "        font-size: 6pt;\n",
       "\n",
       "    }\n",
       "    .rendered_html code{\n",
       "    background-color: transparent;\n",
       "    }\n",
       "    ul{\n",
       "        margin: 2em;\n",
       "    }\n",
       "    ul li{\n",
       "        padding-left: 0.5em;\n",
       "        margin-bottom: 0.5em;\n",
       "        margin-top: 0.5em;\n",
       "    }\n",
       "    ul li li{\n",
       "        padding-left: 0.2em;\n",
       "        margin-bottom: 0.2em;\n",
       "        margin-top: 0.2em;\n",
       "    }\n",
       "    ol{\n",
       "        margin: 2em;\n",
       "    }\n",
       "    ol li{\n",
       "        padding-left: 0.5em;\n",
       "        margin-bottom: 0.5em;\n",
       "        margin-top: 0.5em;\n",
       "    }\n",
       "    ul li{\n",
       "        padding-left: 0.5em;\n",
       "        margin-bottom: 0.5em;\n",
       "        margin-top: 0.2em;\n",
       "    }\n",
       "    a:link{\n",
       "       color:#447adb;\n",
       "    }\n",
       "    a:visited{\n",
       "       color: #1d3b84;\n",
       "    }\n",
       "    a:hover{\n",
       "       color: #1d3b84;\n",
       "    }\n",
       "    a:focus{\n",
       "       color:#447adb;\n",
       "    }\n",
       "    a:active{\n",
       "       font-weight: bold;\n",
       "       color:#447adb;\n",
       "    }\n",
       "    .rendered_html :link {\n",
       "       text-decoration: underline;\n",
       "    }\n",
       "    .rendered_html :hover {\n",
       "       text-decoration: none;\n",
       "    }\n",
       "    .rendered_html :visited {\n",
       "      text-decoration: none;\n",
       "    }\n",
       "    .rendered_html :focus {\n",
       "      text-decoration: none;\n",
       "    }\n",
       "    .rendered_html :active {\n",
       "      text-decoration: none;\n",
       "    }\n",
       "    .warning{\n",
       "        color: rgb( 240, 20, 20 )\n",
       "    }\n",
       "    hr {\n",
       "      color: #f3f3f3;\n",
       "      background-color: #f3f3f3;\n",
       "      height: 1px;\n",
       "    }\n",
       "    blockquote{\n",
       "      display:block;\n",
       "      background: #fcfcfc;\n",
       "      border-left: 5px solid #c76c0c;\n",
       "      font-family: 'Open sans',verdana,arial,sans-serif;\n",
       "      width:680px;\n",
       "      padding: 10px 10px 10px 10px;\n",
       "      text-align:justify;\n",
       "      text-justify:inter-word;\n",
       "      }\n",
       "      blockquote p {\n",
       "        margin-bottom: 0;\n",
       "        line-height: 125%;\n",
       "        font-size: 100%;\n",
       "      }\n",
       "</style>\n",
       "<script>\n",
       "    MathJax.Hub.Config({\n",
       "                        TeX: {\n",
       "                           extensions: [\"AMSmath.js\"],\n",
       "                           equationNumbers: { autoNumber: \"AMS\", useLabelIds: true}\n",
       "                           },\n",
       "                tex2jax: {\n",
       "                    inlineMath: [ ['$','$'], [\"\\\\(\",\"\\\\)\"] ],\n",
       "                    displayMath: [ ['$$','$$'], [\"\\\\[\",\"\\\\]\"] ]\n",
       "                },\n",
       "                displayAlign: 'center', // Change this to 'center' to center equations.\n",
       "                \"HTML-CSS\": {\n",
       "                    scale:95,\n",
       "                        availableFonts: [],\n",
       "                        preferredFont:null,\n",
       "                        webFont: \"TeX\",\n",
       "                    styles: {'.MathJax_Display': {\"margin\": 4}}\n",
       "                }\n",
       "        });\n",
       "</script>\n"
      ],
      "text/plain": [
       "<IPython.core.display.HTML object>"
      ]
     },
     "execution_count": 1,
     "metadata": {},
     "output_type": "execute_result"
    }
   ],
   "source": [
    "from IPython.core.display import HTML\n",
    "HTML(open('../css/custom.css', 'r').read())"
   ]
  },
  {
   "cell_type": "markdown",
   "metadata": {},
   "source": [
    "**_Note_**: If you're reading this as a static HTML page, you can also get it as an\n",
    "executable Jupyter notebook [here](https://github.com/xesscorp/pygmyhdl/tree/master/examples)."
   ]
  },
  {
   "cell_type": "markdown",
   "metadata": {},
   "source": [
    "# Hierarchy and Abstraction and Ursidae, *Oh My!*"
   ]
  },
  {
   "cell_type": "markdown",
   "metadata": {},
   "source": [
    "Those are big, scary words often associated with FPGA designs, but with simple meanings:\n",
    "\n",
    "*Hierarchy:* \"See that big, complex thing? It's actually made of small, simple things.\n",
    "And those small, simple things are made of even smaller, simpler things.\"\n",
    "\n",
    "*Abstraction:* \"See that thing? It does something. I don't care *how* it does it.\n",
    "I just need to know *what* it does.\"\n",
    "\n",
    "*Ursidae:* This is the scientific family name for bears. They have nothing to do with this chapter.\n",
    "I just needed it to make the whole [*Wizard of Oz*](https://www.youtube.com/watch?v=-HrfbV16-FQ) reference work.\n",
    "\n",
    "Take a car as an example. It consists of a body and a drive train. The drive train\n",
    "is made up of an engine, transmission, drive shaft, axles and wheels.\n",
    "And the engine is made up of a block, pistons, fuel injectors, etc.\n",
    "And on and on.\n",
    "That's hierarchy.\n",
    "\n",
    "Then think about somebody who's putting an engine in a car.\n",
    "He needs to know how big the engine is, how to feed gas to it, and where the\n",
    "spinny thing is that attaches to the drive shaft and makes the wheels go round.\n",
    "All the stuff about piston rings and camshafts and coolant channels\n",
    "are details he can ignore.\n",
    "That's abstraction.\n",
    "\n",
    "And what about Ursidae?\n",
    "Bears have nothing to do with this.\n",
    "I told you that already.\n",
    "Just let it go.\n",
    "\n",
    "The role of hierarchy and abstraction in digital design is best understood\n",
    "by going through a concrete example.\n",
    "And what's the best example we have at this point?"
   ]
  },
  {
   "cell_type": "markdown",
   "metadata": {},
   "source": [
    "## The LED Blinker Revisited"
   ]
  },
  {
   "cell_type": "markdown",
   "metadata": {},
   "source": [
    "Let's rebuild the LED blinker from our\n",
    "[previous example](http://www.xess.com/static/media/pages/pygmyhdl/examples/1_blinker/fastest_easiest_FPGA_blinker_ever.html)\n",
    "as a hierarchy of smaller pieces of digital logic.\n",
    "I'll do this in two phases:\n",
    "\n",
    "* **Phase 1:** I'll break the design into smaller pieces. Then I'll break those pieces into\n",
    "  even smaller pieces and continue the process until I've reached the lowest level\n",
    "  I think is reasonable.\n",
    "* **Phase 2:** I'll take each piece at the lowest level and describe it using MyHDL.\n",
    "  Then, I'll interconnect those MyHDL code fragments and use them to build the\n",
    "  next higher level.\n",
    "  And I'll proceed like that until I've got the entire LED blinker built in MyHDL.\n",
    "\n",
    "This process - break it down starting from the top, then rebuild it starting from the bottom - is\n",
    "a common technique used in software design.\n",
    "Since building hardware using an HDL is similar to writing software, it's no surprise\n",
    "the pattern works here."
   ]
  },
  {
   "cell_type": "markdown",
   "metadata": {},
   "source": [
    "### Break Down"
   ]
  },
  {
   "cell_type": "markdown",
   "metadata": {},
   "source": [
    "Let's start by showing the LED blinker at it's highest level of abstraction:\n",
    "it takes a clock as input and generates a single output that turns an LED on and off:\n",
    "\n",
    "<img alt=\"Highest level of abstraction for an LED blinker.\" src=\"lvl_led_blinker.png\" width=500/>\n",
    "\n",
    "At the next level of abstraction, we already know the blinker is built from an $N$-bit\n",
    "counter with the LED output driven from the counter's MSB.\n",
    "\n",
    "<img alt=\"Second highest level of abstraction for an LED blinker.\" src=\"lvl_counter.png\" width=500/>\n",
    "\n",
    "Going down another level, a counter can be constructed from an $N$-bit\n",
    "[register](https://en.wikibooks.org/wiki/Digital_Circuits/Registers_and_Counters)\n",
    "and an $N$-bit [binary adder](https://en.wikipedia.org/wiki/Adder_(electronics)).\n",
    "The register holds a value $V$ and, on every pulse of the clock input, that value\n",
    "is replaced by $V + 1$.\n",
    "\n",
    "<img alt=\"Third highest level of abstraction for an LED blinker.\" src=\"lvl_reg_adder.png\" width=550/>\n",
    "\n",
    "The register consists of $N$ individual\n",
    "[D flip-flops](http://hyperphysics.phy-astr.gsu.edu/hbase/Electronic/Dflipflop.html)\n",
    "each of which stores a single bit of the register value that is updated when there is a rising\n",
    "edge of the clock input:\n",
    "\n",
    "<img alt=\"Individual bits of a register.\" src=\"lvl_dff.png\" width=400/>\n",
    "\n",
    "The adder is also composed of $N$ subcomponents called\n",
    "[full-adder bits](http://www.electronics-tutorials.ws/combination/comb_7.html).\n",
    "The $k$-th full-adder bit takes the $k$-th bit from each of the numbers to be added along with\n",
    "a carry bit from the preceding stage of the adder.\n",
    "It combines these to compute the $k$-th sum bit and a carry bit for the next stage of the adder.\n",
    "In the figure below, I've replaced the `a` input with the value `0...001` because the\n",
    "adder is being used to increment the value on the `b` input.\n",
    "I've also placed a `0` on the carry input into the first bit of the adder.\n",
    "\n",
    "<img alt=\"Interconnection of full-adder bits.\" src=\"lvl_adder.png\" width=350/>\n",
    "\n",
    "Finally, each full-adder bit is built from a\n",
    "[collection of primitive logic gates [1]](#Full_Adder_Gates) like this:\n",
    "\n",
    "<img alt=\"Full-adder bit gates.\" src=\"lvl_adder_bit.png\" width=200/>\n",
    "\n",
    "And that's the complete breakdown of the LED blinker.\n",
    "Now it's time to build it back up using MyHDL."
   ]
  },
  {
   "cell_type": "markdown",
   "metadata": {},
   "source": [
    "### Build Up"
   ]
  },
  {
   "cell_type": "markdown",
   "metadata": {},
   "source": [
    "I broke the LED blinker down to its most basic components,\n",
    "now I'll start at the lowest level of the hierarchy to build it back up.\n",
    "\n",
    "<img alt=\"LED Blinker hierarchy\" src=\"blinker_hierarchy.png\" width=200/>"
   ]
  },
  {
   "cell_type": "markdown",
   "metadata": {},
   "source": [
    "Here's the MyHDL code for a single D flip-flop. It's a simple piece of\n",
    "sequential logic that copies its input to its output whenever there is a rising\n",
    "edge on the clock input:"
   ]
  },
  {
   "cell_type": "code",
   "execution_count": 2,
   "metadata": {
    "collapsed": true
   },
   "outputs": [],
   "source": [
    "from pygmyhdl import *\n",
    "\n",
    "@chunk\n",
    "def dff(clk_i, d_i, q_o):\n",
    "    '''\n",
    "    Inputs:\n",
    "      clk_i: Rising edge on this input stores data on d_i into q_o.\n",
    "      d_i: Input that brings new data into the flip-flop:\n",
    "    Outputs:\n",
    "      q_o: Output of the data stored in the flip-flop.\n",
    "    '''\n",
    "    @seq_logic(clk_i.posedge)\n",
    "    def logic():\n",
    "        q_o.next = d_i"
   ]
  },
  {
   "cell_type": "markdown",
   "metadata": {},
   "source": [
    "Now I can build a register by instantiating multiple `dff` modules in a loop:"
   ]
  },
  {
   "cell_type": "code",
   "execution_count": 3,
   "metadata": {
    "collapsed": true
   },
   "outputs": [],
   "source": [
    "@chunk\n",
    "def register(clk_i, d_i, q_o):\n",
    "    for k in range(len(d_i)):\n",
    "        dff(clk_i, d_i.o[k], q_o.i[k])"
   ]
  },
  {
   "cell_type": "markdown",
   "metadata": {},
   "source": [
    "The loop count is set by the number of bits in the incoming data bus, `d_i`.\n",
    "During each loop iteration, a D flip-flop is created.\n",
    "The `d_i.o[k]` [notation [2]](#Bus_Notation) says that the $k$-th output bit of\n",
    "the `d_i` bus is used to drive the data input of the $k$-th flip-flop.\n",
    "In a similar manner, the `q_o.i[k]` notation says that the output of the $k$-th\n",
    "flip-flop will drive the $k$-th input bit of the `q_o` bus.\n",
    "In this way, the register input bus is applied to the individual flip-flops, and the\n",
    "flip-flop outputs collectively drive the register output bus."
   ]
  },
  {
   "cell_type": "markdown",
   "metadata": {},
   "source": [
    "To test the register, I'll connect it to a clock signal and some\n",
    "[input and output buses [3]](#No_I_O_Suffixes).\n",
    "Then, I'll use a simple\n",
    "[test bench function](https://www.xilinx.com/itp/xilinx10/isehelp/ise_c_simulation_test_bench.htm)\n",
    "to apply random values to the\n",
    "register input and see if those values propagate to the register output:"
   ]
  },
  {
   "cell_type": "code",
   "execution_count": 4,
   "metadata": {},
   "outputs": [
    {
     "name": "stderr",
     "output_type": "stream",
     "text": [
      "<class 'myhdl.StopSimulation'>: No more events\n"
     ]
    },
    {
     "data": {
      "text/html": [
       "<div><script type=\"WaveDrom\">{\"signal\": [{\"wave\": \"01010101010101010101\", \"name\": \"clk\"}, {\"wave\": \"=.=.=.=.=.=.=.=.=.=.\", \"name\": \"data_in\", \"data\": [\"74\", \"14\", \"c3\", \"3a\", \"d1\", \"65\", \"6f\", \"83\", \"38\", \"a1\"]}, {\"wave\": \"==.=.=.=.=.=.=.=.=.=\", \"name\": \"data_out\", \"data\": [\"0\", \"4a\", \"14\", \"c3\", \"3a\", \"d1\", \"65\", \"6f\", \"83\", \"38\", \"161\"]}]}</script></div>"
      ]
     },
     "metadata": {},
     "output_type": "display_data"
    },
    {
     "data": {
      "application/javascript": [
       "$.getScript(\"http://wavedrom.com/wavedrom.min.js\", function () {\n",
       "$.getScript(\"http://wavedrom.com/skins/default.js\", function () {\n",
       "WaveDrom.ProcessAll();});\n",
       "});\n"
      ]
     },
     "metadata": {},
     "output_type": "display_data"
    }
   ],
   "source": [
    "initialize()  # Initialize for simulation.\n",
    "\n",
    "# Create clock signal and 8-bit register input and output buses.\n",
    "clk = Wire(name='clk')\n",
    "data_in = Bus(8, name='data_in')\n",
    "data_out = Bus(8, name='data_out')\n",
    "\n",
    "# Instantiate a register and attach the clock and I/O buses.\n",
    "register(clk_i=clk, d_i=data_in, q_o=data_out)\n",
    "\n",
    "# Apply random 8-bit integers to the register input along with\n",
    "# rising and falling edges of the clock signal.\n",
    "from random import randint  # Random integer function.\n",
    "def test_bench():\n",
    "    # Apply ten random inputs to the register.\n",
    "    for i in range(10):\n",
    "        data_in.next = randint(0,256)  # Set register input to a random 8-bit value.\n",
    "        clk.next = 0  # Lower clock signal to 0.\n",
    "        yield delay(1)  # Wait for one unit of simulation time.\n",
    "        clk.next = 1  # Then raise the clock signal to 1 ...\n",
    "        yield delay(1)  # ... and wait one more time unit. The register output should change.\n",
    "        \n",
    "# Pass the test bench function to the simulator function to run the simulation.\n",
    "simulate(test_bench())\n",
    "\n",
    "# View the results of the simulation.\n",
    "show_waveforms()"
   ]
  },
  {
   "cell_type": "markdown",
   "metadata": {},
   "source": [
    "From the logic waveforms, you can see the value on the `data_in` bus is transferred to the\n",
    "`data_out` bus whenever a rising edge occurs on the `clk` signal."
   ]
  },
  {
   "cell_type": "markdown",
   "metadata": {},
   "source": [
    "The register appears to be working, so I'll move on to begin implementing the adder\n",
    "branch of the blinker hierarchy.\n",
    "Here's the MyHDL for the combinatorial logic of a single full-adder bit:"
   ]
  },
  {
   "cell_type": "code",
   "execution_count": 5,
   "metadata": {
    "collapsed": true
   },
   "outputs": [],
   "source": [
    "@chunk\n",
    "def full_adder_bit(a_i, b_i, c_i, s_o, c_o):\n",
    "    '''\n",
    "    Inputs:\n",
    "      a_i, b_i: Inputs from i-th bit of a and b values.\n",
    "      c_i: Input from carry output of (i-1)-th adder stage.\n",
    "    Outputs:\n",
    "      s_o: Output of i-th sum bit.\n",
    "      c_o: Carry output to the (i+1)-th adder stage.\n",
    "    '''\n",
    "    @comb_logic\n",
    "    def logic():\n",
    "        # Exclusive-OR (^) the inputs to create the sum bit.\n",
    "        s_o.next = a_i ^ b_i ^ c_i\n",
    "        # Generate a carry output if two or more of the inputs are 1.\n",
    "        # This uses the logic AND (&) and OR (|) operators.\n",
    "        c_o.next = (a_i & b_i) | (a_i & c_i) | (b_i & c_i)"
   ]
  },
  {
   "cell_type": "markdown",
   "metadata": {},
   "source": [
    "To test the full-adder bit, I'll apply every possible combination of the three inputs and\n",
    "see how it reacts:"
   ]
  },
  {
   "cell_type": "code",
   "execution_count": 6,
   "metadata": {},
   "outputs": [
    {
     "name": "stdout",
     "output_type": "stream",
     "text": [
      "  Time    a_i    b_i    c_i    c_o    sum_o\n",
      "------  -----  -----  -----  -----  -------\n",
      "     0      0      0      0      0        0\n",
      "     1      0      0      1      0        1\n",
      "     2      0      1      0      0        1\n",
      "     3      0      1      1      1        0\n",
      "     4      1      0      0      0        1\n",
      "     5      1      0      1      1        0\n",
      "     6      1      1      0      1        0\n",
      "     7      1      1      1      1        1\n"
     ]
    },
    {
     "name": "stderr",
     "output_type": "stream",
     "text": [
      "<class 'myhdl.StopSimulation'>: No more events\n"
     ]
    }
   ],
   "source": [
    "initialize()  # Initialize for a new simulation.\n",
    "\n",
    "# Declare input and output signals for the full-adder bit.\n",
    "a_i, b_i, c_i = Wire(name='a_i'), Wire(name='b_i'), Wire(name='c_i')\n",
    "sum_o, c_o = Wire(name='sum_o'), Wire(name='c_o')\n",
    "\n",
    "# Instantiate a full-adder bit with the I/O connections.\n",
    "full_adder_bit(a_i, b_i, c_i, sum_o, c_o)\n",
    "\n",
    "# Simulate the full-adder bit operation for every possible combination\n",
    "# of the a_i, b_i and c_i inputs.\n",
    "exhaustive_sim(a_i, b_i, c_i)\n",
    "\n",
    "# Show the response of the full-adder bit to the inputs.\n",
    "show_text_table()"
   ]
  },
  {
   "cell_type": "markdown",
   "metadata": {},
   "source": [
    "You can compare the table of values above to this\n",
    "[full-adder truth-table](http://hyperphysics.phy-astr.gsu.edu/hbase/Electronic/ietron/fulladd.gif)\n",
    "to verify it's working correctly."
   ]
  },
  {
   "cell_type": "markdown",
   "metadata": {},
   "source": [
    "Just like the register, I can build a complete adder by iteratively\n",
    "instantiating the full-adder bit:"
   ]
  },
  {
   "cell_type": "code",
   "execution_count": 7,
   "metadata": {
    "collapsed": true
   },
   "outputs": [],
   "source": [
    "@chunk\n",
    "def adder(a_i, b_i, s_o):\n",
    "    '''\n",
    "    Inputs:\n",
    "      a_i, b_i: Numbers to be added.\n",
    "    Outputs:\n",
    "      s_o: Sum of a_i and b_i inputs.\n",
    "    '''\n",
    "    \n",
    "    # Create a bus for the carry bits that pass from one stage to the next.\n",
    "    # There is one more carry bit than the number of adder stages in order\n",
    "    # to drive the carry input of the first stage. \n",
    "    c = Bus(len(a_i)+1)\n",
    "    \n",
    "    # Set the carry input to the first stage of the adder to 0.\n",
    "    c.i[0] = 0\n",
    "    \n",
    "    # Use the length of the a_i input bus to set the loop counter.\n",
    "    for k in range(len(a_i)):\n",
    "        \n",
    "        # The k-th bit of the a_i and b_i buses are added with the\n",
    "        # k-th carry bit to create the k-th sum bit and the\n",
    "        # carry output bit. The carry output is the \n",
    "        # carry input to the (k+1)-th stage.\n",
    "        full_adder_bit(a_i=a_i.o[k], b_i=b_i.o[k], c_i=c.o[k], s_o=s_o.i[k], c_o=c.i[k+1])"
   ]
  },
  {
   "cell_type": "markdown",
   "metadata": {},
   "source": [
    "I won't even try to do an exhaustive test of the adder because with eight-bit\n",
    "input buses, that would take $2^8 \\times 2^8 = $ 65,536 simulation cycles\n",
    "and nobody would even look at a fraction of the output any way.\n",
    "Instead, I'll just check the adder's output for a few randomly-selected inputs:"
   ]
  },
  {
   "cell_type": "code",
   "execution_count": 8,
   "metadata": {},
   "outputs": [
    {
     "name": "stdout",
     "output_type": "stream",
     "text": [
      "  Time    a    b    sum\n",
      "------  ---  ---  -----\n",
      "     0  108  114    222\n",
      "     1    9    0      9\n",
      "     2  119  203     66\n",
      "     3   32  201    233\n",
      "     4   32   91    123\n",
      "     5  167  216    127\n",
      "     6  192  163     99\n",
      "     7  243   53     40\n",
      "     8  167  130     41\n",
      "     9  222   89     55\n",
      "    10    3   58     61\n",
      "    11  255   38     37\n",
      "    12   67    6     73\n",
      "    13  254   80     78\n",
      "    14  103  213     60\n",
      "    15  125   71    196\n",
      "    16  120   85    205\n",
      "    17    7  162    169\n",
      "    18  215   11    226\n",
      "    19   84  252     80\n"
     ]
    },
    {
     "name": "stderr",
     "output_type": "stream",
     "text": [
      "<class 'myhdl.StopSimulation'>: No more events\n"
     ]
    }
   ],
   "source": [
    "initialize()  # Once again, initialize for a new simulation.\n",
    "\n",
    "# Declare 8-bit buses for the two numbers to be added and the sum.\n",
    "a = Bus(8, name='a')\n",
    "b = Bus(8, name='b')\n",
    "s = Bus(8, name='sum')\n",
    "\n",
    "# Instantiate an adder and connect the I/O buses.\n",
    "adder(a, b, s)\n",
    "\n",
    "# Simulate the adder's output for 20 randomly-selected inputs.\n",
    "random_sim(a, b, num_tests=20)\n",
    "\n",
    "# Show a table of the adder output for each set of inputs.\n",
    "show_text_table()"
   ]
  },
  {
   "cell_type": "markdown",
   "metadata": {},
   "source": [
    "You can manually check the table results to see the adder is working correctly.\n",
    "(Remember that the adder's output is only eight bits, so it will roll over to 0\n",
    "upon reaching 256. Therefore, take the $\\bmod{256}$ of the sum of the inputs and compare\n",
    "that to the adder's output. For example, $(72 + 213) \\bmod{256} = (285) \\bmod{256} = 29$.)"
   ]
  },
  {
   "cell_type": "markdown",
   "metadata": {},
   "source": [
    "Now I can move up another level in the hierarchy and build a counter from the adder and register:"
   ]
  },
  {
   "cell_type": "code",
   "execution_count": 9,
   "metadata": {
    "collapsed": true
   },
   "outputs": [],
   "source": [
    "@chunk\n",
    "def counter(clk_i, cnt_o):\n",
    "    '''\n",
    "    Inputs:\n",
    "      clk_i: Counter increments on the rising edge of the clock.\n",
    "    Outputs:\n",
    "      cnt_o: Counter value.\n",
    "    '''\n",
    "    # The length of the counter output determines the number of counter bits.\n",
    "    length = len(cnt_o)\n",
    "    \n",
    "    one = Bus(length, init_val=1)  # A constant bus that carries the value 1.\n",
    "    next_cnt = Bus(length)         # A bus that carries the next counter value.\n",
    "    \n",
    "    # Add one to the current counter value to create the next value.\n",
    "    adder(one, cnt_o, next_cnt)\n",
    "    \n",
    "    # Load the next counter value into the register on a rising clock edge.\n",
    "    register(clk_i, next_cnt, cnt_o)"
   ]
  },
  {
   "cell_type": "markdown",
   "metadata": {},
   "source": [
    "Having finally reached the top of the hierarchy, I'll use the counter to complete the implementation of the LED blinker: "
   ]
  },
  {
   "cell_type": "code",
   "execution_count": 10,
   "metadata": {
    "collapsed": true
   },
   "outputs": [],
   "source": [
    "@chunk\n",
    "def blinker(clk_i, led_o, length):\n",
    "    '''\n",
    "    Inputs:\n",
    "      clk_i:  This is a clock signal input.\n",
    "      length: This is the number of bits in the counter that generates the led_o output.\n",
    "    Outputs:\n",
    "      led_o:  This is an output signal that drives an LED on and off.\n",
    "    '''\n",
    "    cnt = Bus(length, name='cnt')  # Declare the counter bus with the given length.\n",
    "    counter(clk_i, cnt)  # Instantiate a counter of the same length.\n",
    "    \n",
    "    # Attach the MSB of the counter bus to the LED output.\n",
    "    @comb_logic\n",
    "    def output_logic():\n",
    "        led_o.next = cnt[length-1]"
   ]
  },
  {
   "cell_type": "markdown",
   "metadata": {},
   "source": [
    "Let's check the operation by simulating a small LED blinker as we did in the previous example:"
   ]
  },
  {
   "cell_type": "code",
   "execution_count": 11,
   "metadata": {},
   "outputs": [
    {
     "name": "stderr",
     "output_type": "stream",
     "text": [
      "<class 'myhdl.StopSimulation'>: No more events\n"
     ]
    },
    {
     "data": {
      "text/html": [
       "<div><script type=\"WaveDrom\">{\"signal\": [{\"wave\": \"01010101010101010101010101010101\", \"name\": \"clk\"}, {\"wave\": \"==.=.=.=.=.=.=.=.=.=.=.=.=.=.=.=\", \"name\": \"cnt\", \"data\": [\"0\", \"1\", \"2\", \"3\", \"4\", \"5\", \"6\", \"7\", \"0\", \"1\", \"2\", \"3\", \"4\", \"5\", \"6\", \"7\", \"0\"]}, {\"wave\": \"0......1.......0.......1.......0\", \"name\": \"led\"}]}</script></div>"
      ]
     },
     "metadata": {},
     "output_type": "display_data"
    },
    {
     "data": {
      "application/javascript": [
       "$.getScript(\"http://wavedrom.com/wavedrom.min.js\", function () {\n",
       "$.getScript(\"http://wavedrom.com/skins/default.js\", function () {\n",
       "WaveDrom.ProcessAll();});\n",
       "});\n"
      ]
     },
     "metadata": {},
     "output_type": "display_data"
    }
   ],
   "source": [
    "initialize()                 # Initialize for simulation.\n",
    "clk = Wire(name='clk')       # Declare the clock input.\n",
    "led = Wire(name='led')       # Declare the LED output.\n",
    "blinker(clk, led, 3)         # Instantiate a three-bit blinker and attach I/O signals.\n",
    "clk_sim(clk, num_cycles=16)  # Apply 16 clock pulses.\n",
    "show_waveforms()             # Look at the waveforms."
   ]
  },
  {
   "cell_type": "markdown",
   "metadata": {},
   "source": [
    "A blinker with a three-bit counter should output an LED signal that runs\n",
    "at an eighth of the incoming clock frequency.\n",
    "The waveforms show that's what is happening."
   ]
  },
  {
   "cell_type": "markdown",
   "metadata": {},
   "source": [
    "Since the simulation seems to work, it's time to convert a larger version of the blinker into Verilog\n",
    "after which it can be compiled and run on an iCEstick.\n",
    "(Because this LED blinker uses a hierarchical description that results in a lot of\n",
    "smaller, individual components at the lower levels, it will take longer to generate\n",
    "the Verilog than the previous example. *Be patient!*)"
   ]
  },
  {
   "cell_type": "code",
   "execution_count": 12,
   "metadata": {},
   "outputs": [
    {
     "name": "stderr",
     "output_type": "stream",
     "text": [
      "c:\\python35-32\\lib\\site-packages\\ipykernel_launcher.py:1: UserWarning: \n",
      "    toVerilog(): Deprecated usage: See http://dev.myhdl.org/meps/mep-114.html\n",
      "  \"\"\"Entry point for launching an IPython kernel.\n",
      "c:\\python35-32\\lib\\site-packages\\myhdl\\conversion\\_toVerilog.py:348: ToVerilogWarning: Signal is not driven: k_one\n",
      "  category=ToVerilogWarning\n",
      "c:\\python35-32\\lib\\site-packages\\myhdl\\conversion\\_toVerilog.py:348: ToVerilogWarning: Signal is not driven: k_chunk_insts_0_chunk_insts_3_chunk_insts_1_a\n",
      "  category=ToVerilogWarning\n"
     ]
    },
    {
     "data": {
      "text/plain": [
       "[<myhdl._always_comb._AlwaysComb at 0x5ad0f50>,\n",
       " [[[<myhdl._always_comb._AlwaysComb at 0x54cb210>],\n",
       "   [<myhdl._always_comb._AlwaysComb at 0x580fbb0>],\n",
       "   [<myhdl._always_comb._AlwaysComb at 0x580fbf0>],\n",
       "   [<myhdl._always_comb._AlwaysComb at 0x580fdf0>],\n",
       "   [<myhdl._always_comb._AlwaysComb at 0x580ff50>],\n",
       "   [<myhdl._always_comb._AlwaysComb at 0x580ff70>],\n",
       "   [<myhdl._always_comb._AlwaysComb at 0x580fab0>],\n",
       "   [<myhdl._always_comb._AlwaysComb at 0x584d0f0>],\n",
       "   [<myhdl._always_comb._AlwaysComb at 0x584d470>],\n",
       "   [<myhdl._always_comb._AlwaysComb at 0x584d230>],\n",
       "   [<myhdl._always_comb._AlwaysComb at 0x584d070>],\n",
       "   [<myhdl._always_comb._AlwaysComb at 0x584d1b0>],\n",
       "   [<myhdl._always_comb._AlwaysComb at 0x584d630>],\n",
       "   [<myhdl._always_comb._AlwaysComb at 0x584d830>],\n",
       "   [<myhdl._always_comb._AlwaysComb at 0x584d3d0>],\n",
       "   [<myhdl._always_comb._AlwaysComb at 0x584d670>],\n",
       "   [<myhdl._always_comb._AlwaysComb at 0x584d810>],\n",
       "   [<myhdl._always_comb._AlwaysComb at 0x584d6d0>],\n",
       "   [<myhdl._always_comb._AlwaysComb at 0x584d390>],\n",
       "   [<myhdl._always_comb._AlwaysComb at 0x584d7b0>],\n",
       "   [<myhdl._always_comb._AlwaysComb at 0x584d890>],\n",
       "   [<myhdl._always_comb._AlwaysComb at 0x584d910>],\n",
       "   [<myhdl._always_comb._AlwaysComb at 0x584de70>],\n",
       "   [<myhdl._always_comb._AlwaysComb at 0x584d3f0>],\n",
       "   [<myhdl._always_comb._AlwaysComb at 0x584dff0>]],\n",
       "  [[<myhdl._always_comb._AlwaysComb at 0x5ad0070>],\n",
       "   [<myhdl._always_seq._AlwaysSeq at 0x5ad0250>],\n",
       "   [<myhdl._always_seq._AlwaysSeq at 0x5ad0370>],\n",
       "   [<myhdl._always_seq._AlwaysSeq at 0x5ad02f0>],\n",
       "   [<myhdl._always_seq._AlwaysSeq at 0x5ad0130>],\n",
       "   [<myhdl._always_seq._AlwaysSeq at 0x5ad03b0>],\n",
       "   [<myhdl._always_seq._AlwaysSeq at 0x5ad04b0>],\n",
       "   [<myhdl._always_seq._AlwaysSeq at 0x5ad0430>],\n",
       "   [<myhdl._always_seq._AlwaysSeq at 0x5ad0490>],\n",
       "   [<myhdl._always_seq._AlwaysSeq at 0x5ad0510>],\n",
       "   [<myhdl._always_seq._AlwaysSeq at 0x5ad05b0>],\n",
       "   [<myhdl._always_seq._AlwaysSeq at 0x5ad0690>],\n",
       "   [<myhdl._always_seq._AlwaysSeq at 0x5ad0970>],\n",
       "   [<myhdl._always_seq._AlwaysSeq at 0x5ad0710>],\n",
       "   [<myhdl._always_seq._AlwaysSeq at 0x5ad0650>],\n",
       "   [<myhdl._always_seq._AlwaysSeq at 0x5ad06f0>],\n",
       "   [<myhdl._always_seq._AlwaysSeq at 0x5ad0630>],\n",
       "   [<myhdl._always_seq._AlwaysSeq at 0x5ad0610>],\n",
       "   [<myhdl._always_seq._AlwaysSeq at 0x5ad0470>],\n",
       "   [<myhdl._always_seq._AlwaysSeq at 0x5ad07f0>],\n",
       "   [<myhdl._always_seq._AlwaysSeq at 0x5ad0910>],\n",
       "   [<myhdl._always_seq._AlwaysSeq at 0x5ad0a10>],\n",
       "   [<myhdl._always_seq._AlwaysSeq at 0x5ad0ab0>]]]]"
      ]
     },
     "execution_count": 12,
     "metadata": {},
     "output_type": "execute_result"
    }
   ],
   "source": [
    "toVerilog(blinker, clk_i=clk, led_o=led, length=22)"
   ]
  },
  {
   "cell_type": "markdown",
   "metadata": {},
   "source": [
    "Whew, done!\n",
    "You may notice a few warnings about undriven signals, but don't worry about those."
   ]
  },
  {
   "cell_type": "markdown",
   "metadata": {},
   "source": [
    "The next step is to write a file with the blinker pin assignments for the iCEstick board.\n",
    "The 12 MHz clock enters through pin 21 of the FPGA, and LED D1 is driven by pin 99."
   ]
  },
  {
   "cell_type": "code",
   "execution_count": 13,
   "metadata": {
    "collapsed": true
   },
   "outputs": [],
   "source": [
    "with open('blinker.pcf', 'w') as pcf:\n",
    "    pcf.write(\n",
    "'''\n",
    "set_io led_o 99\n",
    "set_io clk_i 21\n",
    "'''\n",
    "    )"
   ]
  },
  {
   "cell_type": "markdown",
   "metadata": {},
   "source": [
    "The following commands will compile the Verilog and pin assignments into a bitstream file: "
   ]
  },
  {
   "cell_type": "code",
   "execution_count": 14,
   "metadata": {
    "collapsed": true
   },
   "outputs": [],
   "source": [
    "!yosys -q -p \"synth_ice40 -blif blinker.blif\" blinker.v\n",
    "!arachne-pnr -q -d 1k -p blinker.pcf blinker.blif -o blinker.asc\n",
    "!icepack blinker.asc blinker.bin"
   ]
  },
  {
   "cell_type": "markdown",
   "metadata": {},
   "source": [
    "Finally, the bitstream is ready to download into the iCEstick:"
   ]
  },
  {
   "cell_type": "code",
   "execution_count": 15,
   "metadata": {},
   "outputs": [
    {
     "name": "stderr",
     "output_type": "stream",
     "text": [
      "init..\n",
      "cdone: high\n",
      "reset..\n",
      "cdone: low\n",
      "flash ID: 0x20 0xBA 0x16 0x10 0x00 0x00 0x23 0x12 0x67 0x21 0x13 0x00 0x49 0x00 0x34 0x04 0x11 0x11 0x20 0x31\n",
      "file size: 32220\n",
      "erase 64kB sector at 0x000000..\n",
      "programming..\n",
      "reading..\n",
      "VERIFY OK\n",
      "cdone: high\n",
      "Bye.\n"
     ]
    }
   ],
   "source": [
    "!iceprog blinker.bin"
   ]
  },
  {
   "cell_type": "markdown",
   "metadata": {},
   "source": [
    "And that's it! LED D1 on your iCEstick board should be blinking.\n",
    "The LED blinker has been rebuilt using hierarchical design but still functions identically to the original."
   ]
  },
  {
   "cell_type": "markdown",
   "metadata": {},
   "source": [
    "## Was This a Good Idea?"
   ]
  },
  {
   "cell_type": "markdown",
   "metadata": {
    "collapsed": true
   },
   "source": [
    "After all the effort of breaking down the LED blinker into a hierarchy and then implementing\n",
    "it in MyHDL from the bottom up, you might ask yourself: \"Was this a good idea?\"\n",
    "\n",
    "In the sense of learning about hierarchy and abstraction, yes it was.\n",
    "Illustrating these principles by showing how they're applied to a problem\n",
    "you've already solved is a time-honored technique.\n",
    "\n",
    "But in the sense of good design practice, then the answer is *NO!*\n",
    "It took a lot more effort to get the same result that was originally expressed in a few\n",
    "lines of code.\n",
    "*And less code is better code:*\n",
    "there's fewer places to make a mistake.\n",
    "It's also easier to understand something that you can take in with almost a single glance\n",
    "versus scanning through multiple screens of code, which is important if you're\n",
    "trying to maintain and extend a design over a long period of time.\n",
    "\n",
    "But real designs usually can't be solved with just a few lines of code.\n",
    "That's where hierarchy and abstraction can help you out.\n",
    "But don't carry it to an extreme: when you get to a level in the\n",
    "hierarchy that you can describe with a few lines of code, then don't\n",
    "break it down any further.\n",
    "Skill in any discipline is not just knowing what to do,\n",
    "but also knowing when *not* to do it.\n",
    "\n",
    "You might also be asking: \"Forgetting about code size and clarity,\n",
    "is one of these designs using the resources of the FPGA more efficiently?\"\n",
    "We can get a feel for this by omitting the `-q` option when running Yosys\n",
    "so it will spit out a bunch of status information as it works.\n",
    "Near the end, you'll see a section that reports how much of each\n",
    "type of FPGA resource was used to build the synthesized design.\n",
    "\n",
    "These are the stats for the low-level, hierarchical LED blinker:\n",
    "\n",
    "    === blinker ===\n",
    "\n",
    "       Number of wires:                 65\n",
    "       Number of wire bits:            191\n",
    "       Number of public wires:          59\n",
    "       Number of public wire bits:     185\n",
    "       Number of memories:               0\n",
    "       Number of memory bits:            0\n",
    "       Number of processes:              0\n",
    "       Number of cells:                 50\n",
    "         SB_DFF                         22\n",
    "         SB_LUT4                        28\n",
    "\n",
    "The low-level blinker uses 50 cells in the FPGA:\n",
    "22 for the D flip-flops (SB_DFF) of the counter and\n",
    "28 four-input lookup tables (SB_LUT4) for the adder.\n",
    "(The iCE40HX1K FPGA on the iCEstick has 1,280 LUTs and D flip-flops,\n",
    "so we're not exactly straining it here.)\n",
    "\n",
    "Compare that with the stats for the high-level, non-hierarchical \n",
    "LED blinker we designed in the previous example:\n",
    "\n",
    "    === blinker ===\n",
    "\n",
    "       Number of wires:                  5\n",
    "       Number of wire bits:             68\n",
    "       Number of public wires:           3\n",
    "       Number of public wire bits:      24\n",
    "       Number of memories:               0\n",
    "       Number of memory bits:            0\n",
    "       Number of processes:              0\n",
    "       Number of cells:                 64\n",
    "         SB_CARRY                       20\n",
    "         SB_DFF                         21\n",
    "         SB_DFFE                         1\n",
    "         SB_LUT4                        22\n",
    "\n",
    "The high-level design actually uses more total cells (64),\n",
    "but of different types.\n",
    "It still employs 22 D flip-flops (the SB_DFFE is a flip-flop with\n",
    "an enable input).\n",
    "It does use fewer LUTs (22 versus 28), but it makes up for that by using \n",
    "20 carry logic circuits (SB_CARRY) specialized for\n",
    "computing the carry bits in an adder.\n",
    "\n",
    "However, these stats are a bit misleading because the iCE40 FPGA\n",
    "packs a LUT, carry logic and a DFF all together in a single\n",
    "*logic cell* (LC).\n",
    "So the high-level blinker could *possibly* be packed into\n",
    "a total of 22 LCs, while the low-level version would require\n",
    "a minimum of 28 LCs (six of which would use only the LUT and leave\n",
    "the DFF idle).\n",
    "\n",
    "In order to resolve the question, we can omit the `-q` option\n",
    "for the Arachne-pnr so it will also generate some additional information.\n",
    "Here's the result for the low-level blinker:\n",
    "\n",
    "    After packing:\n",
    "    IOs          2 / 96\n",
    "    GBs          0 / 8\n",
    "      GB_IOs     0 / 8\n",
    "    LCs          28 / 1280\n",
    "      DFF        22\n",
    "      CARRY      0\n",
    "      CARRY, DFF 0\n",
    "      DFF PASS   0\n",
    "      CARRY PASS 0\n",
    "    BRAMs        0 / 16\n",
    "    WARMBOOTs    0 / 1\n",
    "    PLLs         0 / 1\n",
    "\n",
    "And here's the stats for the high-level version:\n",
    "\n",
    "    After packing:\n",
    "    IOs          2 / 96\n",
    "    GBs          0 / 8\n",
    "      GB_IOs     0 / 8\n",
    "    LCs          24 / 1280\n",
    "      DFF        3\n",
    "      CARRY      2\n",
    "      CARRY, DFF 19\n",
    "      DFF PASS   0\n",
    "      CARRY PASS 1\n",
    "    BRAMs        0 / 16\n",
    "    WARMBOOTs    0 / 1\n",
    "    PLLs         0 / 1\n",
    "\n",
    "You can see the high-level blinker can be packed into just 24 LCs,\n",
    "while the low-level version requires 28 LCs.\n",
    "\n",
    "So *why* is the high-level design more efficient than the low-level one?\n",
    "It's because the *intent* of the high-level version is more obvious.\n",
    "Synthesizers contain *optimizers* that look for common code structures like\n",
    "`q.next = q + 1` and realize that this implies the need for an adder and a register.\n",
    "Knowing that, the synthesizer can make use of special purpose circuitry\n",
    "like the carry logic.\n",
    "\n",
    "But the low-level design doesn't expose a clear intent;\n",
    "it's broken down into a collection of logic gates for the full-adders\n",
    "and D flip-flops for the register.\n",
    "That's like being handed a bag of jigsaw puzzle pieces: you know there's a picture in there,\n",
    "somewhere, but it's a lot of work to put it all back together.\n",
    "The synthesizer feels the same way.\n",
    "And since there's nothing obvious to trigger its optimizers, it has to go with\n",
    "a suboptimal design that doesn't use the special purpose circuitry.\n",
    "\n",
    "The takeaway from this: write the leaves of your hierarchy tree using\n",
    "high-level code statements and let the synthesizer do the low-level work from there.\n",
    "\n",
    "Now, maybe some you have a final question: \"How do bears factor into all of this?\"\n",
    "\n",
    "They don't. I can't believe I have to keep telling you that.\n"
   ]
  },
  {
   "cell_type": "markdown",
   "metadata": {},
   "source": [
    "## Notes"
   ]
  },
  {
   "cell_type": "markdown",
   "metadata": {},
   "source": [
    "[1] <a name=\"Full_Adder_Gates\"></a>The gate implementation of a full-adder bit is touched on in the\n",
    "    [Wikipedia article on binary adders](https://en.wikipedia.org/wiki/Adder_(electronics).\n",
    "    The minutiae involve binary arithmetic, logic minimization, and computer arithmetic circuits,\n",
    "    all of which are discussed on many sites in much more detail than I'm willing to provide here.\n",
    "\n",
    "[2] <a name=\"Bus_Notation\"></a>The `Bus` objects provided by PygMyHDL can be thought of as an array of `Wire` objects.\n",
    "    The function of a bus is to accept logic levels output by some circuitry and transfer it to the inputs of some\n",
    "    other circuitry. In order to drive a particular wire at index $k$ of a bus `B`, you have to access the $k$-th *input*\n",
    "    to the bus using the notation `B.i[k]`. Then, when you want to get hold of that value somewhere else, you\n",
    "    can access the *output* of the bus using the notation `B.o[k]`. So when you connect buses to a MyHDL function,\n",
    "    you'll use the `.o` suffix for a bus that is driving the function's inputs, and a `.i` suffix for a bus that is\n",
    "    receiving values from the function's outputs.\n",
    "\n",
    "[3] <a name=\"No_I_O_Suffixes\"></a>If you have sharp eyes, you'll notice I don't use the `.o` and `.i` suffixes\n",
    "    when I connect the `data_in` and `data_out` buses to the instantiation of the `register`.\n",
    "    That's because I don't need to access individual bits at that point, therefore I can just pass the\n",
    "    entire bus to the register. The internals of `register` will use the suffixes when attaching bits of these\n",
    "    buses to the individual D flip-flops."
   ]
  }
 ],
 "metadata": {
  "kernelspec": {
   "display_name": "Python 3",
   "language": "python",
   "name": "python3"
  },
  "language_info": {
   "codemirror_mode": {
    "name": "ipython",
    "version": 3
   },
   "file_extension": ".py",
   "mimetype": "text/x-python",
   "name": "python",
   "nbconvert_exporter": "python",
   "pygments_lexer": "ipython3",
   "version": "3.5.4"
  }
 },
 "nbformat": 4,
 "nbformat_minor": 1
}
