{
 "cells": [
  {
   "cell_type": "code",
   "execution_count": 1,
   "metadata": {},
   "outputs": [
    {
     "data": {
      "text/html": [
       "<style>\n",
       "@import url('http://fonts.googleapis.com/css?family=Source+Code+Pro');\n",
       "@import url('http://fonts.googleapis.com/css?family=Lora');\n",
       "\n",
       "//@import url('http://fonts.googleapis.com/css?family=Open+Sans');\n",
       "//@import url('http://fonts.googleapis.com/css?family=Vollkorn');\n",
       "//@import url('http://fonts.googleapis.com/css?family=Karla');\n",
       "//@import url('http://fonts.googleapis.com/css?family=Poppins');\n",
       "//@import url('http://fonts.googleapis.com/css?family=Arimo');\n",
       "//@import url('http://fonts.googleapis.com/css?family=Roboto');\n",
       "//@import url('http://fonts.googleapis.com/css?family=Lato');\n",
       "//@import url('http://fonts.googleapis.com/css?family=Domine');\n",
       "//@import url('http://fonts.googleapis.com/css?family=Chivo');\n",
       "//@import url('http://fonts.googleapis.com/css?family=Cardo');\n",
       "//@import url('http://fonts.googleapis.com/css?family=Arvo');\n",
       "//@import url('http://fonts.googleapis.com/css?family=Crimson+Text');\n",
       "//@import url('http://fonts.googleapis.com/css?family=Ubuntu');\n",
       "//@import url('http://fonts.googleapis.com/css?family=Fontin');\n",
       "//@import url('http://fonts.googleapis.com/css?family=Raleway');\n",
       "//@import url('http://fonts.googleapis.com/css?family=Merriweather');\n",
       "\n",
       "\n",
       ".CodeMirror pre {\n",
       "    font-family: 'Source Code Pro', Consolas, monocco, monospace;\n",
       "}\n",
       "    div.cell{\n",
       "        //width: 950px;\n",
       "        margin-left: 0% !important;\n",
       "        margin-right: auto;\n",
       "    }\n",
       "    div.text_cell_render{\n",
       "        font-family: 'Lora';\n",
       "        //font-family: 'Open Sans';\n",
       "        //font-family: 'Karla',verdana,arial,sans-serif;\n",
       "        //font-family: 'Roboto',verdana,arial,sans-serif;\n",
       "        //font-family: 'Lato',verdana,arial,sans-serif;\n",
       "        //font-family: 'Domine',verdana,arial,sans-serif;\n",
       "        //font-family: 'Chivo',verdana,arial,sans-serif;\n",
       "        //font-family: 'Cardo',verdana,arial,sans-serif;\n",
       "        //font-family: 'Arvo',verdana,arial,sans-serif;\n",
       "        //font-family: 'Poppins',verdana,arial,sans-serif;\n",
       "        //font-family: 'Ubuntu',verdana,arial,sans-serif;\n",
       "        //font-family: 'Fontin',verdana,arial,sans-serif;\n",
       "        //font-family: 'Raleway',verdana,arial,sans-serif;\n",
       "        //font-family: 'Merriweather',verdana,arial,sans-serif;\n",
       "        //font-family: 'Crimson Text', verdana,arial,sans-serif;\n",
       "        //font-family: verdana,arial,sans-serif;\n",
       "        //font-family: arial,sans-serif;\n",
       "        line-height: 125%;\n",
       "        font-size: 130%;\n",
       "        text-align: justify;\n",
       "        text-justify:inter-word;\n",
       "    }\n",
       "    div.text_cell code {\n",
       "        background: transparent;\n",
       "        color: #000000;\n",
       "        font-weight: 400;\n",
       "        font-size: 12pt;\n",
       "        //font-style: bold;\n",
       "        font-family:  'Source Code Pro', Consolas, monocco, monospace;\n",
       "   }\n",
       "    h1 {\n",
       "        font-family: 'Open sans',verdana,arial,sans-serif;\n",
       "\t}\n",
       "\n",
       "    div.input_area {\n",
       "        background: #F6F6F9;\n",
       "        border: 1px solid #586e75;\n",
       "    }\n",
       "\n",
       "    .text_cell_render h1 {\n",
       "        font-weight: 400;\n",
       "        font-size: 30pt;\n",
       "        line-height: 100%;\n",
       "        color:#c76c0c;\n",
       "        margin-bottom: 0.5em;\n",
       "        margin-top: 1em;\n",
       "        display: block;\n",
       "        white-space: wrap;\n",
       "        text-align: left;\n",
       "    }\n",
       "    h2 {\n",
       "        font-family: 'Open sans',verdana,arial,sans-serif;\n",
       "        text-align: left;\n",
       "    }\n",
       "    .text_cell_render h2 {\n",
       "        font-weight: 500;\n",
       "        font-size: 16pt;\n",
       "        font-style: italic;\n",
       "        line-height: 100%;\n",
       "        color:#c76c0c;\n",
       "        margin-bottom: 0.5em;\n",
       "        margin-top: 1.5em;\n",
       "        display: block;\n",
       "        white-space: wrap;\n",
       "        text-align: left;\n",
       "    }\n",
       "    h3 {\n",
       "        font-family: 'Open sans',verdana,arial,sans-serif;\n",
       "    }\n",
       "    .text_cell_render h3 {\n",
       "        font-weight: 500;\n",
       "        font-size: 14pt;\n",
       "        line-height: 100%;\n",
       "        color:#d77c0c;\n",
       "        margin-bottom: 0.5em;\n",
       "        margin-top: 2em;\n",
       "        display: block;\n",
       "        white-space: wrap;\n",
       "        text-align: left;\n",
       "    }\n",
       "    h4 {\n",
       "        font-family: 'Open sans',verdana,arial,sans-serif;\n",
       "    }\n",
       "    .text_cell_render h4 {\n",
       "        font-weight: 100;\n",
       "        font-size: 14pt;\n",
       "        color:#d77c0c;\n",
       "        margin-bottom: 0.5em;\n",
       "        margin-top: 0.5em;\n",
       "        display: block;\n",
       "        white-space: nowrap;\n",
       "    }\n",
       "    h5 {\n",
       "        font-family: 'Open sans',verdana,arial,sans-serif;\n",
       "    }\n",
       "\n",
       "    .text_cell_render h5 {\n",
       "        font-weight: 200;\n",
       "        font-style: normal;\n",
       "        color: #1d3b84;\n",
       "        font-size: 16pt;\n",
       "        margin-bottom: 0em;\n",
       "        margin-top: 0.5em;\n",
       "        display: block;\n",
       "        white-space: nowrap;\n",
       "    }\n",
       "    div.output_subarea.output_text.output_pyout {\n",
       "        overflow-x: auto;\n",
       "        overflow-y: scroll;\n",
       "        max-height: 50000px;\n",
       "    }\n",
       "    div.output_subarea.output_stream.output_stdout.output_text {\n",
       "        overflow-x: auto;\n",
       "        overflow-y: scroll;\n",
       "        max-height: 50000px;\n",
       "    }\n",
       "    div.output_wrapper{\n",
       "        margin-top:0.2em;\n",
       "        margin-bottom:0.2em;\n",
       "}\n",
       "\n",
       "    .rendered_html table {\n",
       "        font-size: 100%;\n",
       "    }\n",
       "\n",
       "    code{\n",
       "        font-size: 6pt;\n",
       "\n",
       "    }\n",
       "    .rendered_html code{\n",
       "    background-color: transparent;\n",
       "    }\n",
       "    ul{\n",
       "        margin: 2em;\n",
       "    }\n",
       "    ul li{\n",
       "        padding-left: 0.5em;\n",
       "        margin-bottom: 0.5em;\n",
       "        margin-top: 0.5em;\n",
       "    }\n",
       "    ul li li{\n",
       "        padding-left: 0.2em;\n",
       "        margin-bottom: 0.2em;\n",
       "        margin-top: 0.2em;\n",
       "    }\n",
       "    ol{\n",
       "        margin: 2em;\n",
       "    }\n",
       "    ol li{\n",
       "        padding-left: 0.5em;\n",
       "        margin-bottom: 0.5em;\n",
       "        margin-top: 0.5em;\n",
       "    }\n",
       "    ul li{\n",
       "        padding-left: 0.5em;\n",
       "        margin-bottom: 0.5em;\n",
       "        margin-top: 0.2em;\n",
       "    }\n",
       "    a:link{\n",
       "       color:#447adb;\n",
       "    }\n",
       "    a:visited{\n",
       "       color: #1d3b84;\n",
       "    }\n",
       "    a:hover{\n",
       "       color: #1d3b84;\n",
       "    }\n",
       "    a:focus{\n",
       "       color:#447adb;\n",
       "    }\n",
       "    a:active{\n",
       "       font-weight: bold;\n",
       "       color:#447adb;\n",
       "    }\n",
       "    .rendered_html :link {\n",
       "       text-decoration: underline;\n",
       "    }\n",
       "    .rendered_html :hover {\n",
       "       text-decoration: none;\n",
       "    }\n",
       "    .rendered_html :visited {\n",
       "      text-decoration: none;\n",
       "    }\n",
       "    .rendered_html :focus {\n",
       "      text-decoration: none;\n",
       "    }\n",
       "    .rendered_html :active {\n",
       "      text-decoration: none;\n",
       "    }\n",
       "    .warning{\n",
       "        color: rgb( 240, 20, 20 )\n",
       "    }\n",
       "    hr {\n",
       "      color: #f3f3f3;\n",
       "      background-color: #f3f3f3;\n",
       "      height: 1px;\n",
       "    }\n",
       "    blockquote{\n",
       "      display:block;\n",
       "      background: #fcfcfc;\n",
       "      border-left: 5px solid #c76c0c;\n",
       "      font-family: 'Open sans',verdana,arial,sans-serif;\n",
       "      width:680px;\n",
       "      padding: 10px 10px 10px 10px;\n",
       "      text-align:justify;\n",
       "      text-justify:inter-word;\n",
       "      }\n",
       "      blockquote p {\n",
       "        margin-bottom: 0;\n",
       "        line-height: 125%;\n",
       "        font-size: 100%;\n",
       "      }\n",
       "</style>\n",
       "<script>\n",
       "    MathJax.Hub.Config({\n",
       "                        TeX: {\n",
       "                           extensions: [\"AMSmath.js\"],\n",
       "                           equationNumbers: { autoNumber: \"AMS\", useLabelIds: true}\n",
       "                           },\n",
       "                tex2jax: {\n",
       "                    inlineMath: [ ['$','$'], [\"\\\\(\",\"\\\\)\"] ],\n",
       "                    displayMath: [ ['$$','$$'], [\"\\\\[\",\"\\\\]\"] ]\n",
       "                },\n",
       "                displayAlign: 'center', // Change this to 'center' to center equations.\n",
       "                \"HTML-CSS\": {\n",
       "                    scale:95,\n",
       "                        availableFonts: [],\n",
       "                        preferredFont:null,\n",
       "                        webFont: \"TeX\",\n",
       "                    styles: {'.MathJax_Display': {\"margin\": 4}}\n",
       "                }\n",
       "        });\n",
       "</script>\n"
      ],
      "text/plain": [
       "<IPython.core.display.HTML object>"
      ]
     },
     "execution_count": 1,
     "metadata": {},
     "output_type": "execute_result"
    }
   ],
   "source": [
    "from IPython.core.display import HTML\n",
    "HTML(open('../css/custom.css', 'r').read())"
   ]
  },
  {
   "cell_type": "markdown",
   "metadata": {},
   "source": [
    "**_Note_**: If you're reading this as a static HTML page, you can also get it as an\n",
    "executable Jupyter notebook [here](https://github.com/xesscorp/pygmyhdl/tree/master/examples)."
   ]
  },
  {
   "cell_type": "markdown",
   "metadata": {},
   "source": [
    "# PWM"
   ]
  },
  {
   "cell_type": "markdown",
   "metadata": {},
   "source": [
    "[Pulse width modulators](https://learn.sparkfun.com/tutorials/pulse-width-modulation)\n",
    "(PWMs) output a repetitive waveform that is high for a set percentage\n",
    "of the interval and low for the remainder.\n",
    "One of their uses is to generate a quasi-analog signal using only a digital output pin.\n",
    "This makes them useful for doing things like varying the brightness of an LED\n",
    "by adjusting the amount of time the signal is high and the LED is on.\n",
    "\n",
    "If you've used PWMs before on a microcontroller, you know what a headache it is to set all\n",
    "the control bits to select the clock source, pulse durations, and so forth.\n",
    "Surprisingly, PWMs are actually a bit *easier* with FPGAs.\n",
    "Let's take a look."
   ]
  },
  {
   "cell_type": "markdown",
   "metadata": {},
   "source": [
    "## A Simple PWM"
   ]
  },
  {
   "cell_type": "markdown",
   "metadata": {},
   "source": [
    "A very simple PWM consists of a counter and a comparator.\n",
    "The counter is incremented by a clock signal and its value is compared to a threshold.\n",
    "When the counter is less than the threshold, the PWM output is high, otherwise it's low.\n",
    "So the higher the threshold, the longer the output is on.\n",
    "This on-off pulsing repeats every time the\n",
    "counter rolls over and begins again at zero.\n",
    "\n",
    "<img alt=\"PWM block diagram.\" src=\"pwm_block_diag.png\" width=\"600\" />"
   ]
  },
  {
   "cell_type": "markdown",
   "metadata": {},
   "source": [
    "Here's the MyHDL code for a simple PWM:"
   ]
  },
  {
   "cell_type": "code",
   "execution_count": 2,
   "metadata": {
    "collapsed": true
   },
   "outputs": [],
   "source": [
    "from pygmyhdl import *\n",
    "\n",
    "@chunk\n",
    "def pwm_simple(clk_i, pwm_o, threshold):\n",
    "    '''\n",
    "    Inputs:\n",
    "        clk_i: PWM changes state on the rising edge of this clock input.\n",
    "        threshold: Bit-length determines counter width and value determines when output goes low.\n",
    "    Outputs:\n",
    "        pwm_o: PWM output starts and stays high until counter > threshold and then output goes low.\n",
    "    '''\n",
    "    cnt = Bus(len(threshold), name='cnt')  # Create a counter with the same number of bits as the threshold.\n",
    "    \n",
    "    # Here's the sequential logic for incrementing the counter. We've seen this before!\n",
    "    @seq_logic(clk_i.posedge)\n",
    "    def cntr_logic():\n",
    "        cnt.next = cnt + 1\n",
    "    \n",
    "    # Combinational logic that drives the PWM output high when the counter is less than the threshold.\n",
    "    @comb_logic\n",
    "    def output_logic():\n",
    "        pwm_o.next = cnt < threshold  # cnt<threshold evaluates to either True (1) or False (0). "
   ]
  },
  {
   "cell_type": "markdown",
   "metadata": {},
   "source": [
    "Now I'll simulate it:"
   ]
  },
  {
   "cell_type": "code",
   "execution_count": 3,
   "metadata": {},
   "outputs": [
    {
     "name": "stderr",
     "output_type": "stream",
     "text": [
      "<class 'myhdl.StopSimulation'>: No more events\n"
     ]
    },
    {
     "data": {
      "text/html": [
       "<div><script type=\"WaveDrom\">{\"signal\": [{\"wave\": \"10101010101010101010101010101010101\", \"name\": \"clk\"}, {\"wave\": \"=.=.=.=.=.=.=.=.=.=.=.=.=.=.=.=.=.=\", \"name\": \"cnt\", \"data\": [\"7\", \"0\", \"1\", \"2\", \"3\", \"4\", \"5\", \"6\", \"7\", \"0\", \"1\", \"2\", \"3\", \"4\", \"5\", \"6\", \"7\", \"0\"]}, {\"wave\": \"0.1.....0.........1.....0.........1\", \"name\": \"pwm\"}], \"head\": {\"tock\": 13}, \"foot\": {\"tock\": 13}}</script></div>"
      ]
     },
     "metadata": {},
     "output_type": "display_data"
    },
    {
     "data": {
      "application/javascript": [
       "$.getScript(\"http://wavedrom.com/wavedrom.min.js\", function () {\n",
       "$.getScript(\"http://wavedrom.com/skins/default.js\", function () {\n",
       "WaveDrom.ProcessAll();});\n",
       "});\n"
      ]
     },
     "metadata": {},
     "output_type": "display_data"
    }
   ],
   "source": [
    "initialize()\n",
    "\n",
    "# Create signals and attach them to the PWM.\n",
    "clk = Wire(name='clk')\n",
    "pwm = Wire(name='pwm')\n",
    "threshold = Bus(3, init_val=3) # Use a 3-bit threshold with a value of 3.\n",
    "pwm_simple(clk, pwm, threshold)\n",
    "\n",
    "# Pulse the clock and look at the PWM output.\n",
    "clk_sim(clk, num_cycles=24)\n",
    "show_waveforms(start_time=13, tock=True)"
   ]
  },
  {
   "cell_type": "markdown",
   "metadata": {},
   "source": [
    "The simulation was set up with a three-bit threshold having a value of three.\n",
    "The counter has the same number of bits as the threshold, so it will cycle\n",
    "over the values 0, 1, 2, $\\ldots$, 6, 7, 0, 1, $\\ldots$.\n",
    "From the waveforms, you can see the PWM output is on for three out of every eight clock cycles.\n",
    "\n",
    "One characteristic of this PWM is the total pulse duration (both on and off portions)\n",
    "is restricted to being a power-of-two clock cycles.\n",
    "The next PWM will remove that limitation."
   ]
  },
  {
   "cell_type": "markdown",
   "metadata": {},
   "source": [
    "## A Less-Simple PWM"
   ]
  },
  {
   "cell_type": "markdown",
   "metadata": {},
   "source": [
    "We can make the PWM more general with allowable intervals that are not powers of 2 by adding another comparator.\n",
    "This comparator watches the counter value and rolls it back to zero once it reaches a given value.\n",
    "The comparator is implemented with a small addition to the sequential logic of the simple PWM as follows:"
   ]
  },
  {
   "cell_type": "code",
   "execution_count": 4,
   "metadata": {
    "collapsed": true
   },
   "outputs": [],
   "source": [
    "@chunk\n",
    "def pwm_less_simple(clk_i, pwm_o, threshold, duration):\n",
    "    '''\n",
    "    Inputs:\n",
    "        clk_i: PWM changes state on the rising edge of this clock input.\n",
    "        threshold: Determines when output goes low.\n",
    "        duration: The length of the total pulse duration as determined by the counter.\n",
    "    Outputs:\n",
    "        pwm_o: PWM output starts and stays high until counter > threshold and then output goes low.\n",
    "    '''\n",
    "    # The log2 of the pulse duration determines the number of bits needed\n",
    "    # in the counter. The log2 value is rounded up to the next integer value.\n",
    "    import math\n",
    "    length = math.ceil(math.log(duration, 2))\n",
    "    cnt = Bus(length, name='cnt')\n",
    "    \n",
    "    # Augment the counter with a comparator to adjust the pulse duration.\n",
    "    @seq_logic(clk_i.posedge)\n",
    "    def cntr_logic():\n",
    "        cnt.next = cnt + 1\n",
    "        # Reset the counter to zero once it reaches one less than the desired duration.\n",
    "        # So if the duration is 3, the counter will count 0, 1, 2, 0, 1, 2...\n",
    "        if cnt == duration-1:\n",
    "            cnt.next = 0\n",
    "\n",
    "    @comb_logic\n",
    "    def output_logic():\n",
    "        pwm_o.next = cnt < threshold"
   ]
  },
  {
   "cell_type": "markdown",
   "metadata": {},
   "source": [
    "Now test the PWM with a non-power of 2 interval:"
   ]
  },
  {
   "cell_type": "code",
   "execution_count": 5,
   "metadata": {},
   "outputs": [
    {
     "name": "stderr",
     "output_type": "stream",
     "text": [
      "<class 'myhdl.StopSimulation'>: No more events\n"
     ]
    },
    {
     "data": {
      "text/html": [
       "<div><script type=\"WaveDrom\">{\"signal\": [{\"wave\": \"010101010101010101010101010101\", \"name\": \"clk\"}, {\"wave\": \"==.=.=.=.=.=.=.=.=.=.=.=.=.=.=\", \"name\": \"cnt\", \"data\": [\"0\", \"1\", \"2\", \"3\", \"4\", \"0\", \"1\", \"2\", \"3\", \"4\", \"0\", \"1\", \"2\", \"3\", \"4\", \"0\"]}, {\"wave\": \"1....0...1.....0...1.....0...1\", \"name\": \"pwm\"}]}</script></div>"
      ]
     },
     "metadata": {},
     "output_type": "display_data"
    },
    {
     "data": {
      "application/javascript": [
       "$.getScript(\"http://wavedrom.com/wavedrom.min.js\", function () {\n",
       "$.getScript(\"http://wavedrom.com/skins/default.js\", function () {\n",
       "WaveDrom.ProcessAll();});\n",
       "});\n"
      ]
     },
     "metadata": {},
     "output_type": "display_data"
    }
   ],
   "source": [
    "initialize()\n",
    "clk = Wire(name='clk')\n",
    "pwm = Wire(name='pwm')\n",
    "pwm_less_simple(clk, pwm, threshold=3, duration=5)\n",
    "clk_sim(clk, num_cycles=15)\n",
    "show_waveforms()"
   ]
  },
  {
   "cell_type": "markdown",
   "metadata": {},
   "source": [
    "The simulation shows the PWM pulse duration is five clock cycles with the output being high for three cycles and\n",
    "low for the other two."
   ]
  },
  {
   "cell_type": "markdown",
   "metadata": {},
   "source": [
    "But there's a problem if the threshold is changed while the PWM is operating.\n",
    "This can cause [*glitches*](https://en.wikipedia.org/wiki/Glitch) under the wrong conditions.\n",
    "To demonstrate this, a PWM with a pulse duration of ten cycles will have its threshold changed\n",
    "from three to eight during the middle of a pulse by the simulation test bench shown below:"
   ]
  },
  {
   "cell_type": "code",
   "execution_count": 6,
   "metadata": {},
   "outputs": [
    {
     "name": "stderr",
     "output_type": "stream",
     "text": [
      "<class 'myhdl.StopSimulation'>: No more events\n"
     ]
    },
    {
     "data": {
      "text/html": [
       "<div><script type=\"WaveDrom\">{\"signal\": [{\"wave\": \"0101010101010101010101\", \"name\": \"clk\"}, {\"wave\": \"==.=.=.=.=.=.=.=.=.=.=\", \"name\": \"cnt\", \"data\": [\"9\", \"0\", \"1\", \"2\", \"3\", \"4\", \"5\", \"6\", \"7\", \"8\", \"9\", \"0\"]}, {\"wave\": \"01.....0..1......0...1\", \"name\": \"pwm\"}, {\"wave\": \"=.........=...........\", \"name\": \"threshold\", \"data\": [\"3\", \"8\"]}], \"head\": {\"tick\": 19}, \"foot\": {\"tick\": 19}}</script></div>"
      ]
     },
     "metadata": {},
     "output_type": "display_data"
    },
    {
     "data": {
      "application/javascript": [
       "$.getScript(\"http://wavedrom.com/wavedrom.min.js\", function () {\n",
       "$.getScript(\"http://wavedrom.com/skins/default.js\", function () {\n",
       "WaveDrom.ProcessAll();});\n",
       "});\n"
      ]
     },
     "metadata": {},
     "output_type": "display_data"
    }
   ],
   "source": [
    "initialize()\n",
    "clk = Wire(name='clk')\n",
    "pwm = Wire(name='pwm')\n",
    "threshold = Bus(4, name='threshold')\n",
    "pwm_less_simple(clk, pwm, threshold, 10)\n",
    "\n",
    "def test_bench(num_cycles):\n",
    "    clk.next = 0\n",
    "    threshold.next = 3  # Start with threshold of 3.\n",
    "    yield delay(1)\n",
    "    for cycle in range(num_cycles):\n",
    "        clk.next = 0\n",
    "        # Raise the threshold to 8 after 15 cycles.\n",
    "        if cycle >= 14:\n",
    "            threshold.next = 8\n",
    "        yield delay(1)\n",
    "        clk.next = 1\n",
    "        yield delay(1)\n",
    "\n",
    "# Simulate for 20 clocks and show a specific section of the waveforms.\n",
    "simulate(test_bench(20))\n",
    "show_waveforms(tick=True, start_time=19)"
   ]
  },
  {
   "cell_type": "markdown",
   "metadata": {},
   "source": [
    "At time $t = 20$, a pulse begins.\n",
    "The PWM output is high for three clock cycles until $t = 26$ and then goes low.\n",
    "At $t = 29$, the threshold increases from 3 to 8, exceeding the current counter value.\n",
    "This makes the PWM output go high again and it stays there until the counter reaches the new threshold.\n",
    "So there is a glitch from $t = 29$ to $t = 36$.\n",
    "\n",
    "It's usually the case that every new problem can be fixed by adding a bit more hardware.\n",
    "This case is no different."
   ]
  },
  {
   "cell_type": "markdown",
   "metadata": {},
   "source": [
    "## A Glitch-less PWM"
   ]
  },
  {
   "cell_type": "markdown",
   "metadata": {},
   "source": [
    "The glitch in the last PWM could have been avoided if we didn't allow the thresold to change\n",
    "willy-nilly during a pulse.\n",
    "We can prevent this by adding a register that stores the threshold and doesn't allow it\n",
    "to change until the current pulse ends and a new one begins."
   ]
  },
  {
   "cell_type": "code",
   "execution_count": 7,
   "metadata": {
    "collapsed": true
   },
   "outputs": [],
   "source": [
    "@chunk\n",
    "def pwm_glitchless(clk_i, pwm_o, threshold, interval):\n",
    "    import math\n",
    "    length = math.ceil(math.log(interval, 2))\n",
    "    cnt = Bus(length)\n",
    "    \n",
    "    threshold_r = Bus(length, name='threshold_r') # Create a register to hold the threshold value.\n",
    "    \n",
    "    @seq_logic(clk_i.posedge)\n",
    "    def cntr_logic():\n",
    "        cnt.next = cnt + 1\n",
    "        if cnt == interval-1:\n",
    "            cnt.next = 0\n",
    "            threshold_r.next = threshold  # The threshold only changes at the end of a pulse.\n",
    "        \n",
    "    @comb_logic\n",
    "    def output_logic():\n",
    "        pwm_o.next = cnt < threshold_r"
   ]
  },
  {
   "cell_type": "markdown",
   "metadata": {},
   "source": [
    "Now we can test it using the previous test bench:"
   ]
  },
  {
   "cell_type": "code",
   "execution_count": 8,
   "metadata": {},
   "outputs": [
    {
     "name": "stderr",
     "output_type": "stream",
     "text": [
      "<class 'myhdl.StopSimulation'>: No more events\n"
     ]
    },
    {
     "data": {
      "text/html": [
       "<div><script type=\"WaveDrom\">{\"signal\": [{\"wave\": \"01010101010101010101010101\", \"name\": \"clk\"}, {\"wave\": \"01.....0.............1....\", \"name\": \"pwm\"}, {\"wave\": \"=.........=...............\", \"name\": \"threshold\", \"data\": [\"3\", \"8\"]}, {\"wave\": \"==...................=....\", \"name\": \"threshold_r\", \"data\": [\"0\", \"3\", \"8\"]}], \"head\": {\"tick\": 19}, \"foot\": {\"tick\": 19}}</script></div>"
      ]
     },
     "metadata": {},
     "output_type": "display_data"
    },
    {
     "data": {
      "application/javascript": [
       "$.getScript(\"http://wavedrom.com/wavedrom.min.js\", function () {\n",
       "$.getScript(\"http://wavedrom.com/skins/default.js\", function () {\n",
       "WaveDrom.ProcessAll();});\n",
       "});\n"
      ]
     },
     "metadata": {},
     "output_type": "display_data"
    }
   ],
   "source": [
    "initialize()\n",
    "clk = Wire(name='clk')\n",
    "pwm = Wire(name='pwm')\n",
    "threshold = Bus(4, name='threshold')\n",
    "pwm_glitchless(clk, pwm, threshold, 10)\n",
    "\n",
    "simulate(test_bench(22))\n",
    "show_waveforms(tick=True, start_time=19)"
   ]
  },
  {
   "cell_type": "markdown",
   "metadata": {},
   "source": [
    "See? No more glitches!\n",
    "As before, the threshold changes at $t = 29$ but the threshold register doesn't change until $t = 40$\n",
    "when the pulse ends."
   ]
  },
  {
   "cell_type": "markdown",
   "metadata": {},
   "source": [
    "## Which is Better?"
   ]
  },
  {
   "cell_type": "markdown",
   "metadata": {},
   "source": [
    "So which one of these PWMs is \"better\"?\n",
    "The metric I'll use here is the amount of FPGA resources each one uses.\n",
    "\n",
    "First, I'll synthesize and compile the simple PWM with an eight-bit threshold:"
   ]
  },
  {
   "cell_type": "code",
   "execution_count": 9,
   "metadata": {},
   "outputs": [
    {
     "name": "stderr",
     "output_type": "stream",
     "text": [
      "c:\\python35-32\\lib\\site-packages\\ipykernel_launcher.py:2: UserWarning: \n",
      "    toVerilog(): Deprecated usage: See http://dev.myhdl.org/meps/mep-114.html\n",
      "  \n",
      "seed: 1\n",
      "device: 1k\n",
      "read_chipdb +/chipdb-1k.bin...\n",
      "  supported packages: cb121, cb132, cb81, cm121, cm36, cm49, cm81, qn84, swg16tr, tq144, vq100\n",
      "read_blif pwm_simple.blif...\n",
      "prune...\n",
      "instantiate_io...\n",
      "pack...\n",
      "\n",
      "After packing:\n",
      "IOs          10 / 96\n",
      "GBs          0 / 8\n",
      "  GB_IOs     0 / 8\n",
      "LCs          32 / 1280\n",
      "  DFF        3\n",
      "  CARRY      10\n",
      "  CARRY, DFF 5\n",
      "  DFF PASS   1\n",
      "  CARRY PASS 1\n",
      "BRAMs        0 / 16\n",
      "WARMBOOTs    0 / 1\n",
      "PLLs         0 / 1\n",
      "\n",
      "place_constraints...\n",
      "promote_globals...\n",
      "  promoted clk_i$2, 8 / 8\n",
      "  promoted 1 nets\n",
      "    1 clk\n",
      "  1 globals\n",
      "    1 clk\n",
      "realize_constants...\n",
      "  realized 1\n",
      "place...\n",
      "  initial wire length = 649\n",
      "  at iteration #50: temp = 6.39439, wire length = 287\n",
      "  at iteration #100: temp = 3.11838, wire length = 199\n",
      "  at iteration #150: temp = 0.226164, wire length = 96\n",
      "  final wire length = 93\n",
      "\n",
      "After placement:\n",
      "PIOs       6 / 96\n",
      "PLBs       7 / 160\n",
      "BRAMs      0 / 16\n",
      "\n",
      "  place time 0.13s\n",
      "route...\n",
      "  pass 1, 0 shared.\n",
      "\n",
      "After routing:\n",
      "span_4     28 / 6944\n",
      "span_12    11 / 1440\n",
      "\n",
      "  route time 0.04s\n",
      "write_txt pwm_simple.asc...\n"
     ]
    }
   ],
   "source": [
    "threshold = Bus(8)\n",
    "toVerilog(pwm_simple, clk, pwm, threshold)\n",
    "!yosys -q -p \"synth_ice40 -blif pwm_simple.blif\" pwm_simple.v\n",
    "!arachne-pnr -d 1k pwm_simple.blif -o pwm_simple.asc"
   ]
  },
  {
   "cell_type": "markdown",
   "metadata": {},
   "source": [
    "Looking at the stats, the simple PWM uses eight D flip-flops (3 `DFF` and 5 `CARRY,DFF`) which\n",
    "is expected when using an eight-bit threshold.\n",
    "It also uses sixteen carry circuits (10 `CARRY`, 5 `CARRY,DFF` and 1 `CARRY PASS`) since the counter\n",
    "and the comparator are both eight bits wide and each bit needs a carry circuit.\n",
    "So this all looks reasonable.\n",
    "In total, the simple PWM uses 32 logic cells. "
   ]
  },
  {
   "cell_type": "markdown",
   "metadata": {},
   "source": [
    "For the PWM with non power-of-two pulse duration, I'll use the same eight-bit threshold but\n",
    "set the duration to 227:"
   ]
  },
  {
   "cell_type": "code",
   "execution_count": 10,
   "metadata": {},
   "outputs": [
    {
     "name": "stderr",
     "output_type": "stream",
     "text": [
      "c:\\python35-32\\lib\\site-packages\\ipykernel_launcher.py:1: UserWarning: \n",
      "    toVerilog(): Deprecated usage: See http://dev.myhdl.org/meps/mep-114.html\n",
      "  \"\"\"Entry point for launching an IPython kernel.\n",
      "seed: 1\n",
      "device: 1k\n",
      "read_chipdb +/chipdb-1k.bin...\n",
      "  supported packages: cb121, cb132, cb81, cm121, cm36, cm49, cm81, qn84, swg16tr, tq144, vq100\n",
      "read_blif pwm_less_simple.blif...\n",
      "prune...\n",
      "instantiate_io...\n",
      "pack...\n",
      "\n",
      "After packing:\n",
      "IOs          10 / 96\n",
      "GBs          0 / 8\n",
      "  GB_IOs     0 / 8\n",
      "LCs          36 / 1280\n",
      "  DFF        3\n",
      "  CARRY      10\n",
      "  CARRY, DFF 5\n",
      "  DFF PASS   1\n",
      "  CARRY PASS 1\n",
      "BRAMs        0 / 16\n",
      "WARMBOOTs    0 / 1\n",
      "PLLs         0 / 1\n",
      "\n",
      "place_constraints...\n",
      "promote_globals...\n",
      "  promoted clk_i$2, 8 / 8\n",
      "  promoted $abc$247$n1, 9 / 9\n",
      "  promoted 2 nets\n",
      "    1 sr/we\n",
      "    1 clk\n",
      "  2 globals\n",
      "    1 sr/we\n",
      "    1 clk\n",
      "realize_constants...\n",
      "  realized 1\n",
      "place...\n",
      "  initial wire length = 663\n",
      "  at iteration #50: temp = 8.65406, wire length = 289\n",
      "  at iteration #100: temp = 3.09376, wire length = 200\n",
      "  at iteration #150: temp = 0.786488, wire length = 118\n",
      "  final wire length = 96\n",
      "\n",
      "After placement:\n",
      "PIOs       7 / 96\n",
      "PLBs       7 / 160\n",
      "BRAMs      0 / 16\n",
      "\n",
      "  place time 0.17s\n",
      "route...\n",
      "  pass 1, 0 shared.\n",
      "\n",
      "After routing:\n",
      "span_4     30 / 6944\n",
      "span_12    15 / 1440\n",
      "\n",
      "  route time 0.05s\n",
      "write_txt pwm_less_simple.asc...\n"
     ]
    }
   ],
   "source": [
    "toVerilog(pwm_less_simple, clk, pwm, threshold, 227)\n",
    "!yosys -q -p \"synth_ice40 -blif pwm_less_simple.blif\" pwm_less_simple.v\n",
    "!arachne-pnr -d 1k pwm_less_simple.blif -o pwm_less_simple.asc"
   ]
  },
  {
   "cell_type": "markdown",
   "metadata": {},
   "source": [
    "Note that the number of D flip-flops and carry circuits has stayed the same, but the \n",
    "total number of logic cells consumed has risen to 36.\n",
    "This PWM performs an additional equality comparison of the counter and the pulse duration input,\n",
    "both of which are eight bits wide for a total of sixteen bits.\n",
    "This computation can be done with four 4-input LUTs (plus another LUT to combine the outputs), so an increase of\n",
    "four logic cells is reasonable."
   ]
  },
  {
   "cell_type": "markdown",
   "metadata": {},
   "source": [
    "Finally, here are the stats for the glitchless PWM:"
   ]
  },
  {
   "cell_type": "code",
   "execution_count": 11,
   "metadata": {},
   "outputs": [
    {
     "name": "stderr",
     "output_type": "stream",
     "text": [
      "c:\\python35-32\\lib\\site-packages\\ipykernel_launcher.py:1: UserWarning: \n",
      "    toVerilog(): Deprecated usage: See http://dev.myhdl.org/meps/mep-114.html\n",
      "  \"\"\"Entry point for launching an IPython kernel.\n",
      "seed: 1\n",
      "device: 1k\n",
      "read_chipdb +/chipdb-1k.bin...\n",
      "  supported packages: cb121, cb132, cb81, cm121, cm36, cm49, cm81, qn84, swg16tr, tq144, vq100\n",
      "read_blif pwm_glitchless.blif...\n",
      "prune...\n",
      "instantiate_io...\n",
      "pack...\n",
      "\n",
      "After packing:\n",
      "IOs          10 / 96\n",
      "GBs          0 / 8\n",
      "  GB_IOs     0 / 8\n",
      "LCs          41 / 1280\n",
      "  DFF        11\n",
      "  CARRY      10\n",
      "  CARRY, DFF 5\n",
      "  DFF PASS   8\n",
      "  CARRY PASS 2\n",
      "BRAMs        0 / 16\n",
      "WARMBOOTs    0 / 1\n",
      "PLLs         0 / 1\n",
      "\n",
      "place_constraints...\n",
      "promote_globals...\n",
      "  promoted clk_i$2, 16 / 16\n",
      "  promoted $abc$305$n3, 8 / 8\n",
      "  promoted $abc$305$n1, 8 / 8\n",
      "  promoted 3 nets\n",
      "    1 sr/we\n",
      "    1 cen/wclke\n",
      "    1 clk\n",
      "  3 globals\n",
      "    1 sr/we\n",
      "    1 cen/wclke\n",
      "    1 clk\n",
      "realize_constants...\n",
      "  realized 1\n",
      "place...\n",
      "  initial wire length = 481\n",
      "  at iteration #50: temp = 7.78865, wire length = 287\n",
      "  at iteration #100: temp = 3.25659, wire length = 189\n",
      "  at iteration #150: temp = 0.747164, wire length = 106\n",
      "  at iteration #200: temp = 0.000924944, wire length = 82\n",
      "  final wire length = 82\n",
      "\n",
      "After placement:\n",
      "PIOs       7 / 96\n",
      "PLBs       15 / 160\n",
      "BRAMs      0 / 16\n",
      "\n",
      "  place time 0.17s\n",
      "route...\n",
      "  pass 1, 0 shared.\n",
      "\n",
      "After routing:\n",
      "span_4     16 / 6944\n",
      "span_12    12 / 1440\n",
      "\n",
      "  route time 0.03s\n",
      "write_txt pwm_glitchless.asc...\n"
     ]
    }
   ],
   "source": [
    "toVerilog(pwm_glitchless, clk, pwm, threshold, 227)\n",
    "!yosys -q -p \"synth_ice40 -blif pwm_glitchless.blif\" pwm_glitchless.v\n",
    "!arachne-pnr -d 1k pwm_glitchless.blif -o pwm_glitchless.asc"
   ]
  },
  {
   "cell_type": "markdown",
   "metadata": {},
   "source": [
    "The glitchless PWM adds another eight-bit register to store the threshold, so the total\n",
    "number of flip-flops has risen to sixteen (11 `DFF` and 5 `CARRY,DFF`).\n",
    "Because some of these flip-flops can be combined into logic cells which weren't using\n",
    "their DFFs, the total number of logic cells consumed only rises by five to 41.\n",
    "\n",
    "So the final tally is:\n",
    "\n",
    "| PWM Type&nbsp;&nbsp;   | LCs | DFFs | Carrys |\n",
    "|:-----------|:----:|:-----:|:-------:|\n",
    "| Simple     | 32  | 8    | 16     |\n",
    "| Non $2^N$  | 36  | 8    | 16     |\n",
    "| Glitchless | 41  | 16   | 16     |\n",
    "\n",
    "Resource usage is only one metric that affects your choice of a PWM.\n",
    "For some non-precision applications, such as varying the intensity of an LED's brightness,\n",
    "a simple PWM is fine and will save space in the FPGA.\n",
    "For more demanding applications, like motor control, you might opt for the glitchless PWM\n",
    "and take the hit on the number of LCs consumed."
   ]
  },
  {
   "cell_type": "markdown",
   "metadata": {},
   "source": [
    "## Demo Time!"
   ]
  },
  {
   "cell_type": "markdown",
   "metadata": {},
   "source": [
    "It would be a shame to go through all this work and then never do anything fun with it!\n",
    "Let's make a demo that gradually brightens and darkens an LED on the iCEstick board\n",
    "(instead of snapping it on and off like our previous examples).\n",
    "\n",
    "The basic idea is to generate a *triangular ramp* using a counter that repetitively increments from 0 to $N$ and\n",
    "then decrements back to 0.\n",
    "Then connect the upper bits of the counter to the threshold input of a simple PWM and connect an LED\n",
    "to the output.\n",
    "As the counter ramps up and down, the threshold will increase and decrease and the\n",
    "LED intensity will wax and wane.\n",
    "\n",
    "<img alt=\"Triangular ramp, threshold ramp, and PWM output.\" src=\"ramped_pwm.png\" width=\"800 px\" />"
   ]
  },
  {
   "cell_type": "markdown",
   "metadata": {},
   "source": [
    "Here's the sequential logic for the ramp generator:"
   ]
  },
  {
   "cell_type": "code",
   "execution_count": 12,
   "metadata": {
    "collapsed": true
   },
   "outputs": [],
   "source": [
    "@chunk\n",
    "def ramp(clk_i, ramp_o):\n",
    "    '''\n",
    "    Inputs:\n",
    "        clk_i: Clock input.\n",
    "    Outputs:\n",
    "        ramp_o: Multi-bit amplitude of ramp.\n",
    "    '''\n",
    "    \n",
    "    # Delta is the increment (+1) or decrement (-1) for the counter.\n",
    "    delta = Bus(len(ramp_o))\n",
    "    \n",
    "    @seq_logic(clk_i.posedge)\n",
    "    def logic():\n",
    "        # Add delta to the current ramp value to get the next ramp value.\n",
    "        ramp_o.next = ramp_o + delta\n",
    "        \n",
    "        # When the ramp reaches the bottom, set delta to +1 to start back up the ramp.\n",
    "        if ramp_o == 1:\n",
    "            delta.next = 1\n",
    "        \n",
    "        # When the ramp reaches the top, set delta to -1 to start back down the ramp.\n",
    "        elif ramp_o == ramp_o.max-2:\n",
    "            delta.next = -1\n",
    "            \n",
    "        # After configuring the FPGA, the delta register is set to zero.\n",
    "        # Set it to +1 and set the ramp value to +1 to get things going.\n",
    "        elif delta == 0:\n",
    "            delta.next = 1\n",
    "            ramp_o.next = 1"
   ]
  },
  {
   "cell_type": "markdown",
   "metadata": {},
   "source": [
    "You might ask why `delta` is changed from -1 to +1 when `ramp_o` is one instead of waiting until it is zero.\n",
    "The reason is that the new value of `delta` doesn't take effect until the *next* clock cycle.\n",
    "Therefore, if `ramp_o` was allowed to hit 0 before making the change, \n",
    "the current -1 value in `delta` would decrement `ramp_o` to -1.\n",
    "This would correspond to a positive value of 255 (maximum\n",
    "intensity for the LED) if `ramp_o` was eight bits wide.\n",
    "Changing `delta` one cycle early prevents this mishap.\n",
    "The same logic applies at the other end of the ramp as well (i.e., flip `delta` when the\n",
    "counter is just below its maximum value).\n",
    "\n",
    "When the bitstream is loaded, the FPGA also clears all its registers.\n",
    "This means `delta` and `ramp_o` will both be zero with the result that nothing will happen.\n",
    "Therefore, if `delta` is ever seen to be zero, then `delta` and `ramp_o` will both\n",
    "be set to values that will get the triangle ramp going.\n",
    "\n",
    "The previous two paragraphs illustrate an important principle: *logic can be a tricky thing.*\n",
    "At times, it appears to defy logic.\n",
    "But it could never do that.\n",
    "Because it's logic."
   ]
  },
  {
   "cell_type": "markdown",
   "metadata": {},
   "source": [
    "With the ramp generator done, I can combine it with a simple PWM to complete the LED wax-wane demo:"
   ]
  },
  {
   "cell_type": "code",
   "execution_count": 13,
   "metadata": {
    "collapsed": true
   },
   "outputs": [],
   "source": [
    "@chunk\n",
    "def wax_wane(clk_i, led_o, length):\n",
    "    rampout = Bus(length, name='ramp')  # Create the triangle ramp counter register.\n",
    "    ramp(clk_i, rampout)  # Generate the ramp.\n",
    "    pwm_simple(clk_i, led_o, rampout.o[length:length-4]) # Use the upper 4 ramp bits to drive the PWM threshold\n"
   ]
  },
  {
   "cell_type": "markdown",
   "metadata": {},
   "source": [
    "Now I'll simulate it using a six-bit ramp counter:"
   ]
  },
  {
   "cell_type": "code",
   "execution_count": 14,
   "metadata": {},
   "outputs": [
    {
     "name": "stderr",
     "output_type": "stream",
     "text": [
      "<class 'myhdl.StopSimulation'>: No more events\n"
     ]
    },
    {
     "data": {
      "text/html": [
       "<div><script type=\"WaveDrom\">{\"signal\": [{\"wave\": \"01010101010101010101010101010101010101010\", \"name\": \"clk\"}, {\"wave\": \"==.=.=.=.=.=.=.=.=.=.=.=.=.=.=.=.=.=.=.=.\", \"name\": \"cnt\", \"data\": [\"7\", \"8\", \"9\", \"a\", \"b\", \"c\", \"d\", \"e\", \"f\", \"0\", \"1\", \"2\", \"3\", \"4\", \"5\", \"6\", \"7\", \"8\", \"9\", \"a\", \"b\"]}, {\"wave\": \"1..............0.1.......................\", \"name\": \"led\"}, {\"wave\": \"==.=.=.=.=.=.=.=.=.=.=.=.=.=.=.=.=.=.=.=.\", \"name\": \"ramp\", \"data\": [\"55\", \"38\", \"39\", \"3a\", \"3b\", \"3c\", \"3d\", \"3e\", \"3f\", \"3e\", \"3d\", \"3c\", \"3b\", \"3a\", \"39\", \"38\", \"37\", \"36\", \"35\", \"34\", \"33\"]}], \"head\": {\"tick\": 110}, \"foot\": {\"tick\": 110}}</script></div>"
      ]
     },
     "metadata": {},
     "output_type": "display_data"
    },
    {
     "data": {
      "application/javascript": [
       "$.getScript(\"http://wavedrom.com/wavedrom.min.js\", function () {\n",
       "$.getScript(\"http://wavedrom.com/skins/default.js\", function () {\n",
       "WaveDrom.ProcessAll();});\n",
       "});\n"
      ]
     },
     "metadata": {},
     "output_type": "display_data"
    }
   ],
   "source": [
    "initialize()\n",
    "clk = Wire(name='clk')\n",
    "led = Wire(name='led')\n",
    "wax_wane(clk, led, 6)  # Set ramp counter to 6 bits: 0, 1, 2, ..., 61, 62, 63, 62, 61, ..., 2, 1, 0, ...\n",
    "\n",
    "clk_sim(clk, num_cycles=180)\n",
    "t = 110  # Look in the middle of the simulation to see if anything is happening.\n",
    "show_waveforms(tick=True, start_time=t, stop_time=t+40)"
   ]
  },
  {
   "cell_type": "markdown",
   "metadata": {},
   "source": [
    "The simulation doesn't show us much, but there are two items worth mentioning:\n",
    "1. The triangle ramp increments to its maximum value (`0x3F`) and then starts back down.\n",
    "2. The PWM output appears to be outputing its maximum level (it's on for 15 of its 16 cycles).\n",
    "\n",
    "At this point, I could do more simulation in an attempt to get more information.\n",
    "But for a non-critical application like this demo, I'll just go build it and see what happens!"
   ]
  },
  {
   "cell_type": "markdown",
   "metadata": {},
   "source": [
    "First, I'll generate the Verilog from the MyHDL code.\n",
    "The ramp counter has to be wide enough to ensure I can see the LED wax-wane cycle.\n",
    "If I set the counter width to 23 bits, it will take $2^{23}$ cycles of the 12 MHz clock to go from zero to its\n",
    "maximum value. Then it will take the same number of cycles to go back to zero.\n",
    "This translates into $2^{24} \\textrm{ / 12,000,000 Hz} = $ 1.4 seconds.\n",
    "That seems good."
   ]
  },
  {
   "cell_type": "code",
   "execution_count": 15,
   "metadata": {},
   "outputs": [
    {
     "name": "stderr",
     "output_type": "stream",
     "text": [
      "c:\\python35-32\\lib\\site-packages\\ipykernel_launcher.py:1: UserWarning: \n",
      "    toVerilog(): Deprecated usage: See http://dev.myhdl.org/meps/mep-114.html\n",
      "  \"\"\"Entry point for launching an IPython kernel.\n"
     ]
    },
    {
     "data": {
      "text/plain": [
       "[[<myhdl._always_seq._AlwaysSeq at 0x5aa1e30>],\n",
       " [<myhdl._always_comb._AlwaysComb at 0x5aa1db0>,\n",
       "  <myhdl._always_seq._AlwaysSeq at 0x5aa1f50>]]"
      ]
     },
     "execution_count": 15,
     "metadata": {},
     "output_type": "execute_result"
    }
   ],
   "source": [
    "toVerilog(wax_wane, clk, led, 23)"
   ]
  },
  {
   "cell_type": "markdown",
   "metadata": {},
   "source": [
    "Next, I have to assign some pins for the clock input and the LED output (LED D1):"
   ]
  },
  {
   "cell_type": "code",
   "execution_count": 16,
   "metadata": {
    "collapsed": true
   },
   "outputs": [],
   "source": [
    "with open('wax_wane.pcf', 'w') as pcf:\n",
    "    pcf.write(\n",
    "'''\n",
    "set_io clk_i  21\n",
    "set_io led_o  99\n",
    "'''\n",
    "    )"
   ]
  },
  {
   "cell_type": "markdown",
   "metadata": {},
   "source": [
    "Finally, I can compile the Verilog code and pin assignments into a bitstream and download it\n",
    "into the iCEstick:"
   ]
  },
  {
   "cell_type": "code",
   "execution_count": 17,
   "metadata": {},
   "outputs": [
    {
     "name": "stderr",
     "output_type": "stream",
     "text": [
      "init..\n",
      "cdone: high\n",
      "reset..\n",
      "cdone: low\n",
      "flash ID: 0x20 0xBA 0x16 0x10 0x00 0x00 0x23 0x12 0x67 0x21 0x13 0x00 0x49 0x00 0x34 0x04 0x11 0x11 0x20 0x31\n",
      "file size: 32220\n",
      "erase 64kB sector at 0x000000..\n",
      "programming..\n",
      "reading..\n",
      "VERIFY OK\n",
      "cdone: high\n",
      "Bye.\n"
     ]
    }
   ],
   "source": [
    "!yosys -q -p \"synth_ice40 -blif wax_wane.blif\" wax_wane.v\n",
    "!arachne-pnr -q -d 1k -p wax_wane.pcf wax_wane.blif -o wax_wane.asc\n",
    "!icepack wax_wane.asc wax_wane.bin\n",
    "!iceprog wax_wane.bin"
   ]
  },
  {
   "cell_type": "markdown",
   "metadata": {},
   "source": [
    "After the download is complete, you should be rewarded with a waxing/waning LED display:"
   ]
  },
  {
   "cell_type": "markdown",
   "metadata": {},
   "source": [
    "![LED fades off and on.](wax_wane.gif)"
   ]
  },
  {
   "cell_type": "markdown",
   "metadata": {},
   "source": [
    "## Summary"
   ]
  },
  {
   "cell_type": "markdown",
   "metadata": {},
   "source": [
    "Just to recap:\n",
    "\n",
    "* We found out what PWMs are.\n",
    "* We designed a few different types.\n",
    "* We simulated them.\n",
    "* We saw how much of the FPGA each type uses.\n",
    "* We built a demo using a PWM to drive an LED at varying intensities.\n",
    "* We admired our demo and congratulated ourselves on a day well spent."
   ]
  }
 ],
 "metadata": {
  "kernelspec": {
   "display_name": "Python 3",
   "language": "python",
   "name": "python3"
  },
  "language_info": {
   "codemirror_mode": {
    "name": "ipython",
    "version": 3
   },
   "file_extension": ".py",
   "mimetype": "text/x-python",
   "name": "python",
   "nbconvert_exporter": "python",
   "pygments_lexer": "ipython3",
   "version": "3.5.4"
  }
 },
 "nbformat": 4,
 "nbformat_minor": 2
}
