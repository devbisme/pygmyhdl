{
 "cells": [
  {
   "cell_type": "code",
   "execution_count": 1,
   "metadata": {},
   "outputs": [
    {
     "data": {
      "text/html": [
       "<style>\n",
       "@import url('http://fonts.googleapis.com/css?family=Source+Code+Pro');\n",
       "@import url('http://fonts.googleapis.com/css?family=Lora');\n",
       "\n",
       "//@import url('http://fonts.googleapis.com/css?family=Open+Sans');\n",
       "//@import url('http://fonts.googleapis.com/css?family=Vollkorn');\n",
       "//@import url('http://fonts.googleapis.com/css?family=Karla');\n",
       "//@import url('http://fonts.googleapis.com/css?family=Poppins');\n",
       "//@import url('http://fonts.googleapis.com/css?family=Arimo');\n",
       "//@import url('http://fonts.googleapis.com/css?family=Roboto');\n",
       "//@import url('http://fonts.googleapis.com/css?family=Lato');\n",
       "//@import url('http://fonts.googleapis.com/css?family=Domine');\n",
       "//@import url('http://fonts.googleapis.com/css?family=Chivo');\n",
       "//@import url('http://fonts.googleapis.com/css?family=Cardo');\n",
       "//@import url('http://fonts.googleapis.com/css?family=Arvo');\n",
       "//@import url('http://fonts.googleapis.com/css?family=Crimson+Text');\n",
       "//@import url('http://fonts.googleapis.com/css?family=Ubuntu');\n",
       "//@import url('http://fonts.googleapis.com/css?family=Fontin');\n",
       "//@import url('http://fonts.googleapis.com/css?family=Raleway');\n",
       "//@import url('http://fonts.googleapis.com/css?family=Merriweather');\n",
       "\n",
       "\n",
       ".CodeMirror pre {\n",
       "    font-family: 'Source Code Pro', Consolas, monocco, monospace;\n",
       "}\n",
       "    div.cell{\n",
       "        //width: 950px;\n",
       "        margin-left: 0% !important;\n",
       "        margin-right: auto;\n",
       "    }\n",
       "    div.text_cell_render{\n",
       "        font-family: 'Lora';\n",
       "        //font-family: 'Open Sans';\n",
       "        //font-family: 'Karla',verdana,arial,sans-serif;\n",
       "        //font-family: 'Roboto',verdana,arial,sans-serif;\n",
       "        //font-family: 'Lato',verdana,arial,sans-serif;\n",
       "        //font-family: 'Domine',verdana,arial,sans-serif;\n",
       "        //font-family: 'Chivo',verdana,arial,sans-serif;\n",
       "        //font-family: 'Cardo',verdana,arial,sans-serif;\n",
       "        //font-family: 'Arvo',verdana,arial,sans-serif;\n",
       "        //font-family: 'Poppins',verdana,arial,sans-serif;\n",
       "        //font-family: 'Ubuntu',verdana,arial,sans-serif;\n",
       "        //font-family: 'Fontin',verdana,arial,sans-serif;\n",
       "        //font-family: 'Raleway',verdana,arial,sans-serif;\n",
       "        //font-family: 'Merriweather',verdana,arial,sans-serif;\n",
       "        //font-family: 'Crimson Text', verdana,arial,sans-serif;\n",
       "        //font-family: verdana,arial,sans-serif;\n",
       "        //font-family: arial,sans-serif;\n",
       "        line-height: 125%;\n",
       "        font-size: 130%;\n",
       "        text-align: justify;\n",
       "        text-justify:inter-word;\n",
       "    }\n",
       "    div.text_cell code {\n",
       "        background: transparent;\n",
       "        color: #000000;\n",
       "        font-weight: 400;\n",
       "        font-size: 12pt;\n",
       "        //font-style: bold;\n",
       "        font-family:  'Source Code Pro', Consolas, monocco, monospace;\n",
       "   }\n",
       "    h1 {\n",
       "        font-family: 'Open sans',verdana,arial,sans-serif;\n",
       "\t}\n",
       "\n",
       "    div.input_area {\n",
       "        background: #F6F6F9;\n",
       "        border: 1px solid #586e75;\n",
       "    }\n",
       "\n",
       "    .text_cell_render h1 {\n",
       "        font-weight: 400;\n",
       "        font-size: 30pt;\n",
       "        line-height: 100%;\n",
       "        color:#c76c0c;\n",
       "        margin-bottom: 0.5em;\n",
       "        margin-top: 1em;\n",
       "        display: block;\n",
       "        white-space: wrap;\n",
       "        text-align: left;\n",
       "    }\n",
       "    h2 {\n",
       "        font-family: 'Open sans',verdana,arial,sans-serif;\n",
       "        text-align: left;\n",
       "    }\n",
       "    .text_cell_render h2 {\n",
       "        font-weight: 500;\n",
       "        font-size: 16pt;\n",
       "        font-style: italic;\n",
       "        line-height: 100%;\n",
       "        color:#c76c0c;\n",
       "        margin-bottom: 0.5em;\n",
       "        margin-top: 1.5em;\n",
       "        display: block;\n",
       "        white-space: wrap;\n",
       "        text-align: left;\n",
       "    }\n",
       "    h3 {\n",
       "        font-family: 'Open sans',verdana,arial,sans-serif;\n",
       "    }\n",
       "    .text_cell_render h3 {\n",
       "        font-weight: 500;\n",
       "        font-size: 14pt;\n",
       "        line-height: 100%;\n",
       "        color:#d77c0c;\n",
       "        margin-bottom: 0.5em;\n",
       "        margin-top: 2em;\n",
       "        display: block;\n",
       "        white-space: wrap;\n",
       "        text-align: left;\n",
       "    }\n",
       "    h4 {\n",
       "        font-family: 'Open sans',verdana,arial,sans-serif;\n",
       "    }\n",
       "    .text_cell_render h4 {\n",
       "        font-weight: 100;\n",
       "        font-size: 14pt;\n",
       "        color:#d77c0c;\n",
       "        margin-bottom: 0.5em;\n",
       "        margin-top: 0.5em;\n",
       "        display: block;\n",
       "        white-space: nowrap;\n",
       "    }\n",
       "    h5 {\n",
       "        font-family: 'Open sans',verdana,arial,sans-serif;\n",
       "    }\n",
       "\n",
       "    .text_cell_render h5 {\n",
       "        font-weight: 200;\n",
       "        font-style: normal;\n",
       "        color: #1d3b84;\n",
       "        font-size: 16pt;\n",
       "        margin-bottom: 0em;\n",
       "        margin-top: 0.5em;\n",
       "        display: block;\n",
       "        white-space: nowrap;\n",
       "    }\n",
       "    div.output_subarea.output_text.output_pyout {\n",
       "        overflow-x: auto;\n",
       "        overflow-y: scroll;\n",
       "        max-height: 50000px;\n",
       "    }\n",
       "    div.output_subarea.output_stream.output_stdout.output_text {\n",
       "        overflow-x: auto;\n",
       "        overflow-y: scroll;\n",
       "        max-height: 50000px;\n",
       "    }\n",
       "    div.output_wrapper{\n",
       "        margin-top:0.2em;\n",
       "        margin-bottom:0.2em;\n",
       "}\n",
       "\n",
       "    .rendered_html table {\n",
       "        font-size: 100%;\n",
       "    }\n",
       "\n",
       "    code{\n",
       "        font-size: 6pt;\n",
       "\n",
       "    }\n",
       "    .rendered_html code{\n",
       "    background-color: transparent;\n",
       "    }\n",
       "    ul{\n",
       "        margin: 2em;\n",
       "    }\n",
       "    ul li{\n",
       "        padding-left: 0.5em;\n",
       "        margin-bottom: 0.5em;\n",
       "        margin-top: 0.5em;\n",
       "    }\n",
       "    ul li li{\n",
       "        padding-left: 0.2em;\n",
       "        margin-bottom: 0.2em;\n",
       "        margin-top: 0.2em;\n",
       "    }\n",
       "    ol{\n",
       "        margin: 2em;\n",
       "    }\n",
       "    ol li{\n",
       "        padding-left: 0.5em;\n",
       "        margin-bottom: 0.5em;\n",
       "        margin-top: 0.5em;\n",
       "    }\n",
       "    ul li{\n",
       "        padding-left: 0.5em;\n",
       "        margin-bottom: 0.5em;\n",
       "        margin-top: 0.2em;\n",
       "    }\n",
       "    a:link{\n",
       "       color:#447adb;\n",
       "    }\n",
       "    a:visited{\n",
       "       color: #1d3b84;\n",
       "    }\n",
       "    a:hover{\n",
       "       color: #1d3b84;\n",
       "    }\n",
       "    a:focus{\n",
       "       color:#447adb;\n",
       "    }\n",
       "    a:active{\n",
       "       font-weight: bold;\n",
       "       color:#447adb;\n",
       "    }\n",
       "    .rendered_html :link {\n",
       "       text-decoration: underline;\n",
       "    }\n",
       "    .rendered_html :hover {\n",
       "       text-decoration: none;\n",
       "    }\n",
       "    .rendered_html :visited {\n",
       "      text-decoration: none;\n",
       "    }\n",
       "    .rendered_html :focus {\n",
       "      text-decoration: none;\n",
       "    }\n",
       "    .rendered_html :active {\n",
       "      text-decoration: none;\n",
       "    }\n",
       "    .warning{\n",
       "        color: rgb( 240, 20, 20 )\n",
       "    }\n",
       "    hr {\n",
       "      color: #f3f3f3;\n",
       "      background-color: #f3f3f3;\n",
       "      height: 1px;\n",
       "    }\n",
       "    blockquote{\n",
       "      display:block;\n",
       "      background: #fcfcfc;\n",
       "      border-left: 5px solid #c76c0c;\n",
       "      font-family: 'Open sans',verdana,arial,sans-serif;\n",
       "      width:680px;\n",
       "      padding: 10px 10px 10px 10px;\n",
       "      text-align:justify;\n",
       "      text-justify:inter-word;\n",
       "      }\n",
       "      blockquote p {\n",
       "        margin-bottom: 0;\n",
       "        line-height: 125%;\n",
       "        font-size: 100%;\n",
       "      }\n",
       "</style>\n",
       "<script>\n",
       "    MathJax.Hub.Config({\n",
       "                        TeX: {\n",
       "                           extensions: [\"AMSmath.js\"],\n",
       "                           equationNumbers: { autoNumber: \"AMS\", useLabelIds: true}\n",
       "                           },\n",
       "                tex2jax: {\n",
       "                    inlineMath: [ ['$','$'], [\"\\\\(\",\"\\\\)\"] ],\n",
       "                    displayMath: [ ['$$','$$'], [\"\\\\[\",\"\\\\]\"] ]\n",
       "                },\n",
       "                displayAlign: 'center', // Change this to 'center' to center equations.\n",
       "                \"HTML-CSS\": {\n",
       "                    scale:95,\n",
       "                        availableFonts: [],\n",
       "                        preferredFont:null,\n",
       "                        webFont: \"TeX\",\n",
       "                    styles: {'.MathJax_Display': {\"margin\": 4}}\n",
       "                }\n",
       "        });\n",
       "</script>\n"
      ],
      "text/plain": [
       "<IPython.core.display.HTML object>"
      ]
     },
     "execution_count": 1,
     "metadata": {},
     "output_type": "execute_result"
    }
   ],
   "source": [
    "from IPython.core.display import HTML\n",
    "HTML(open('../css/custom.css', 'r').read())"
   ]
  },
  {
   "cell_type": "markdown",
   "metadata": {},
   "source": [
    "**_Note_**: If you're reading this as a static HTML page, you can also get it as an\n",
    "executable Jupyter notebook [here](https://github.com/xesscorp/pygmyhdl/tree/master/examples)."
   ]
  },
  {
   "cell_type": "markdown",
   "metadata": {},
   "source": [
    "# FSMs Without Monsters!"
   ]
  },
  {
   "cell_type": "markdown",
   "metadata": {},
   "source": [
    "If you google \"FSM\", you'll probably get links to \"Flying Spaghetti Monster\".\n",
    "But *that* is not *this*.\n",
    "Instead, I'm talking about [*finite-state machines*](https://en.wikipedia.org/wiki/Finite-state_machine).\n",
    "While some will tell you that working with FSMs is a monstrous chore, \n",
    "it's really not any more difficult than working with combinational logic.\n",
    "(OK, maybe *that's* not very reassuring, either.)\n",
    "\n",
    "At it's core, the FSM is a sequential circuit that remembers some stuff about what has happened\n",
    "in the past. This memory is called the *state* or *state variable* and it's stored in a bunch of flip-flops.\n",
    "As the FSM receives inputs (usually when a clock pulse occurs), \n",
    "it combines them with the state variable to do two things:\n",
    "\n",
    "* Generate some outputs to control some other piece of circuitry.\n",
    "* Update the state variable that records what it has done.\n",
    "\n",
    "<img alt=\"FSM architecture.\" src=\"FSM_arch.png\" width=600 />\n",
    "\n",
    "Building an FSM typically involves three things:\n",
    "\n",
    "* Figure out how to represent the state using flip-flops (this is often called *encoding*).\n",
    "* Design the logic that generates the outputs based on the inputs and the current state.\n",
    "* Design the logic that combines the inputs and the current state to arrive at the next state.\n",
    "\n",
    "That's it. *That's all you have to do.* Now, you may have heard others talk about things like\n",
    "Mealy/Moore architectures or minimal state encoding or deterministic versus non-deterministic operation.\n",
    "**Fuhgeddaboudit!**\n",
    "The best way to learn about FSMs is to build some FSMs.\n",
    "After that (if you want), you can learn about these other topics and impress\n",
    "people with your pedantry.\n",
    "\n",
    "To start off, let's take a circuit you already know about but maybe you didn't think of it as an FSM..."
   ]
  },
  {
   "cell_type": "markdown",
   "metadata": {},
   "source": [
    "## A Counter"
   ]
  },
  {
   "cell_type": "markdown",
   "metadata": {},
   "source": [
    "We've used counters before. Here's one that's slightly modified to show it's also an FSM:"
   ]
  },
  {
   "cell_type": "code",
   "execution_count": 2,
   "metadata": {},
   "outputs": [
    {
     "name": "stderr",
     "output_type": "stream",
     "text": [
      "<class 'myhdl.StopSimulation'>: No more events\n"
     ]
    },
    {
     "data": {
      "text/html": [
       "<div><script type=\"WaveDrom\">{\"signal\": [{\"name\": \"clk\", \"wave\": \"01010101010101010101\"}, {\"name\": \"cnt\", \"wave\": \"==.=.=.=.=.=.=.=.=.=\", \"data\": [\"0\", \"1\", \"2\", \"3\", \"4\", \"5\", \"6\", \"7\", \"0\", \"1\", \"2\"]}]}</script></div>"
      ]
     },
     "metadata": {},
     "output_type": "display_data"
    },
    {
     "data": {
      "application/javascript": [
       "$.getScript(\"http://wavedrom.com/wavedrom.min.js\", function () {\n",
       "$.getScript(\"http://wavedrom.com/skins/default.js\", function () {\n",
       "WaveDrom.ProcessAll();});\n",
       "});\n"
      ]
     },
     "metadata": {},
     "output_type": "display_data"
    }
   ],
   "source": [
    "from pygmyhdl import *\n",
    "\n",
    "@chunk\n",
    "def counter(clk_i, cnt_o):\n",
    "    \n",
    "    # Here's the counter state variable.\n",
    "    cnt = Bus(len(cnt_o))\n",
    "    \n",
    "    # The next state logic is just an adder that adds 1 to the current cnt state variable.\n",
    "    @seq_logic(clk_i.posedge)\n",
    "    def next_state_logic():\n",
    "        cnt.next = cnt + 1\n",
    "        \n",
    "    # The output logic just sends the current cnt state variable to the output.\n",
    "    @comb_logic\n",
    "    def output_logic():\n",
    "        cnt_o.next = cnt\n",
    "\n",
    "initialize()\n",
    "clk = Wire(name='clk')\n",
    "cnt = Bus(3, name='cnt')\n",
    "counter(clk_i=clk, cnt_o=cnt)\n",
    "clk_sim(clk, num_cycles=10)\n",
    "show_waveforms()"
   ]
  },
  {
   "cell_type": "markdown",
   "metadata": {},
   "source": [
    "You can see the output logic for the counter just copies the state variable to the counter outputs,\n",
    "and the next-state logic is an adder that increments the current counter value.\n",
    "\n",
    "<img alt=\"Counter next-state and output logic.\" src=\"FSM_Counter.png\" width=500 />"
   ]
  },
  {
   "cell_type": "markdown",
   "metadata": {},
   "source": [
    "This counter doesn't take any inputs except for the clock, so all it does is count from 0 to $N$, over and over.\n",
    "The next example adds a few inputs to make this FSM more exciting."
   ]
  },
  {
   "cell_type": "markdown",
   "metadata": {},
   "source": [
    "## A Counter With Reset and Enable Inputs"
   ]
  },
  {
   "cell_type": "markdown",
   "metadata": {},
   "source": [
    "The counter shown below has two additional inputs that affect how the state is updated on each rising clock edge:\n",
    "a *reset* to set the counter to a known state (usually with a value of zero), \n",
    "and an *enable* that lets the counter advance when it's true and stalls the counter when it's false."
   ]
  },
  {
   "cell_type": "code",
   "execution_count": 3,
   "metadata": {},
   "outputs": [
    {
     "name": "stderr",
     "output_type": "stream",
     "text": [
      "<class 'myhdl.StopSimulation'>: No more events\n"
     ]
    },
    {
     "data": {
      "text/html": [
       "<div><script type=\"WaveDrom\">{\"foot\": {\"tick\": 0}, \"head\": {\"tick\": 0}, \"signal\": [{\"name\": \"clk\", \"wave\": \"01010101010101010101010101\"}, {\"name\": \"cnt\", \"wave\": \"==.=.=.=.....=.=.=.=.=.=.=\", \"data\": [\"0\", \"1\", \"2\", \"3\", \"4\", \"5\", \"6\", \"0\", \"1\", \"2\", \"3\", \"4\"]}, {\"name\": \"en\", \"wave\": \"1.......0...1.............\"}, {\"name\": \"rst\", \"wave\": \"0...............1.0.......\"}]}</script></div>"
      ]
     },
     "metadata": {},
     "output_type": "display_data"
    },
    {
     "data": {
      "application/javascript": [
       "$.getScript(\"http://wavedrom.com/wavedrom.min.js\", function () {\n",
       "$.getScript(\"http://wavedrom.com/skins/default.js\", function () {\n",
       "WaveDrom.ProcessAll();});\n",
       "});\n"
      ]
     },
     "metadata": {},
     "output_type": "display_data"
    }
   ],
   "source": [
    "@chunk\n",
    "def counter_en_rst(clk_i, en_i, rst_i, cnt_o):\n",
    "    \n",
    "    cnt = Bus(len(cnt_o))\n",
    "    \n",
    "    # The next state logic now includes a reset input to clear the counter\n",
    "    # to zero, and an enable input that only allows counting when it is true.\n",
    "    @seq_logic(clk_i.posedge)\n",
    "    def next_state_logic():\n",
    "        if rst == True:\n",
    "            cnt.next = 0\n",
    "        elif en == True:\n",
    "            cnt.next = cnt + 1\n",
    "        else:\n",
    "            # No reset and no enable, so just keep the counter at its current value.\n",
    "            pass\n",
    "        \n",
    "    @comb_logic\n",
    "    def output_logic():\n",
    "        cnt_o.next = cnt\n",
    "\n",
    "initialize()\n",
    "clk = Wire(name='clk')\n",
    "rst = Wire(1, name='rst')\n",
    "en = Wire(1, name='en')\n",
    "cnt = Bus(3, name='cnt')\n",
    "counter_en_rst(clk_i=clk, rst_i=rst, en_i=en, cnt_o=cnt)\n",
    "\n",
    "def cntr_tb():\n",
    "    '''Test bench for the counter with a reset and enable inputs.'''\n",
    "    \n",
    "    # Enable the counter for a few cycles.\n",
    "    rst.next = 0\n",
    "    en.next = 1\n",
    "    for _ in range(4):\n",
    "        clk.next = 0\n",
    "        yield delay(1)\n",
    "        clk.next = 1\n",
    "        yield delay(1)\n",
    "        \n",
    "    # Disable the counter for a few cycles.\n",
    "    en.next = 0\n",
    "    for _ in range(2):\n",
    "        clk.next = 0\n",
    "        yield delay(1)\n",
    "        clk.next = 1\n",
    "        yield delay(1)\n",
    "\n",
    "    # Re-enable the counter for a few cycles.\n",
    "    en.next = 1\n",
    "    for _ in range(2):\n",
    "        clk.next = 0\n",
    "        yield delay(1)\n",
    "        clk.next = 1\n",
    "        yield delay(1)\n",
    "    \n",
    "    # Reset the counter.\n",
    "    rst.next = 1\n",
    "    clk.next = 0\n",
    "    yield delay(1)\n",
    "    clk.next = 1\n",
    "    yield delay(1)\n",
    "    \n",
    "    # Start counting again.\n",
    "    rst.next = 0\n",
    "    for _ in range(4):\n",
    "        clk.next = 0\n",
    "        yield delay(1)\n",
    "        clk.next = 1\n",
    "        yield delay(1)\n",
    "        \n",
    "simulate(cntr_tb())\n",
    "show_waveforms(tick=True)"
   ]
  },
  {
   "cell_type": "markdown",
   "metadata": {},
   "source": [
    "You can see that lowering the enable input over the interval [8, 12] keeps the counter from advancing, and\n",
    "raising the reset at $t=$ 16 forces the counter back to zero.\n",
    "\n",
    "This is all well and good, but you've known how to build counters for a quite a while.\n",
    "Let's look at an FSM that does something new."
   ]
  },
  {
   "cell_type": "markdown",
   "metadata": {},
   "source": [
    "## A Button Debouncer"
   ]
  },
  {
   "cell_type": "markdown",
   "metadata": {},
   "source": [
    "We used buttons previously in the block RAM demonstration circuit.\n",
    "Buttons, being the mechanical beasts they are, have an annoying habit of\n",
    "[*chattering* or *bouncing*](https://www.allaboutcircuits.com/technical-articles/switch-bounce-how-to-deal-with-it/)\n",
    "as their metal contacts bash into one another and rebound until they settle.\n",
    "This is seen by the rest of the circuitry as a sequence of rapid button presses, even if\n",
    "the person thinks they only pressed the button once.\n",
    "\n",
    "There are many solutions to this problem, but I'll show an FPGA circuit that does it\n",
    "(because that's the hammer I'm swinging).\n",
    "Essentially, the circuit filters out button bounces by waiting until the button has had a stable value\n",
    "for a certain amount of time and then outputing that value like so:\n",
    "\n",
    "1. The circuit compares the current value of the button input to the previous value stored in a flip-flop.\n",
    "2. If the values match, a counter is decremented. But if the values don't match, the counter is\n",
    "   reset to a non-zero value.\n",
    "3. If the counter reaches zero, the button value must not have changed for a while. This stable button value\n",
    "   is output by the circuit. If the counter is non-zero, the previous stable button value is retained on the output.\n",
    "\n",
    "Here's code for an FSM that does this:"
   ]
  },
  {
   "cell_type": "code",
   "execution_count": 4,
   "metadata": {},
   "outputs": [],
   "source": [
    "@chunk\n",
    "def debouncer(clk_i, button_i, button_o, debounce_time):\n",
    "    '''\n",
    "    Inputs:\n",
    "        clk_i: Main clock input.\n",
    "        button_i: Raw button input.\n",
    "        button_o: Debounced button output.\n",
    "        debounce_time: Number of clock cycles the button value has to be stable.\n",
    "    '''\n",
    "\n",
    "    # These are the state variables of the FSM.\n",
    "    from math import ceil, log2\n",
    "    debounce_cnt = Bus(int(ceil(log2(debounce_time+1))), name='dbcnt')  # Counter big enough to store debounce time.\n",
    "    prev_button = Wire(name='prev_button')  # Stores the button value from the previous clock cycle.\n",
    "    \n",
    "    @seq_logic(clk_i.posedge)\n",
    "    def next_state_logic():\n",
    "        if button_i == prev_button:\n",
    "            # If the current and previous button values are the same, decrement the counter\n",
    "            # until it reaches zero and then stop.\n",
    "            if debounce_cnt != 0:\n",
    "                debounce_cnt.next = debounce_cnt - 1\n",
    "        else:\n",
    "            # If the current and previous button values aren't the same, then the button must\n",
    "            # still be bouncing so reset the counter to the debounce interval and try again.\n",
    "            debounce_cnt.next = debounce_time\n",
    "            \n",
    "        # Store the current button value for comparison during the next clock cycle.\n",
    "        prev_button.next = button_i\n",
    "        \n",
    "    @seq_logic(clk_i.posedge)\n",
    "    def output_logic():\n",
    "        if debounce_cnt == 0:\n",
    "            # Output the stable button value whenever the counter is zero.\n",
    "            # Don't use the actual button input value because that could change at any time.\n",
    "            button_o.next = prev_button"
   ]
  },
  {
   "cell_type": "markdown",
   "metadata": {},
   "source": [
    "Now I can simulate button presses of various lengths and watch the output of the circuit.\n",
    "Note that I'm using a very small debounce time to keep the simulation to a reasonable length.\n",
    "In reality, a clock of 12 MHz and a debounce time of 100 ms would require a debounce count of 1,200,000."
   ]
  },
  {
   "cell_type": "code",
   "execution_count": 5,
   "metadata": {},
   "outputs": [
    {
     "name": "stderr",
     "output_type": "stream",
     "text": [
      "<class 'myhdl.StopSimulation'>: No more events\n"
     ]
    },
    {
     "data": {
      "text/html": [
       "<div><script type=\"WaveDrom\">{\"foot\": {\"tick\": 0}, \"head\": {\"tick\": 0}, \"signal\": [{\"name\": \"button_i\", \"wave\": \"1.......0...1...0.........\"}, {\"name\": \"button_o\", \"wave\": \"0........1...............0\"}, {\"name\": \"clk\", \"wave\": \"01010101010101010101010101\"}, {\"name\": \"dbcnt\", \"wave\": \"==.=.=.=.=.=.=.=.=.=.=.=..\", \"data\": [\"0\", \"3\", \"2\", \"1\", \"0\", \"3\", \"2\", \"3\", \"2\", \"3\", \"2\", \"1\", \"0\"]}, {\"name\": \"prev_button\", \"wave\": \"01.......0...1...0........\"}]}</script></div>"
      ]
     },
     "metadata": {},
     "output_type": "display_data"
    },
    {
     "data": {
      "application/javascript": [
       "$.getScript(\"http://wavedrom.com/wavedrom.min.js\", function () {\n",
       "$.getScript(\"http://wavedrom.com/skins/default.js\", function () {\n",
       "WaveDrom.ProcessAll();});\n",
       "});\n"
      ]
     },
     "metadata": {},
     "output_type": "display_data"
    }
   ],
   "source": [
    "initialize()  # Initialize for simulation here because we'll be watching the internal debounce counter.\n",
    "\n",
    "clk = Wire(name='clk')\n",
    "button_i = Wire(name='button_i')\n",
    "button_o = Wire(name='button_o')\n",
    "debouncer(clk, button_i, button_o, 3)\n",
    "\n",
    "def debounce_tb():\n",
    "    '''Test bench for the counter with a reset and enable inputs.'''\n",
    "    \n",
    "    # Initialize the button and leave it stable for the debounce time.\n",
    "    button_i.next = 1\n",
    "    for _ in range(4):\n",
    "        clk.next = 0\n",
    "        yield delay(1)\n",
    "        clk.next = 1\n",
    "        yield delay(1)\n",
    "    \n",
    "    # Blip the button for less than the debounce time and show the debounced output does not change.\n",
    "    button_i.next = 0\n",
    "    for _ in range(2):\n",
    "        clk.next = 0\n",
    "        yield delay(1)\n",
    "        clk.next = 1\n",
    "        yield delay(1)\n",
    "    button_i.next = 1\n",
    "    for _ in range(2):\n",
    "        clk.next = 0\n",
    "        yield delay(1)\n",
    "        clk.next = 1\n",
    "        yield delay(1)\n",
    "    \n",
    "    # Press the button for more than the debounce time and show the debounced output changes.\n",
    "    button_i.next = 0\n",
    "    for _ in range(5):\n",
    "        clk.next = 0\n",
    "        yield delay(1)\n",
    "        clk.next = 1\n",
    "        yield delay(1)\n",
    "        \n",
    "simulate(debounce_tb())\n",
    "show_waveforms(tick=True)            "
   ]
  },
  {
   "cell_type": "markdown",
   "metadata": {},
   "source": [
    "Note these points in the simulation:\n",
    "\n",
    "* The debounce counter gets reset to its maximum value when the current and previous button values are different\n",
    "  ($t =$ 1, 9, 13, 17).\n",
    "* The initial button press during interval [0, 8] is long enough to change the button output at $t =$ 9.\n",
    "  The button release for $t \\ge$ 16 is also long enough to change the button output at $t =$ 25.\n",
    "* Neither of the short release and press intervals from $t =$ 8 to $t =$ 16 are long enough for the debounce counter\n",
    "  to reach zero and trigger a button output."
   ]
  },
  {
   "cell_type": "markdown",
   "metadata": {},
   "source": [
    "Maybe these past few examples don't feel like state machines, but they are.\n",
    "They each store some information about the past and use it to change their behavior in the present.\n",
    "But, possibly, you're looking for something more like the classic state machines you've seen in books.\n",
    "Well, I'm never one to disappoint!"
   ]
  },
  {
   "cell_type": "markdown",
   "metadata": {},
   "source": [
    "## A \"Classic\" State Machine"
   ]
  },
  {
   "cell_type": "markdown",
   "metadata": {},
   "source": [
    "This FSM has four states, two inputs, and four outputs.\n",
    "The states are arranged like a ring, with transistions going from each state to the states preceding and following it.\n",
    "When the first input is active, the FSM transitions forward (clockwise) by one state; when the\n",
    "second input is active, the FSM moves one state backward (counter-clockwise).\n",
    "Finally, a single output is associated with each state that is high whenever the FSM is in that state.\n",
    "\n",
    "<img src=\"classic_FSM_diag.png\" alt=\"Classic FSM state diagram.\" width=\"400\" />"
   ]
  },
  {
   "cell_type": "markdown",
   "metadata": {},
   "source": [
    "The MyHDL code for this FSM is shown below.\n",
    "As you'll see, each possible state is allocated a section of code that describes what state the FSM will go to\n",
    "for all possible combinations of the inputs."
   ]
  },
  {
   "cell_type": "code",
   "execution_count": 6,
   "metadata": {
    "collapsed": true
   },
   "outputs": [],
   "source": [
    "@chunk\n",
    "def classic_fsm(clk_i, inputs_i, outputs_o):\n",
    "    '''\n",
    "    Inputs:\n",
    "        clk_i: Main clock input.\n",
    "        inputs_i: Two-bit input vector directs state transitions.\n",
    "        outputs_o: Four-bit output vector.\n",
    "    '''\n",
    "    \n",
    "    # Declare a state variable with four states. In addition to the current\n",
    "    # state of the FSM, the state variable also stores a complete list of its\n",
    "    # possible values to use for comparing what state the FSM is in and for\n",
    "    # assigning a new state.\n",
    "    fsm_state = State('A', 'B', 'C', 'D', name='state')\n",
    "\n",
    "    # This counter is used to apply a reset to the FSM for the first few clocks upon startup.\n",
    "    reset_cnt = Bus(2)\n",
    "        \n",
    "    @seq_logic(clk_i.posedge)\n",
    "    def next_state_logic():\n",
    "        if reset_cnt < reset_cnt.max-1:\n",
    "            # The reset counter starts at zero upon startup. The FSM stays in this reset\n",
    "            # state until the counter increments to its maximum value. Then it never returns here.\n",
    "            reset_cnt.next = reset_cnt + 1\n",
    "            fsm_state.next = fsm_state.s.A  # Set initial state for FSM after reset.\n",
    "        elif fsm_state == fsm_state.s.A:  # Compare current state to state A.\n",
    "            # If the FSM is in state A, then go forward to state B if inputs_i[0] is active,\n",
    "            # otherwise go backward to state D if inputs_i[1] is active.\n",
    "            # Stay in this state if neither input is active.\n",
    "            if inputs_i[0]:\n",
    "                fsm_state.next = fsm_state.s.B   # Update state to state B.\n",
    "            elif inputs_i[1]:\n",
    "                fsm_state.next = fsm_state.s.D   # Update state to state D.\n",
    "        elif fsm_state == fsm_state.s.B:\n",
    "            # State B operates similarly to state A.\n",
    "            if inputs_i[0]:\n",
    "                fsm_state.next = fsm_state.s.C\n",
    "            elif inputs_i[1]:\n",
    "                fsm_state.next = fsm_state.s.A\n",
    "        elif fsm_state == fsm_state.s.C:\n",
    "            # State C operates similarly to states A and B.\n",
    "            if inputs_i[0]:\n",
    "                fsm_state.next = fsm_state.s.D\n",
    "            elif inputs_i[1]:\n",
    "                fsm_state.next = fsm_state.s.B\n",
    "        elif fsm_state == fsm_state.s.D:\n",
    "            # State D yada, yada...\n",
    "            if inputs_i[0]:\n",
    "                fsm_state.next = fsm_state.s.A\n",
    "            elif inputs_i[1]:\n",
    "                fsm_state.next = fsm_state.s.C\n",
    "        else:\n",
    "            # If the FSM is in some unknown state, send it back to the starting state.\n",
    "            fsm_state.next = fsm_state.s.A\n",
    "                \n",
    "    @comb_logic\n",
    "    def output_logic():\n",
    "        # Turn on one of the outputs depending upon which state the FSM is in.\n",
    "        if fsm_state == fsm_state.s.A:\n",
    "            outputs_o.next = 0b0001\n",
    "        elif fsm_state == fsm_state.s.B:\n",
    "            outputs_o.next = 0b0010\n",
    "        elif fsm_state == fsm_state.s.C:\n",
    "            outputs_o.next = 0b0100\n",
    "        elif fsm_state == fsm_state.s.D:\n",
    "            outputs_o.next = 0b1000\n",
    "        else:\n",
    "            # Turn on all the outputs if the FSM is in some unknown state (shouldn't happen).\n",
    "            outputs_o.next = 0b1111"
   ]
  },
  {
   "cell_type": "markdown",
   "metadata": {},
   "source": [
    "Now I can stimulate the FSM with the following test bench.\n",
    "The FSM is moved forward by three states and then backward three times, so it should end up where it started."
   ]
  },
  {
   "cell_type": "code",
   "execution_count": 7,
   "metadata": {},
   "outputs": [
    {
     "name": "stderr",
     "output_type": "stream",
     "text": [
      "<class 'myhdl.StopSimulation'>: No more events\n"
     ]
    },
    {
     "data": {
      "text/html": [
       "<div><script type=\"WaveDrom\">{\"foot\": {\"tick\": 0}, \"head\": {\"tick\": 0}, \"signal\": [{\"name\": \"clk\", \"wave\": \"01010101010101010101\"}, {\"name\": \"inputs\", \"wave\": \"=.......=.....=.....\", \"data\": [\"0\", \"1\", \"2\"]}, {\"name\": \"state\", \"wave\": \"=........=.=.=.=.=.=\", \"data\": [\"A\", \"B\", \"C\", \"D\", \"C\", \"B\", \"A\"]}, {\"name\": \"outputs\", \"wave\": \"=........=.=.=.=.=.=\", \"data\": [\"1\", \"2\", \"4\", \"8\", \"4\", \"2\", \"1\"]}]}</script></div>"
      ]
     },
     "metadata": {},
     "output_type": "display_data"
    },
    {
     "data": {
      "application/javascript": [
       "$.getScript(\"http://wavedrom.com/wavedrom.min.js\", function () {\n",
       "$.getScript(\"http://wavedrom.com/skins/default.js\", function () {\n",
       "WaveDrom.ProcessAll();});\n",
       "});\n"
      ]
     },
     "metadata": {},
     "output_type": "display_data"
    }
   ],
   "source": [
    "initialize()\n",
    "\n",
    "inputs = Bus(2, name='inputs')\n",
    "outputs = Bus(4, name='outputs')\n",
    "clk = Wire(name='clk')\n",
    "classic_fsm(clk, inputs, outputs)\n",
    "\n",
    "def fsm_tb():\n",
    "    nop = 0b00  # no operation - both inputs are inactive\n",
    "    fwd = 0b01  # Input combination for moving forward.\n",
    "    bck = 0b10  # Input combination for moving backward.\n",
    "\n",
    "    # Input sequence of 3 forwards and 3 backwards transitions.\n",
    "    # The four initial NOPs are for the FSM's initial reset period.\n",
    "    ins = [nop, nop, nop, nop, fwd, fwd, fwd, bck, bck, bck]\n",
    "    \n",
    "    # Apply each input combination from the list and then pulse the clock.\n",
    "    for inputs.next in ins:\n",
    "        clk.next = 0\n",
    "        yield delay(1)\n",
    "        clk.next = 1\n",
    "        yield delay(1)\n",
    "        \n",
    "simulate(fsm_tb())\n",
    "show_waveforms('clk inputs state outputs', tick=True)"
   ]
  },
  {
   "cell_type": "markdown",
   "metadata": {},
   "source": [
    "The waveforms show the FSM moving forward (`A` $\\rightarrow$ `B` $\\rightarrow$ `C` $\\rightarrow$ `D`) and then \n",
    "moving back to where it started (`D` $\\rightarrow$ `C` $\\rightarrow$ `B` $\\rightarrow$ `A`).\n",
    "This is good, but what if your inputs are slow (like from manually-operated pushbuttons)\n",
    "and your clock is very fast (like 12 MHz).\n",
    "Then it would be hard to make controlled state transitions because a single button press would cause\n",
    "many state changes.\n",
    "\n",
    "In this case, the solution is to make the FSM change states *only* when the input changes from a 0 (inactive)\n",
    "to a 1 (active).\n",
    "This is easy to do by comparing the current values of the inputs with their values on the previous clock cycle.\n",
    "When they are different, the FSM can make a transition."
   ]
  },
  {
   "cell_type": "code",
   "execution_count": 8,
   "metadata": {
    "collapsed": true
   },
   "outputs": [],
   "source": [
    "@chunk\n",
    "def classic_fsm(clk_i, inputs_i, outputs_o):\n",
    "\n",
    "    fsm_state = State('A', 'B', 'C', 'D', name='state')\n",
    "    reset_cnt = Bus(2)\n",
    "    \n",
    "    # Variables for storing the input values during the previous clock\n",
    "    # and holding the changes between the current and previous input values.\n",
    "    prev_inputs = Bus(len(inputs_i), name='prev_inputs')\n",
    "    input_chgs = Bus(len(inputs_i), name='input_chgs')\n",
    "    \n",
    "    # This logic compares the current input values with the negation of the previous values.\n",
    "    # The output is active only if an input goes from 0 to 1.\n",
    "    @comb_logic\n",
    "    def detect_chg():\n",
    "        input_chgs.next = inputs_i & ~prev_inputs\n",
    "        \n",
    "    # This is the same FSM state transition logic as before, except it looks at the\n",
    "    # input_chgs signals instead of the input_i signals.\n",
    "    @seq_logic(clk_i.posedge)\n",
    "    def next_state_logic():\n",
    "        if reset_cnt < reset_cnt.max-1:\n",
    "            reset_cnt.next = reset_cnt + 1\n",
    "            fsm_state.next = fsm_state.s.A\n",
    "        elif fsm_state == fsm_state.s.A:\n",
    "            if input_chgs[0]:\n",
    "                fsm_state.next = fsm_state.s.B\n",
    "            elif input_chgs[1]:\n",
    "                fsm_state.next = fsm_state.s.D\n",
    "        elif fsm_state == fsm_state.s.B:\n",
    "            if input_chgs[0]:\n",
    "                fsm_state.next = fsm_state.s.C\n",
    "            elif input_chgs[1]:\n",
    "                fsm_state.next = fsm_state.s.A\n",
    "        elif fsm_state == fsm_state.s.C:\n",
    "            if input_chgs[0]:\n",
    "                fsm_state.next = fsm_state.s.D\n",
    "            elif input_chgs[1]:\n",
    "                fsm_state.next = fsm_state.s.B\n",
    "        elif fsm_state == fsm_state.s.D:\n",
    "            if input_chgs[0]:\n",
    "                fsm_state.next = fsm_state.s.A\n",
    "            elif input_chgs[1]:\n",
    "                fsm_state.next = fsm_state.s.C\n",
    "        else:\n",
    "            fsm_state.next = fsm_state.s.A\n",
    "            \n",
    "        prev_inputs.next = inputs_i  # Record the current input values.\n",
    "                \n",
    "    @comb_logic\n",
    "    def output_logic():\n",
    "        if fsm_state == fsm_state.s.A:\n",
    "            outputs_o.next = 0b0001\n",
    "        elif fsm_state == fsm_state.s.B:\n",
    "            outputs_o.next = 0b0010\n",
    "        elif fsm_state == fsm_state.s.C:\n",
    "            outputs_o.next = 0b0100\n",
    "        elif fsm_state == fsm_state.s.D:\n",
    "            outputs_o.next = 0b1000\n",
    "        else:\n",
    "            outputs_o.next = 0b1111 "
   ]
  },
  {
   "cell_type": "markdown",
   "metadata": {},
   "source": [
    "Now I'll modify the test bench a bit by adding another sequence of inputs that alternate\n",
    "between active and inactive values."
   ]
  },
  {
   "cell_type": "code",
   "execution_count": 9,
   "metadata": {},
   "outputs": [
    {
     "name": "stderr",
     "output_type": "stream",
     "text": [
      "<class 'myhdl.StopSimulation'>: No more events\n"
     ]
    },
    {
     "data": {
      "text/html": [
       "<div style=\"width: 2000px\"><script type=\"WaveDrom\">{\"foot\": {\"tick\": 0}, \"head\": {\"tick\": 0}, \"signal\": [{\"name\": \"clk\", \"wave\": \"01010101010101010101010101010101010101010101\"}, {\"name\": \"inputs\", \"wave\": \"=.......=.....=.....=.=.=.=.=.=.=.=.=.=.=.=.\", \"data\": [\"0\", \"1\", \"2\", \"1\", \"0\", \"1\", \"0\", \"1\", \"0\", \"2\", \"0\", \"2\", \"0\", \"2\", \"0\"]}, {\"name\": \"prev_inputs\", \"wave\": \"=........=.....=.....=.=.=.=.=.=.=.=.=.=.=.=\", \"data\": [\"0\", \"1\", \"2\", \"1\", \"0\", \"1\", \"0\", \"1\", \"0\", \"2\", \"0\", \"2\", \"0\", \"2\", \"0\"]}, {\"name\": \"input_chgs\", \"wave\": \"=.......==....==....==..==..==..==..==..==..\", \"data\": [\"0\", \"1\", \"0\", \"2\", \"0\", \"1\", \"0\", \"1\", \"0\", \"1\", \"0\", \"2\", \"0\", \"2\", \"0\", \"2\", \"0\"]}, {\"name\": \"state\", \"wave\": \"=........=.....=.....=...=...=...=...=...=..\", \"data\": [\"A\", \"B\", \"A\", \"B\", \"C\", \"D\", \"C\", \"B\", \"A\"]}, {\"name\": \"outputs\", \"wave\": \"=........=.....=.....=...=...=...=...=...=..\", \"data\": [\"1\", \"2\", \"1\", \"2\", \"4\", \"8\", \"4\", \"2\", \"1\"]}]}</script></div>"
      ]
     },
     "metadata": {},
     "output_type": "display_data"
    },
    {
     "data": {
      "application/javascript": [
       "$.getScript(\"http://wavedrom.com/wavedrom.min.js\", function () {\n",
       "$.getScript(\"http://wavedrom.com/skins/default.js\", function () {\n",
       "WaveDrom.ProcessAll();});\n",
       "});\n"
      ]
     },
     "metadata": {},
     "output_type": "display_data"
    }
   ],
   "source": [
    "initialize()\n",
    "\n",
    "inputs = Bus(2, name='inputs')\n",
    "outputs = Bus(4, name='outputs')\n",
    "clk = Wire(name='clk')\n",
    "classic_fsm(clk, inputs, outputs)\n",
    "\n",
    "def fsm_tb():\n",
    "    nop = 0b00\n",
    "    fwd = 0b01\n",
    "    bck = 0b10\n",
    "    \n",
    "    ins = [nop, nop, nop, nop, fwd, fwd, fwd, bck, bck, bck]\n",
    "    for inputs.next in ins:\n",
    "        clk.next = 0\n",
    "        yield delay(1)\n",
    "        clk.next = 1\n",
    "        yield delay(1)\n",
    "\n",
    "    # Interspersed active and inactive inputs.\n",
    "    ins = [fwd, nop, fwd, nop, fwd, nop, bck, nop, bck, nop, bck, nop]\n",
    "    for inputs.next in ins:\n",
    "        clk.next = 0\n",
    "        yield delay(1)\n",
    "        clk.next = 1\n",
    "        yield delay(1)\n",
    "        \n",
    "simulate(fsm_tb())\n",
    "show_waveforms('clk inputs prev_inputs input_chgs state outputs', tick=True, width=2000)"
   ]
  },
  {
   "cell_type": "markdown",
   "metadata": {},
   "source": [
    "From the simulation, you can see the first sequence of six inputs (time $t =$ 8 to $t =$ 20) only caused two state transitions\n",
    "(`A` $\\rightarrow$ `B` $\\rightarrow$ `A`) because the inputs only changed twice.\n",
    "Then, when active inputs were interspersed with inactive inputs (time $t \\ge$ 20), the FSM went through six state transitions\n",
    "(`A` $\\rightarrow$ `B` $\\rightarrow$ `C` $\\rightarrow$ `D` $\\rightarrow$ `C` $\\rightarrow$ `B` $\\rightarrow$ `A`)"
   ]
  },
  {
   "cell_type": "markdown",
   "metadata": {},
   "source": [
    "## Demo Time!"
   ]
  },
  {
   "cell_type": "markdown",
   "metadata": {},
   "source": [
    "Once again, we've reached the highly-anticipated demo time!\n",
    "This time, I'm just going to hook the previous FSM to two pushbuttons and four LEDs\n",
    "and then steer it through a few state transitions."
   ]
  },
  {
   "cell_type": "code",
   "execution_count": 10,
   "metadata": {},
   "outputs": [
    {
     "name": "stderr",
     "output_type": "stream",
     "text": [
      "c:\\python35-32\\lib\\site-packages\\ipykernel_launcher.py:1: UserWarning: \n",
      "    toVerilog(): Deprecated usage: See http://dev.myhdl.org/meps/mep-114.html\n",
      "  \"\"\"Entry point for launching an IPython kernel.\n",
      "init..\n",
      "cdone: high\n",
      "reset..\n",
      "cdone: low\n",
      "flash ID: 0x20 0xBA 0x16 0x10 0x00 0x00 0x23 0x12 0x67 0x21 0x13 0x00 0x49 0x00 0x34 0x04 0x11 0x11 0x20 0x31\n",
      "file size: 32220\n",
      "erase 64kB sector at 0x000000..\n",
      "programming..\n",
      "reading..\n",
      "VERIFY OK\n",
      "cdone: high\n",
      "Bye.\n"
     ]
    }
   ],
   "source": [
    "toVerilog(classic_fsm, clk_i=Wire(), inputs_i=Bus(2), outputs_o=Bus(4))\n",
    "\n",
    "with open('classic_fsm.pcf', 'w') as pcf:\n",
    "    pcf.write(\n",
    "'''\n",
    "set_io clk_i 21\n",
    "set_io outputs_o[0] 99\n",
    "set_io outputs_o[1] 98\n",
    "set_io outputs_o[2] 97\n",
    "set_io outputs_o[3] 96\n",
    "set_io inputs_i[0] 118\n",
    "set_io inputs_i[1] 114\n",
    "'''\n",
    "    )\n",
    "\n",
    "!yosys -q -p \"synth_ice40 -blif classic_fsm.blif\" classic_fsm.v\n",
    "!arachne-pnr -q -d 1k -p classic_fsm.pcf classic_fsm.blif -o classic_fsm.asc\n",
    "!icepack classic_fsm.asc classic_fsm.bin\n",
    "!iceprog classic_fsm.bin"
   ]
  },
  {
   "cell_type": "markdown",
   "metadata": {},
   "source": [
    "The following video shows the operation of the FSM on the iCEstick board.\n",
    "As you watch, you can see the FSM move backwards and forwards through the states under the guidance\n",
    "of the button presses.\n",
    "However, there are times when it makes multiple transitions for a single button press because the buttons are bouncing."
   ]
  },
  {
   "cell_type": "code",
   "execution_count": 11,
   "metadata": {},
   "outputs": [
    {
     "data": {
      "text/html": [
       "<div style=\"padding-bottom:50.000%;\"><iframe src=\"https://streamable.com/s/lmqvd/urtqfp\" frameborder=\"0\" width=\"100%\" height=\"100%\" allowfullscreen style=\"width:640px;position:absolute;\"></iframe></div>"
      ],
      "text/plain": [
       "<IPython.core.display.HTML object>"
      ]
     },
     "execution_count": 11,
     "metadata": {},
     "output_type": "execute_result"
    }
   ],
   "source": [
    "HTML('<div style=\"padding-bottom:50.000%;\"><iframe src=\"https://streamable.com/s/lmqvd/urtqfp\" frameborder=\"0\" width=\"100%\" height=\"100%\" allowfullscreen style=\"width:640px;position:absolute;\"></iframe></div>')"
   ]
  },
  {
   "cell_type": "markdown",
   "metadata": {},
   "source": [
    "To correct the button bounce problem, I added debounce circuits to the FSM as shown below."
   ]
  },
  {
   "cell_type": "code",
   "execution_count": 12,
   "metadata": {
    "collapsed": true
   },
   "outputs": [],
   "source": [
    "@chunk\n",
    "def classic_fsm(clk_i, inputs_i, outputs_o):\n",
    "\n",
    "    fsm_state = State('A', 'B', 'C', 'D', name='state')\n",
    "    reset_cnt = Bus(2)\n",
    "    \n",
    "    prev_inputs = Bus(len(inputs_i), name='prev_inputs')\n",
    "    input_chgs = Bus(len(inputs_i), name='input_chgs')\n",
    "\n",
    "    # Take the inputs and run them through the debounce circuits.\n",
    "    dbnc_inputs = Bus(len(inputs_i))  # These are the inputs after debouncing.\n",
    "    debounce_time = 120000\n",
    "    debouncer(clk_i, inputs_i.o[0], dbnc_inputs.i[0], debounce_time)\n",
    "    debouncer(clk_i, inputs_i.o[1], dbnc_inputs.i[1], debounce_time)\n",
    "\n",
    "    # The edge detection of the inputs is now performed on the debounced inputs.\n",
    "    @comb_logic\n",
    "    def detect_chg():\n",
    "        input_chgs.next = dbnc_inputs & ~prev_inputs\n",
    "        \n",
    "    @seq_logic(clk_i.posedge)\n",
    "    def next_state_logic():\n",
    "        if reset_cnt < reset_cnt.max-1:\n",
    "            fsm_state.next = fsm_state.s.A\n",
    "            reset_cnt.next = reset_cnt + 1\n",
    "        elif fsm_state == fsm_state.s.A:\n",
    "            if input_chgs[0]:\n",
    "                fsm_state.next = fsm_state.s.B\n",
    "            elif input_chgs[1]:\n",
    "                fsm_state.next = fsm_state.s.D\n",
    "        elif fsm_state == fsm_state.s.B:\n",
    "            if input_chgs[0]:\n",
    "                fsm_state.next = fsm_state.s.C\n",
    "            elif input_chgs[1]:\n",
    "                fsm_state.next = fsm_state.s.A\n",
    "        elif fsm_state == fsm_state.s.C:\n",
    "            if input_chgs[0]:\n",
    "                fsm_state.next = fsm_state.s.D\n",
    "            elif input_chgs[1]:\n",
    "                fsm_state.next = fsm_state.s.B\n",
    "        elif fsm_state == fsm_state.s.D:\n",
    "            if input_chgs[0]:\n",
    "                fsm_state.next = fsm_state.s.A\n",
    "            elif input_chgs[1]:\n",
    "                fsm_state.next = fsm_state.s.C\n",
    "        else:\n",
    "            fsm_state.next = fsm_state.s.A\n",
    "\n",
    "        prev_inputs.next = dbnc_inputs  # Store the debounced inputs.\n",
    "                \n",
    "    @comb_logic\n",
    "    def output_logic():\n",
    "        if fsm_state == fsm_state.s.A:\n",
    "            outputs_o.next = 0b0001\n",
    "        elif fsm_state == fsm_state.s.B:\n",
    "            outputs_o.next = 0b0010\n",
    "        elif fsm_state == fsm_state.s.C:\n",
    "            outputs_o.next = 0b0100\n",
    "        elif fsm_state == fsm_state.s.D:\n",
    "            outputs_o.next = 0b1000\n",
    "        else:\n",
    "            outputs_o.next = 0b1111"
   ]
  },
  {
   "cell_type": "markdown",
   "metadata": {},
   "source": [
    "Now it's just a matter of recompiling the debounced FSM and observing its operation."
   ]
  },
  {
   "cell_type": "code",
   "execution_count": 13,
   "metadata": {},
   "outputs": [
    {
     "name": "stderr",
     "output_type": "stream",
     "text": [
      "c:\\python35-32\\lib\\site-packages\\ipykernel_launcher.py:1: UserWarning: \n",
      "    toVerilog(): Deprecated usage: See http://dev.myhdl.org/meps/mep-114.html\n",
      "  \"\"\"Entry point for launching an IPython kernel.\n",
      "init..\n",
      "cdone: high\n",
      "reset..\n",
      "cdone: low\n",
      "flash ID: 0x20 0xBA 0x16 0x10 0x00 0x00 0x23 0x12 0x67 0x21 0x13 0x00 0x49 0x00 0x34 0x04 0x11 0x11 0x20 0x31\n",
      "file size: 32220\n",
      "erase 64kB sector at 0x000000..\n",
      "programming..\n",
      "reading..\n",
      "VERIFY OK\n",
      "cdone: high\n",
      "Bye.\n"
     ]
    }
   ],
   "source": [
    "toVerilog(classic_fsm, clk_i=Wire(), inputs_i=Bus(2), outputs_o=Bus(4))\n",
    "\n",
    "with open('classic_fsm.pcf', 'w') as pcf:\n",
    "    pcf.write(\n",
    "'''\n",
    "set_io clk_i 21\n",
    "set_io outputs_o[0] 99\n",
    "set_io outputs_o[1] 98\n",
    "set_io outputs_o[2] 97\n",
    "set_io outputs_o[3] 96\n",
    "set_io inputs_i[0] 118\n",
    "set_io inputs_i[1] 114\n",
    "'''\n",
    "    )\n",
    "\n",
    "!yosys -q -p \"synth_ice40 -blif classic_fsm.blif\" classic_fsm.v\n",
    "!arachne-pnr -q -d 1k -p classic_fsm.pcf classic_fsm.blif -o classic_fsm.asc\n",
    "!icepack classic_fsm.asc classic_fsm.bin\n",
    "!iceprog classic_fsm.bin"
   ]
  },
  {
   "cell_type": "markdown",
   "metadata": {},
   "source": [
    "I probably don't have to tell you that the bouncing buttons are conspicuously absent in the following video."
   ]
  },
  {
   "cell_type": "code",
   "execution_count": 14,
   "metadata": {},
   "outputs": [
    {
     "data": {
      "text/html": [
       "<div style=\"padding-bottom:50.000%;\"><iframe src=\"https://streamable.com/s/agk4i/tqcuqu\" frameborder=\"0\" width=\"100%\" height=\"100%\" allowfullscreen style=\"width:640px;position:absolute;\"></iframe></div>"
      ],
      "text/plain": [
       "<IPython.core.display.HTML object>"
      ]
     },
     "execution_count": 14,
     "metadata": {},
     "output_type": "execute_result"
    }
   ],
   "source": [
    "HTML('<div style=\"padding-bottom:50.000%;\"><iframe src=\"https://streamable.com/s/agk4i/tqcuqu\" frameborder=\"0\" width=\"100%\" height=\"100%\" allowfullscreen style=\"width:640px;position:absolute;\"></iframe></div>')"
   ]
  },
  {
   "cell_type": "markdown",
   "metadata": {},
   "source": [
    "## Summary\n",
    "\n",
    "Once more we must part ways, but hopefully I've left you with the following nuggets of information:\n",
    "\n",
    "* FSMs are digital circuits that store knowledge from the past in order to affect their behavior in the present.\n",
    "\n",
    "* Some common circuits you already knew are actually FSMs (like counters).\n",
    "\n",
    "* Mechanical buttons can bounce and FSMs can be used to debounce them.\n",
    "\n",
    "* Classic state machine diagrams are relatively easy to translate into MyHDL."
   ]
  }
 ],
 "metadata": {
  "kernelspec": {
   "display_name": "Python 3",
   "language": "python",
   "name": "python3"
  },
  "language_info": {
   "codemirror_mode": {
    "name": "ipython",
    "version": 3
   },
   "file_extension": ".py",
   "mimetype": "text/x-python",
   "name": "python",
   "nbconvert_exporter": "python",
   "pygments_lexer": "ipython3",
   "version": "3.5.4"
  }
 },
 "nbformat": 4,
 "nbformat_minor": 2
}
